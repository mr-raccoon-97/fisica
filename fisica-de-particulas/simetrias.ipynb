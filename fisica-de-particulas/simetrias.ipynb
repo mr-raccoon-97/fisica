{
 "cells": [
  {
   "cell_type": "markdown",
   "metadata": {},
   "source": [
    "### Simetrías\n",
    "\n",
    "Las simetrías desempeñan un papel importante en la física de partículas elementales, en parte debido a su relación con las leyes de conservación y en parte porque permiten avanzar cuando aún no se dispone de una teoría dinámica completa. \n",
    "\n",
    "El teorema de Noether establece que a cada simetría continua de un sistema físico le corresponde una cantidad conservada. A cada cantidad conservada se le asocia una simetría.\n",
    "\n",
    "Algunos ejemplos de esto son:\n",
    "\n",
    "| Simetría                  | Ley de conservación  |\n",
    "|---------------------------|----------------------|\n",
    "| Traslación en el espacio  | Momento lineal       |\n",
    "| Traslación en el tiempo   | Energía              |\n",
    "| Rotación en el espacio    | Momento angular      |\n",
    "| Rotación en el espacio    | Momento angular      |\n",
    "| Transformación de Gauge   | Carga eléctrica      |"
   ]
  },
  {
   "cell_type": "markdown",
   "metadata": {},
   "source": [
    "\n",
    "**Definición**: Se define una simetría como una transformación que deja invariante la acción de un sistema físico. La acción es una cantidad que se define a partir de la lagrangiana del sistema y que es un funcional de las coordenadas y sus derivadas. La acción es invariante bajo una transformación si la lagrangiana se mantiene invariante.\n",
    "\n",
    "**Propiedades**: El conjunto de todas las operaciones de simetria tiene la siguientes propiedades:\n",
    "\n",
    "- **Clausura**: Si $R_i$ y $R_j$ son dos operaciones de simetría, entonces $R_i \\circ R_j$ también es una operación de simetría.\n",
    "\n",
    "- **Identidad**: Existe un elemento $I$ tal que $I \\circ R = R \\circ I = R$ para toda operación de simetría $R$.\n",
    "\n",
    "- **Inverso**: Para cada operación de simetría $R$ existe una operación de simetría $R^{-1}$ tal que $R \\circ R^{-1} = R^{-1} \\circ R = I$.\n",
    "\n",
    "- **Asociatividad**: $(R_i \\circ R_j) \\circ R_k = R_i \\circ (R_j \\circ R_k)$"
   ]
  },
  {
   "cell_type": "markdown",
   "metadata": {},
   "source": [
    "Estas son las definiciones de un **grupo**. La teoría de grupos puede ser entendida como es estudio sistemático de las simetrías.\n",
    "\n",
    "Notese que algunos elementos del grupo pueden no conmutar, es decir $R_i \\circ R_j \\neq R_j \\circ R_i$. Si todos los elementos de un grupo conmutan, se dice que el grupo es **abeliano**.\n",
    "\n",
    "Los grupos pueden ser finitos o infinitos. Se pueden encontrar grupos continuos en los cuales los elementos dependen de un parámetro continuo, o discretos. \n",
    "\n",
    "La mayoría de los grupos en física pueden ser formulados como grupos de matrices. Por ejemplo el grupo de Lorentz que es un conjunto de matrices $4 \\times 4$ que dejan invariante el producto escalar de Minkowski. \n",
    "\n",
    "En fisica de partículas, estos grupos son el grupo $U(n)$, la colleción de todas las matrices unitarias $n \\times n$. Si las matrices tienen determinante 1, se tiene el grupo $SU(n)$. Si las matrices son reales y ortogonales, se tiene el grupo $O(n)$. Finalmente si las matrices son reales, ortogonales y tienen determinante 1, se tiene el grupo $SO(n)$."
   ]
  },
  {
   "cell_type": "markdown",
   "metadata": {},
   "source": [
    "### Representaciones\n",
    "\n",
    "Cada grupo $G$, puede ser representado por un grupo de matrices. A cada elemento $a$ del grupo, le corresponde una matriz $M_a$, y su correspondencia respeta la multiplicación de los elementos del grupo. Es decir, si $a$ y $b$ son elementos del grupo, entonces $M_{a \\circ b} = M_a M_b$.\n",
    "\n",
    "Es trivial ver que se le puede asignar a cada elemento de un grupo una matriz identidad. Esta se denomina la representación fundamental. \n",
    "\n",
    "Luego un grupo puede tener más de una representación. Siempre es posible construir una nueva representación a partir de otras dos como:\n",
    "\n",
    "$$ M_a = \\begin{pmatrix} M_{a}^{(1)} & 0 \\\\ 0 & M_{a}^{(2)} \\end{pmatrix} $$\n",
    "\n",
    "Sin embargo esta no se cuenta de forma separada. Cuando se habla de las representaciones de un grupo, se hace referencia a las representaciones irreducibles, es decir aquellas que no pueden ser descompuestas en bloques diagonales."
   ]
  },
  {
   "cell_type": "markdown",
   "metadata": {},
   "source": [
    "### Momento angular\n",
    "\n",
    "Clásicamente, se pueden medir las componentes del momento angular de una partícula. En mecánica cuántica, sin embargo, es imposible en principio, medir las tres componentes simultáneamente. La medición de una componente del momento angular, implica el cambio de la componente de otra dirección por una cantidad impredecible.\n",
    "\n",
    "Lo mejor que se puede hacer es medir la magnitud del momento $\\vec{L}$, en el cual pueden observarse los autovalores. \n",
    "\n",
    "$$ L^2 \\ket{l,m} = l(l+1) \\hbar^2 \\ket{l,m} \\qquad l = 0, 1, 2, 3, ...$$\n",
    "\n",
    "Dado un valor de $l$, se pueden btener $2l+1$ autovalores posibles.\n",
    "\n",
    "$$ L_z \\ket{l,m} = m \\hbar \\ket{l,m} \\qquad m = -l, -l+1, ..., -1, 0, +1, ..., l-1, l $$\n",
    "\n"
   ]
  },
  {
   "cell_type": "markdown",
   "metadata": {},
   "source": [
    "Lo mismo ocurre con el espín, solo que ahora los autovalores son $s(s+1)$ y $s_z$ puede tomar valores semienteros.\n",
    "\n",
    "$$ S^2 \\ket{s,m} = s(s+1) \\hbar^2 \\ket{s,m} \\qquad s = 0, \\frac{1}{2}, 1, \\frac{3}{2}, 2, ...$$\n",
    "\n",
    "Ahora para cada tipo de particula, puede darse cualquier valor de momento angular orbital $l$, pero $s$ esta definido por el tipo de particula.\n",
    "\n",
    "Particulas con espín entero se llaman bosones, y particulas con espín semientero se llaman fermiones.\n",
    "\n",
    "Los bosones de spin 0 se denominan mesones pseudoescalares, los de spin 1 se denominan mesones mediadores vectoriales.\n",
    "\n",
    "Los fermiones de spin 1/2 se denominan leptones y quarks y pertenecen al octeto de bariones en cambio, los fermiones de spin 3/2 pertenecen al decuplete de bariones."
   ]
  },
  {
   "cell_type": "markdown",
   "metadata": {},
   "source": [
    "### Adición del momento angular\n",
    "\n",
    "Se procede ahora a estudiar la adición de dos momentos angulares $\\vec{J}_1$ y $\\vec{J}_2$.\n",
    "\n",
    "$$ \\vec{J} = \\vec{J}_1 + \\vec{J}_2 $$\n",
    "\n",
    "Si bien hay casos en los que este problema se resuelve usando la base desacoplada, en general se resuelve utilizando las reglas de acoplamiento del momento angular. \n",
    "\n",
    "Vimos que el operador cuadrático asociado $hat{J}^2$ y su componente $\\hat{J}_z$ verifican:\n",
    "\n",
    "$$ \\hat{J}^2 \\ket{j,m} = j(j+1) \\hbar^2 \\ket{j,m} \\qquad \\hat{J}_z \\ket{j,m} = m \\hbar \\ket{j,m} $$\n",
    "\n",
    "En donde $j$ es el momento angular total y $m$ es la componente del momento angular total. Notemos que el operador $\\hat{J}^2$ está dado por:\n",
    "\n",
    "$$ \\hat{J}^2 = \\hat{J}_1^2 + \\hat{J}_2^2 + 2 \\vec{J}_1 \\cdot \\vec{J}_2 $$\n",
    "\n",
    "En donde se puede demostrar que:\n",
    "\n",
    "$$ \\vec{J}_1 \\cdot \\vec{J}_2 = \\frac{1}{2}(\\hat{J}_{1+} \\hat{J}_{2-} + \\hat{J}_{1-} \\hat{J}_{2+}) +  \\hat{J}_{1z} \\hat{J}_{2z} $$\n",
    "\n",
    "Utilizando esto se puede probar que cuando $\\vec{J}_1$ y $\\vec{J}_2$ están alineados, los momentos angulares se suman y el valor máximo del número cuántico $j$ es: \n",
    "\n",
    "$$j_{máx} = j_1 + j_2$$\n",
    "\n",
    "Cuando los momentos angulares se encuentran en dirección opuesta, el valor mínimo del número cuántico $j$ es:\n",
    "\n",
    "$$j_{min} = |j_1 - j_2|$$\n",
    "\n",
    "\n",
    "Por lo que los posibles valores para el número cuántico $j$ y los valores para el número cuántico $m$ son:\n",
    "\n",
    "$$ j = |l_1 - l_2|, |l_1 - l_2| + 1, ..., l_1 + l_2 $$\n",
    "\n",
    "$$ m = -j, -j+1, ..., -1, 0, 1, ..., j-1, j $$\n",
    "\n"
   ]
  },
  {
   "cell_type": "markdown",
   "metadata": {},
   "source": [
    "La transformación entre la base desacoplada $\\{ \\ket{l_1, m_1} \\otimes \\ket{l_2, m_2} \\}$ y la base acoplada $\\{ \\ket{j, m} \\}$ se realiza mediante los coeficientes de Clebsch-Gordan:\n",
    "\n",
    "$$ \\ket{j, m} = \\sum_{m_1, m_2} C_{l_1, m_1, l_2, m_2}^{j, m} \\ket{l_1, m_1, l_2, m_2} $$\n",
    "\n",
    "$$ C_{l_1, m_1, l_2, m_2}^{j, m} =  \\langle l_1, m_1, l_2, m_2 | j, m \\rangle \\qquad m_1 + m_2 = m $$"
   ]
  },
  {
   "cell_type": "markdown",
   "metadata": {},
   "source": [
    "### Espín $\\frac{1}{2}$\n",
    "\n",
    "El sistema de espines más importante es el de espines $\\frac{1}{2}$. Los protones, neutrones, todos los quarks y leptones tienen espines $\\frac{1}{2}$. "
   ]
  },
  {
   "cell_type": "markdown",
   "metadata": {},
   "source": [
    "### Simetría de sabores\n",
    "\n",
    "Hay una propiedad extraordinaria acerca del neutrón y es que este es casi idéntico al protón.  "
   ]
  },
  {
   "cell_type": "markdown",
   "metadata": {},
   "source": []
  }
 ],
 "metadata": {
  "language_info": {
   "name": "python"
  }
 },
 "nbformat": 4,
 "nbformat_minor": 2
}
