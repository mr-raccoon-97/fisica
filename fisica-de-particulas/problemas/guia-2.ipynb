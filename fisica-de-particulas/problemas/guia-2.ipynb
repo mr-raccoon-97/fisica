{
 "cells": [
  {
   "cell_type": "markdown",
   "metadata": {},
   "source": [
    "### Problema 1\n",
    "\n",
    "- Demostrar que el conjunto $U(n)$ de todas las matrices unitarias $n \\times n$ constituye un grupo.\n",
    "- Demostrar que el conjunto $S(n)$ de todas las matrices con determinante 1 constituye un grupo.\n",
    "- Demostrar que el conjunto $O(n)$ de todas las matrices ortogonales $n \\times n$ constituye un grupo.\n",
    "- Demostrar que el conjunto $SO(n)$ de todas las matrices ortogonales $n \\times n$ con determinante 1 constituye un grupo."
   ]
  },
  {
   "cell_type": "markdown",
   "metadata": {},
   "source": [
    "### Solución\n",
    "\n",
    "Un grupo es un conjunto $G$ con una operación binaria $\\circ$ que satisface las siguientes propiedades:\n",
    "\n",
    "- **Clausura**: Si $R_i$ y $R_j$ son dos elementos de $G$, entonces $R_i \\circ R_j$ también es un elemento de $G$.\n",
    "\n",
    "- **Identidad**: Existe un elemento $I$ tal que $I \\circ R = R \\circ I = R$ para toda elemento $R$.\n",
    "\n",
    "- **Inverso**: Para cada elemento $R$ existe otro $R^{-1}$ tal que $R \\circ R^{-1} = R^{-1} \\circ R = I$.\n",
    "\n",
    "- **Asociatividad**: $(R_i \\circ R_j) \\circ R_k = R_i \\circ (R_j \\circ R_k)$ para toda $R_i$, $R_j$ y $R_k$ en $G$."
   ]
  },
  {
   "cell_type": "markdown",
   "metadata": {},
   "source": [
    "**Grupo $U(n)$ de matrices unitarias**\n",
    "\n",
    "- **Clausura**: Si $U_i$ y $U_j$ son dos matrices unitarias, entonces $U_i U_j$ también es una matriz unitaria. Esto se debe a que el producto de dos matrices unitarias es una matriz unitaria.\n",
    "\n",
    "- **Identidad**: La matriz identidad $I$ es una matriz unitaria, ya que $I^{\\dagger} I = I I^{\\dagger} = I$. Esto es la existencia de la matriz identidad esta garantizada.\n",
    "\n",
    "- **Inverso**: Si $U$ es una matriz unitaria, entonces $U^{\\dagger}$ es su inversa para el producto de matrices, ya que $U U^{\\dagger} = U^{\\dagger} U = I$.\n",
    "\n",
    "- **Asociatividad**: La multiplicación de matrices es asociativa, por lo que la multiplicación de matrices unitarias también es asociativa."
   ]
  },
  {
   "cell_type": "markdown",
   "metadata": {},
   "source": []
  },
  {
   "cell_type": "markdown",
   "metadata": {},
   "source": [
    "### Problema 2\n",
    "\n",
    "Supongamos que interpretamos el electrón literalmente como una esfera sólida clásica de radio $r$ y masa $m$, que gira con momento angular $\\frac{1}{2}\\hbar$. Cual la velocidad $\\vec{v}$ de un punto en su ecuador?. Experimentalmente se sabe que $r$ es inferior a los $10^{-16} \\text{cm}$. Cual es la velocidad ecuatorial correspondiente? Que se deduce de ello?."
   ]
  },
  {
   "cell_type": "markdown",
   "metadata": {},
   "source": [
    "### Solución\n",
    "\n",
    "Se puede relacionar el momento angular con la frecuencia angular $\\omega$ y el momento de inercia como $L = I \\omega$. Para una esfera sólida, el momento de inercia es $I = \\frac{2}{5} m r^2$. Por otro lado, la velocidad tangencial de un punto en el ecuador de la esfera es $v = r \\omega$. Sustituyendo en la relación del momento angular, se tiene que:\n",
    "\n",
    "$$ L = I \\omega \\Rightarrow \\frac{1}{2} \\hbar = \\frac{2}{5} m r^2 \\omega \\Rightarrow \\omega = \\frac{5 \\hbar}{4 m r^2} $$\n",
    "\n",
    "$$ \\Rightarrow v = r \\omega = \\frac{5 \\hbar}{4 m r} $$\n",
    "Si se considera $r = 10^{-18} \\text{m}$ y $m = m_e$, reemplazando:\n",
    "\n",
    "- $\\hbar = 1.05 \\times 10^{-34} \\text{J s}$\n",
    "- $m_e = 9.11 \\times 10^{-31} \\text{kg}$\n",
    "- $r = 10^{-18} \\text{m}$"
   ]
  },
  {
   "cell_type": "code",
   "execution_count": 5,
   "metadata": {},
   "outputs": [
    {
     "name": "stdout",
     "output_type": "stream",
     "text": [
      "1.4407244785949507 x 10^14 m/s\n"
     ]
    }
   ],
   "source": [
    "hbar = 1.05e-34\n",
    "me = 9.11e-31\n",
    "r = 1e-18\n",
    "\n",
    "v = lambda m,r: 5*hbar/(4*m*r)\n",
    "print(v(me,r)*10**-14, \"x 10^14 m/s\")"
   ]
  },
  {
   "cell_type": "markdown",
   "metadata": {},
   "source": [
    "Se obtiene que la velocidad en el ecuador es de $1.44 \\times 10^14 \\text{ms}^{-1}$, que es mucho mayor que la velocidad de la luz ($3 \\times 10^8 \\text{ms}^{-1}$). Esto implica que la interpretación clásica del electrón como una esfera sólida no es válida."
   ]
  },
  {
   "cell_type": "markdown",
   "metadata": {},
   "source": [
    "### Problema 3\n",
    "\n",
    "Demostrar que la reacción original de desintegración beta $n \\rightarrow p + e^-$ viola la conservación del momento angular. Si se propusiera $n \\rightarrow p + e + \\bar{\\nu}_e$, que espín se le asignaría al anti-neutrino?"
   ]
  },
  {
   "cell_type": "markdown",
   "metadata": {},
   "source": [
    "### Solución\n",
    "\n"
   ]
  },
  {
   "cell_type": "markdown",
   "metadata": {},
   "source": [
    "Veamos el momento angular de spín del producto $p + e^{-}$. Esto es:\n",
    "\n",
    "$$ \\vec{S} = \\vec{S_1} + \\vec{S_2}$$\n",
    "\n",
    "Notemos que los autoestados y autoenergias de los operadores $S^2$ y $S_z$ son:\n",
    "\n",
    "$$ S^2 \\ket{s,m} = s(s+1) \\hbar^2 \\ket{s,m} \\qquad S_z \\ket{s,m} = m \\hbar \\ket{s,m} $$\n",
    "\n",
    "En donde los valores mínimos y máximos permitidos para el número cuántico del momento angular total serán $s_{mín} = |s_1 - s_2| = 0$ y $s_{máx} = s_1 + s_2 = 1 $, es decir $s = 0,1$. Luego, los valores permitidos para $m$ serán $m = -1, 0, 1$. Esto va en contradicción con el hecho de que el neutron tiene espín $1/2$, es decir la suma debería tener un espín semi-entero. Por lo tanto, la reacción $n \\rightarrow p + e^-$ viola la conservación del momento angular."
   ]
  },
  {
   "cell_type": "markdown",
   "metadata": {},
   "source": [
    "Introduzcamos ahora al anti-neutrino en la reacción. Tenemos ahora que $n \\rightarrow p + e + \\bar{\\nu}_e$, denotamos $\\vec{S_3}$ al espín del anti-neutrino y $\\vec{J}$ al espín del neutrón. La conservación del momento angular implica que:\n",
    "\n",
    "$$ \\vec{J} = \\vec{S} + \\vec{S_3} $$\n",
    "\n",
    "Se sabe que el neutrón tiene espín $1/2$. Tenemos ahora dos casos posibles:\n",
    "\n",
    "- El numero cuantico del momento angular suma del electrón y el protón es $s = 0$. Es trivial ver que el anti-neutrino debe tener espín $1/2$.\n",
    "- El número cuántico del momento angular suma del electrón y el protón es $s = 1$. \n",
    "\n",
    "En este ultimo caso, vemos que $j_{mín} = |1 - s|$ y $j_{máx} = 1 + s$, en donde $s$ es el espín del anti-neutrino. Como sabemos que el neutron tiene espín $1/2$, entonces necesariamente $s = 1/2$ o $s = 3/2$, ya que de otro modo, el minimo valor permitido para el espín del neutrón sería mayor a $1/2$.\n",
    "\n",
    "En ambos casos, un neutrino con espín $1/2$ conserva el momento angular. Solo en el caso de que el momento angular del sistema electron-neutrino sea $s = 1$, el anti-neutrino podria llegar a tener espín $3/2$. Lo mas razonable es que el anti-neutrino tenga espín $1/2$."
   ]
  },
  {
   "cell_type": "markdown",
   "metadata": {},
   "source": [
    "### Problema 4\n",
    "\n"
   ]
  },
  {
   "cell_type": "markdown",
   "metadata": {},
   "source": []
  }
 ],
 "metadata": {
  "kernelspec": {
   "display_name": "torch",
   "language": "python",
   "name": "python3"
  },
  "language_info": {
   "codemirror_mode": {
    "name": "ipython",
    "version": 3
   },
   "file_extension": ".py",
   "mimetype": "text/x-python",
   "name": "python",
   "nbconvert_exporter": "python",
   "pygments_lexer": "ipython3",
   "version": "3.12.2"
  }
 },
 "nbformat": 4,
 "nbformat_minor": 2
}
