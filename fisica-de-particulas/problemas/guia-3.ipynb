{
 "cells": [
  {
   "cell_type": "markdown",
   "metadata": {},
   "source": [
    "### Problema 2\n",
    "\n",
    "Una partícula no relativista de masa $m$ y energía cinética $E$ se dispersa desde un potencial repulsivo fijo, $V(R) = k/r^2$ donde $k$ es una constante.\n",
    "\n",
    "- Hallar el ángulo de dispersión $\\theta$ en función del parámetro de impacto $b$.\n",
    "\n",
    "- Determinar la sección eficaz diferencial $d \\sigma / d \\Omega$ en función de $\\theta$.\t\n",
    "\n",
    "- Calcular la sección eficaz total $\\sigma$."
   ]
  },
  {
   "cell_type": "markdown",
   "metadata": {},
   "source": [
    "\n",
    "Consideremos el problema en coordenadas polares. Esto es:\n",
    "\n",
    "$$ \\vec{r} = r \\hat{r} \\qquad \\vec{v} = \\dot{r} \\hat{r} + r \\dot{\\phi} \\hat{\\phi} $$\n",
    "\n",
    "La energía total de la partícula y su momento angular son:\n",
    "\n",
    "$$ E = \\frac{1}{2} m \\left( \\dot{r}^2 + r^2 \\dot{\\phi}^2 \\right) + V(r) \\qquad L = m r^2 \\dot{\\phi} $$\n",
    "\n",
    "Al iniciar el problema, la partícula se encuentra a una distancia $r = b$ del origen y con velocidad $\\vec{v} = v_0 \\hat{r}$. Esto nos da las condiciones iniciales:\n",
    "\n",
    "$$ E_0 = \\frac{1}{2} m v_0^2 + V(r_0) \\qquad L_0 = m b v_0 $$\n",
    "\n",
    "La energía total y el momento angular se conservan durante la trayectoria de la partícula. Esto es:\n",
    "\n",
    "$$L = L_0 \\Rightarrow m r^2 \\dot{\\phi} =  m b v_0 \\Rightarrow \\dot{\\phi} = \\frac{b v_0}{r^2}$$\n",
    "\n",
    "$$ E = E_0 \\Rightarrow \\frac{1}{2} m \\left( \\dot{r}^2 + r^2 \\dot{\\phi}^2 \\right) + \\frac{k}{r^2} = \\frac{1}{2} m v_0^2 $$\n",
    "\n",
    "$$ \\dot{r}^2 + r^2 (\\frac{b v_0}{r^2})^2 = v_0^2 - \\frac{2k}{mr^2}$$\n",
    "\n",
    "$$ \\dot{r}^2 = v_0^2 - \\frac{v_0^2}{r^2}(\\frac{2k}{m v_0^2} + b^2)$$"
   ]
  },
  {
   "cell_type": "markdown",
   "metadata": {},
   "source": [
    "Tomando cambio de variable $u = 1/r$:\n",
    "\n",
    "$$ \\frac{dr}{d\\phi} = \\frac{dr}{du} \\frac{du}{d\\phi} = - \\frac{1}{u^2} \\frac{du}{d\\phi} \\qquad \\dot{r} = \\frac{dr}{d\\phi} \\dot{\\phi} =  - \\frac{1}{u^2} \\frac{du}{d\\phi}\\frac{b v_0}{r^2} = - b v_0 \\frac{du}{d\\phi}$$"
   ]
  },
  {
   "cell_type": "markdown",
   "metadata": {},
   "source": [
    "Reemplazanado en la ecuación de movimiento:\n",
    "\n",
    "$$ (b v_0 \\frac{du}{d\\phi} )^2= v_0^2 - \\frac{v_0^2}{r^2}(\\frac{2k}{m v_0^2} + b^2) \\Rightarrow \\frac{du}{d\\phi} = \\frac{1}{b} \\sqrt{1 - (\\frac{2k}{m} + b^2)u^2}$$\n",
    "\n",
    "Integrando desde $\\phi = 0$ hasta el centro dispersor $\\phi = \\varphi$, la integral sobre $u$ recorre los valores desde $0$ hasta $u_{máx}$, es decir, desde el valor $r = \\infty$ hasta el valor $r_{mín}$. Esto es:\n",
    "\n",
    "$$ \\int_{0}^{\\varphi} d\\phi = \\int_{0}^{u_{máx}} \\frac{b du}{\\sqrt{1 - (\\frac{2k}{m} + b^2)u^2}} \\Rightarrow \\varphi = \\frac{b}{\\sqrt{b^2 + \\frac{2k}{m}}}  \\int_{0}^{u_{máx}} \\frac{du}{\\sqrt{\\frac{1}{b^2 + \\frac{2k}{m}} - u^2}} = b u_{máx} \\int_{0}^{u_{máx}} \\frac{du}{\\sqrt{u^2_{máx}- u^2}}$$\n",
    "\n",
    "$$ \\varphi = b u_{máx} \\arcsin(\\frac{u}{u_{máx}}) \\Big|_{0}^{u_{máx}} = \\frac{\\pi b}{2 \\sqrt{b^2 + \\frac{2k}{m}}}$$\n",
    "\n",
    "Reemplazando el angulo de dispersión $\\theta = \\pi - 2\\varphi$ se obtiene finalmente el angulo de dispersión en función del parámetro de impacto:\n",
    "\n",
    "$$ \\theta = \\pi \\left(1 - \\frac{b}{\\sqrt{b^2 + \\frac{2k}{m}}} \\right)$$"
   ]
  },
  {
   "cell_type": "markdown",
   "metadata": {},
   "source": [
    "Problem 6.5). Remember that r was short for the variable IP21; ro is theparticulur\n",
    "value of Ip21 that is consistent with conservation of energy, and Equation 6.25\n",
    "simply reproduces the result we obtained back in Chapter 3 (Problem 3.19). In\n",
    "more comprehensible notation, then,"
   ]
  },
  {
   "cell_type": "markdown",
   "metadata": {},
   "source": [
    "### Problema 3\n",
    "\n",
    "Demostrar que para la desintegración de una partícula en dos partículas, la tasa de desintegración se puede escribir como:\n",
    "\n",
    "$$ \\Gamma = \\frac{S}{8\\pi \\hbar m_1} \\int_{(m_1 + m_2)/c}^{\\infty} |\\mathcal{M}|^2 \\delta(m_1c - u) \\frac{r}{u}du$$\n",
    "\n",
    "Y que el valor particular del momento de la segunda partícula, consistente con la conservación de la energía y el momento, es:\n",
    "\n",
    "$$ p_0 = \\frac{c}{2m_1}\\sqrt{m_1^4 + m_2^4 + m_3^4 - 2m_1^2 m_2^2 - 2m_1^2 m_3^2 - 2m_2^2 m_3^2}$$\n",
    "\n",
    "En donde $m_1$ es la masa de la partícula original, $m_2$ y $m_3$ son las masas de las partículas hijas, $S$ es el factor de espín, $\\mathcal{M}$ es la matriz de elementos de matriz de la desintegración."
   ]
  },
  {
   "cell_type": "markdown",
   "metadata": {},
   "source": [
    "# Problema 4\n",
    "\n",
    "Hallar la sección eficaz diferencial $d \\sigma / d \\Omega$ en función del ángulo de dispersión $\\theta$ para el proceso de dispersión: \n",
    "\n",
    "$$ 1 + 2 \\rightarrow 3 + 4 $$"
   ]
  },
  {
   "cell_type": "markdown",
   "metadata": {},
   "source": [
    "### Problema 5\n",
    "\n",
    "- Es $A \\rightarrow B + B$ un proceso permitido en la teoría $ABC$?\n",
    "- Supongamos que un diagrama tiene $n_A$ lineas $A$ externas, $n_B$ lineas $B$ externas y $n_C$ lineas $C$ externas. Desarrollar un criterio sencillo para determinar si se trata de una reacción permitida.\n",
    "- Suponiendo que $A$ es suficientemente pesada, ¿cuáles son los siguientes modos de desintegración más probables, despues de $A \\rightarrow B + C$?. Dibuja los diagramas de Feynman correspondientes."
   ]
  },
  {
   "cell_type": "markdown",
   "metadata": {},
   "source": [
    "### Problema 6\n",
    "\n",
    "Calcular la sección eficaz $d\\sigma / d\\Omega$ para la dispersión $A + A \\rightarrow B + B$. Hallar la sección eficaz total $\\sigma$."
   ]
  }
 ],
 "metadata": {
  "language_info": {
   "name": "python"
  }
 },
 "nbformat": 4,
 "nbformat_minor": 2
}
