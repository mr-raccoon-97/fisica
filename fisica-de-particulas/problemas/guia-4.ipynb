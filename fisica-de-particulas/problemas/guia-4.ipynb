{
 "cells": [
  {
   "cell_type": "markdown",
   "metadata": {},
   "source": [
    "### Problema 1\n",
    "\n",
    "Demostrar que las soluciones a la ecuación de Dirac:\n",
    "\n",
    "$$ u^{(1)} = N \\begin{pmatrix} 1 \\\\ 0 \\\\ \\frac{cp_z}{E + mc^2} \\\\ \\frac{c(p_x + i p_y)}{E + mc^2} \\end{pmatrix} \\quad \\text{y} \\quad u^{(2)} = N \\begin{pmatrix} 0 \\\\ 1 \\\\ \\frac{c(p_x - i p_y)}{E + mc^2} \\\\ \\frac{-cp_z}{E + mc^2} \\end{pmatrix} $$\n",
    "\n",
    "\n",
    "$$ v^{(1)} = N \\begin{pmatrix} \\frac{c(p_x - i p_y)}{E + mc^2} \\\\ \\frac{-cp_z}{E + mc^2} \\\\ 0 \\\\ 1 \\end{pmatrix} \\quad \\text{y} \\quad v^{(2)} = - N \\begin{pmatrix} \\frac{cp_z}{E + mc^2} \\\\ \\frac{c(p_x + i p_y)}{E + mc^2} \\\\ 1 \\\\ 0 \\end{pmatrix} $$\n",
    "\n",
    "Son ortogonales, es decir $(u^{(1)})^{\\dagger}u^{(1)} = (u^{(2)})^{\\dagger}u^{(2)} = 0$, y $(v^{(1)})^{\\dagger}v^{(1)} = (v^{(2)})^{\\dagger}v^{(2)} = 0$.\n",
    "\n",
    "Son $u^{(1)}$ y $v^{(1)}$ ortogonales entre si?"
   ]
  },
  {
   "cell_type": "markdown",
   "metadata": {},
   "source": [
    "### Solución\n",
    "\n",
    "Es directo verificar que las funciones de onda de las partículas son ortogonales entre sí, y también que las funciones de onda de las antipartículas.\n",
    "\n",
    "$$ (u^{(1)})^{\\dagger} u^{(2)} = N^2 \\begin{pmatrix} 1 & 0 & \\frac{cp_z}{E + mc^2} & \\frac{c(p_x - i p_y)}{E + mc^2} \\end{pmatrix} \\begin{pmatrix} 0 \\\\ 1 \\\\ \\frac{c(p_x - i p_y)}{E + mc^2} \\\\ \\frac{-cp_z}{E + mc^2} \\end{pmatrix} = 0$$\n",
    "\n",
    "\n",
    "$$ (v^{(1)})^{\\dagger} v^{(2)} = N^2\\begin{pmatrix} \\frac{c(p_x + i p_y)}{E + mc^2} & \\frac{-cp_z}{E + mc^2} & 0 & 1 \\end{pmatrix} \\begin{pmatrix} \\frac{cp_z}{E + mc^2} \\\\ \\frac{c(p_x + i p_y)}{E + mc^2} \\\\ 1 \\\\ 0 \\end{pmatrix} = 0$$"
   ]
  },
  {
   "cell_type": "markdown",
   "metadata": {},
   "source": [
    "Sin embargo las, funciones de onda de las partículas y antipartículas no son ortogonales entre si:\n",
    "\n",
    "$$ (u^{(1)})^{\\dagger} v^{(1)} = N^2 \\begin{pmatrix} 1 & 0 & \\frac{cp_z}{E + mc^2} & \\frac{c(p_x + i p_y)}{E + mc^2} \\end{pmatrix}  \\begin{pmatrix} \\frac{c(p_x - i p_y)}{E + mc^2} \\\\ \\frac{-cp_z}{E + mc^2} \\\\ 0 \\\\ 1 \\end{pmatrix}$$\n",
    "\n",
    "$$ = N^2(\\frac{c(p_x - i p_y)}{E + mc^2} + \\frac{c(p_x + i p_y)}{E + mc^2}) \\neq 0 $$"
   ]
  },
  {
   "cell_type": "markdown",
   "metadata": {},
   "source": [
    "### Problema 2\n",
    "Demostrar que si el eje $Z$ apunta a lo largo de la dirección del movimiento, la solución $u^{(1)}$ se reduce a:\n",
    "\n",
    "$$ u^{(1)} = \\begin{pmatrix} \\sqrt{(E + mc^2)/c} \\\\ 0 \\\\ \\sqrt{(E - mc^2)/c} \\\\ 0 \\end{pmatrix}$$\n",
    "\n",
    "Construir $u^{(2)}$, $v^{(1)}$ y $v^{(2)}$ y confirmar que son autoespinores de $\\hat{S}_z$ y hallar los valores propios."
   ]
  },
  {
   "cell_type": "markdown",
   "metadata": {},
   "source": [
    "### Solución\n",
    "\n",
    "Si el eje $Z$ apunta a lo largo de la dirección del movimiento, entonces $p_x = p_y = 0$, y $p_z = |\\vec{p}|$. Usando que:\n",
    "\n",
    "- La constante de normalización es $N = \\sqrt{(E + mc^2)/c}$\n",
    "- La magnitud del momento es $|\\vec{p}| = \\sqrt{E^2 - m^2 c^4} = \\sqrt{(E - m c^2)(E + m c^2)}$\n",
    "\n",
    "$$ u^{(1)} = N \\begin{pmatrix} 1 \\\\ 0 \\\\ \\frac{c |\\vec{p}|}{E + mc^2} \\\\ 0 \\end{pmatrix} =\n",
    " \\begin{pmatrix} \\sqrt{(E + mc^2)/c} \\\\ 0 \\\\ \\sqrt{(E - m c^2)/c} \\\\ 0 \\end{pmatrix}\n",
    "$$\n",
    "\n",
    "De la misma forma se pueden construir:\n",
    "\n",
    "\n",
    "$$ u^{(2)} = \\begin{pmatrix} 0 \\\\ \\sqrt{(E + mc^2)/c} \\\\ 0 \\\\ -\\sqrt{(E - m c^2)/c} \\end{pmatrix} $$\n",
    "\n",
    "\n",
    "$$ v^{(1)} =  \\begin{pmatrix} 0 \\\\  -\\sqrt{(E - m c^2)/c}  \\\\ 0 \\\\ \\sqrt{(E + mc^2)/c} \\end{pmatrix} \\quad \\text{y} \\quad v^{(2)} = - \\begin{pmatrix} \\sqrt{(E - m c^2)/c} \\\\ 0 \\\\ \\sqrt{(E + mc^2)/c} \\\\ 0 \\end{pmatrix} $$\n",
    "\n",
    "Veamos ahora si son autoespinores del operador $\\hat{S}_z$.\n",
    "\n",
    "$$\\hat{S}_z = \\frac{\\hbar}{2}\\begin{pmatrix} \\hat{\\sigma}_z & 0 \\\\ 0 & \\hat{\\sigma}_z \\end{pmatrix} = \\frac{\\hbar}{2}\\begin{pmatrix} 1 & 0 & 0 & 0 \\\\ 0 & -1 & 0 & 0 \\\\ 0 & 0 & 1 & 0 \\\\ 0 & 0 & 0 & -1 \\end{pmatrix}$$\n",
    "\n",
    "$$ \\hat{S}_z u^{(1)} = \\frac{\\hbar}{2} \\begin{pmatrix} 1 & 0 & 0 & 0 \\\\ 0 & -1 & 0 & 0 \\\\ 0 & 0 & 1 & 0 \\\\ 0 & 0 & 0 & -1 \\end{pmatrix} \\begin{pmatrix} \\sqrt{(E + mc^2)/c} \\\\ 0 \\\\ \\sqrt{(E - m c^2)/c} \\\\ 0 \\end{pmatrix} =  \\frac{\\hbar}{2}  \\begin{pmatrix} \\sqrt{(E + mc^2)/c} \\\\ 0 \\\\ \\sqrt{(E - m c^2)/c} \\\\ 0 \\end{pmatrix} = \\frac{\\hbar}{2} u^{(1)}$$\n",
    "\n",
    "\n",
    "$$ \\hat{S}_z u^{(2)} = \\frac{\\hbar}{2} \\begin{pmatrix} 1 & 0 & 0 & 0 \\\\ 0 & -1 & 0 & 0 \\\\ 0 & 0 & 1 & 0 \\\\ 0 & 0 & 0 & -1 \\end{pmatrix} \\begin{pmatrix} 0 \\\\ \\sqrt{(E + mc^2)/c} \\\\ 0 \\\\ -\\sqrt{(E - m c^2)/c} \\end{pmatrix} = -\\frac{\\hbar}{2}  \\begin{pmatrix} 0 \\\\ \\sqrt{(E + mc^2)/c} \\\\ 0 \\\\ -\\sqrt{(E - m c^2)/c} \\end{pmatrix} = -\\frac{\\hbar}{2} u^{(2)}$$\n",
    "\n",
    "$$ \\hat{S}_z v^{(1)} = \\frac{\\hbar}{2} \\begin{pmatrix} 1 & 0 & 0 & 0 \\\\ 0 & -1 & 0 & 0 \\\\ 0 & 0 & 1 & 0 \\\\ 0 & 0 & 0 & -1 \\end{pmatrix} \\begin{pmatrix} 0 \\\\  -\\sqrt{(E - m c^2)/c}  \\\\ 0 \\\\ \\sqrt{(E + mc^2)/c} \\end{pmatrix} =  -\\frac{\\hbar}{2}  \\begin{pmatrix} 0 \\\\  -\\sqrt{(E - m c^2)/c}  \\\\ 0 \\\\ \\sqrt{(E + mc^2)/c} \\end{pmatrix} = -\\frac{\\hbar}{2} v^{(1)}$$\n",
    "\n",
    "$$ \\hat{S}_z v^{(2)} = - \\frac{\\hbar}{2} \\begin{pmatrix} 1 & 0 & 0 & 0 \\\\ 0 & -1 & 0 & 0 \\\\ 0 & 0 & 1 & 0 \\\\ 0 & 0 & 0 & -1 \\end{pmatrix} \\begin{pmatrix} \\sqrt{(E - m c^2)/c} \\\\ 0 \\\\ \\sqrt{(E + mc^2)/c} \\\\ 0 \\end{pmatrix} =  - \\frac{\\hbar}{2}  \\begin{pmatrix} \\sqrt{(E - m c^2)/c} \\\\ 0 \\\\ \\sqrt{(E + mc^2)/c} \\\\ 0 \\end{pmatrix} = \\frac{\\hbar}{2} v^{(2)}$$"
   ]
  },
  {
   "cell_type": "markdown",
   "metadata": {},
   "source": [
    "### Problema 3\n",
    "\n",
    "El operador de conjugación de carga ($C$) transforma un espinor de Dirac $\\psi$ en el espinor conjugado de carga $\\psi_c$ dado por:\n",
    "\n",
    "$$ \\psi_c = i \\gamma^2 \\psi^* $$\n",
    "\n",
    "Donde $\\gamma^2$ es la tercera matriz de Dirac, dada por:\n",
    "\n",
    "$$ \\gamma^2 = \\begin{pmatrix} 0 & 0 & 0 & -i \\\\  0 & 0 & i & 0 \\\\ 0 & i & 0 & 0 \\\\ -i & 0 & 0 & 0 \\end{pmatrix} $$\n",
    "\n",
    "Hallar los conjugados de carga de los autoespinores $u^{(1)}$, $u^{(2)}$ y compararlos con $v^{(1)}$ y $v^{(2)}$."
   ]
  },
  {
   "cell_type": "markdown",
   "metadata": {},
   "source": [
    "### Solución\n",
    "\n",
    "Se puede probar que los conjugados de carga de los autoespinores $u^{(1)}$ y $u^{(2)}$ son iguales a los autoespinores $v^{(1)}$ y $v^{(2)}$ respectivamente.\n",
    "\n",
    "$$ u^{(1)}_c = i \\gamma^2 (u^{(1)})^* = N \\begin{pmatrix} 0 & 0 & 0 & 1 \\\\  0 & 0 & -1 & 0 \\\\ 0 & -1 & 0 & 0 \\\\ 1 & 0 & 0 & 0 \\end{pmatrix} \\begin{pmatrix} 1 \\\\ 0 \\\\ \\frac{cp_z}{E + mc^2} \\\\ \\frac{c(p_x - i p_y)}{E + mc^2} \\end{pmatrix} = \\begin{pmatrix} \\frac{c(p_x - i p_y)}{E + mc^2} \\\\ -\\frac{cp_z}{E + mc^2} \\\\ 0 \\\\ 1 \\end{pmatrix} = v^{(1)}$$\n",
    "\n",
    "$$ u^{(2)}_c = i \\gamma^2 (u^{(2)})^* = N \\begin{pmatrix} 0 & 0 & 0 & 1 \\\\  0 & 0 & -1 & 0 \\\\ 0 & -1 & 0 & 0 \\\\ 1 & 0 & 0 & 0 \\end{pmatrix} \\begin{pmatrix} 0 \\\\ 1 \\\\ \\frac{c(p_x - i p_y)}{E + mc^2} \\\\ -\\frac{cp_z}{E + mc^2} \\end{pmatrix} =\\begin{pmatrix}  \\frac{cp_z}{E + mc^2} \\\\  \\frac{c(p_x - i p_y)}{E + mc^2} \\\\1 \\\\0 \\end{pmatrix} = v^{(2)}$$"
   ]
  },
  {
   "cell_type": "markdown",
   "metadata": {},
   "source": [
    "### Problema 4\n",
    "\n",
    "Sea $\\psi$ un espinor de Dirac y queremos transformarlo de un marco de referencia inercial a otro como:\n",
    "\n",
    "$$ i \\hbar \\gamma^{\\mu} \\partial_{\\mu} \\psi - m\\psi \\rightarrow i\\hbar \\gamma^{\\mu} \\partial'_{\\mu}\\psi' - m \\psi' $$\n",
    "\n",
    "En donde:\n",
    "\n",
    "$$\\psi' = S\\psi \\qquad \\partial'_{\\mu} = \\frac{\\partial x^{\\nu}}{\\partial x'^{\\mu}} \\partial_{\\nu} $$\n",
    "\n",
    "Demostrar que $S = a_+ + a_- \\gamma^0 \\gamma^1 $ transforma el espinor de Dirac de un marco de referencia a otro, en donde:\n",
    "\n",
    "$$ a_{\\pm} = \\pm \\sqrt{\\frac{1}{2}(\\gamma \\pm 1)}"
   ]
  },
  {
   "cell_type": "markdown",
   "metadata": {},
   "source": [
    "### Solución\n",
    "\n",
    "La ecuación de Dirac en el marco de referencia primario es:\n",
    "\n",
    "\n",
    "$$ i\\hbar \\gamma^{\\nu} \\partial_{\\nu} \\psi - m c \\psi = 0  $$\n",
    "\n",
    "En el marco de referencia inercial primado es:\n",
    "\n",
    "$$ i\\hbar \\gamma^{\\mu} \\partial'_{\\mu} \\psi' - m c \\psi' = i\\hbar \\gamma^{\\mu}  \\frac{\\partial x^{\\nu}}{\\partial x'^{\\mu}} \\partial_{\\nu} (S\\psi) - m c  (S\\psi) = 0$$\n",
    "\n",
    "Multiplicando por $S^{-1}$:\n",
    "\n",
    "$$i\\hbar S^{-1} \\gamma^{\\mu} S  \\frac{\\partial x^{\\nu}}{\\partial x'^{\\mu}}  \\partial_{\\nu} \\psi - m c \\psi = 0$$\n",
    "\n",
    "Luego comparando con la ecuación de Dirac en el marco de referencia primario:\n",
    "\n",
    "$$\\gamma^{\\nu} = S^{-1} \\gamma^{\\mu} S  \\frac{\\partial x^{\\nu}}{\\partial x'^{\\mu}}$$\n",
    "\n",
    "Veamos ahora la transformacion de Lorentz inversa:\n",
    "\n",
    "$$ \\Lambda^{-1} = \\begin{pmatrix} \\gamma & \\beta \\gamma & 0 & 0 \\\\ \\beta \\gamma & \\gamma & 0 & 0 \\\\ 0 & 0 & 1 & 0 \\\\ 0 & 0 & 0 & 1 \\end{pmatrix} \\qquad \\frac{\\partial x^{\\nu}}{\\partial x'^{\\mu}} = (\\Lambda^{-1})_{\\mu}^{\\nu} $$"
   ]
  },
  {
   "cell_type": "markdown",
   "metadata": {},
   "source": [
    "Se debe verificar que:\n",
    "\n",
    "$$ \\gamma^{0} = S^{-1} \\gamma^{0} S \\frac{\\partial x^{0}}{\\partial x'^{0}} +  S^{-1} \\gamma^{1} S \\frac{\\partial x^{0}}{\\partial x'^{1}}  \\Rightarrow S \\gamma^{0} = (\\gamma^{0} S) \\gamma + (\\gamma^{1} S) \\beta \\gamma $$\n",
    "\n",
    "$$ \\gamma^{1} = S^{-1} \\gamma^{0} S \\frac{\\partial x^{1}}{\\partial x'^{0}} +  S^{-1} \\gamma^{1} S \\frac{\\partial x^{1}}{\\partial x'^{1}}  \\Rightarrow S \\gamma^{1} = (\\gamma^{0} S) \\beta \\gamma + (\\gamma^{1} S) \\gamma $$\n",
    "\n",
    "$$ \\gamma^{2} = S^{-1} \\gamma^{2} S \\Rightarrow S \\gamma^{2} = \\gamma^{2} S $$\t\n",
    "\n",
    "$$ \\gamma^{3} = S^{-1} \\gamma^{3} S \\Rightarrow S \\gamma^{3} = \\gamma^{3} S $$"
   ]
  },
  {
   "cell_type": "markdown",
   "metadata": {},
   "source": [
    "Se debe probar ahora que $S = a_+ + a_- \\gamma^0 \\gamma^1 $ satisface estas ecuaciones.\n",
    "\n",
    "Notemos que $\\gamma^0$ y $\\gamma^1$ anticonmutan con $\\gamma^2$ y $\\gamma^3$, por lo que su producto tambien anticonmuta. Luego las últimas dos ecuaciones se cumplen trivialmente.\n",
    "\n",
    "$$ S \\gamma^0 = a_+ \\gamma^0 + a_- \\gamma^0 \\gamma^1 \\gamma^0 = a_+ \\gamma^0 - a_- \\gamma^0 \\gamma^0 \\gamma^1 = a_+ \\gamma^0 - a_- \\gamma^1 $$\n",
    "\n",
    "$$ S \\gamma^1 = a_+ \\gamma^1 + a_- \\gamma^0 \\gamma^1 \\gamma^1 = a_+ \\gamma^1 - a_- \\gamma^0 $$\n",
    "\n",
    "$$ \\gamma^0 S = \\gamma^0 a_+ + \\gamma^0 a_- \\gamma^0 \\gamma^1 = a_+ \\gamma^0 + a_- \\gamma^1 $$\n",
    "\n",
    "$$ \\gamma^1 S = \\gamma^1 a_+ - a_- \\gamma^0 \\gamma^1 \\gamma^1 = a_+ \\gamma^1 + a_- \\gamma^0 $$\n",
    "\n",
    "Luego :\n",
    "\n",
    "$$ a_+ \\gamma^0 -a_- \\gamma^1 =(a_+ \\gamma^0 + a_- \\gamma^1) \\gamma + (a_+ \\gamma^1 + a_- \\gamma^0) \\beta \\gamma $$\n",
    "\n",
    "$$ = \\gamma(a_+ + \\beta a_-)\\gamma_0 + \\gamma(a_- + \\beta a_+) \\gamma^1 $$\n",
    "\n",
    "Por otra parte, de la definición de $\\gamma$\n",
    "\n",
    "$$ \\gamma = \\frac{1}{\\sqrt{1 - \\beta^2}} \\Rightarrow \\beta^2 = \\frac{\\gamma^2 - 1}{\\gamma^2} \\Rightarrow \\frac{\\sqrt{(\\gamma-1)(\\gamma+1)}}{\\gamma}$$\n",
    "\n",
    "De esta forma se puede probar que: \n",
    "\n",
    "$$\\gamma(a_+ + \\beta a_-) = \\gamma \\left[ \\sqrt{\\frac{1}{2}(\\gamma + 1)} - \\frac{\\sqrt{(\\gamma-1)(\\gamma+1)}}{\\gamma} \\sqrt{\\frac{1}{2}(\\gamma - 1)} \\right]$$\n",
    "\n",
    "$$ = \\sqrt{\\frac{1}{2}(\\gamma + 1)} = a_+ $$\n",
    "\n",
    "$$\\gamma(a_- + \\beta a_+) = \\gamma \\left[-\\sqrt{\\frac{1}{2}(\\gamma - 1)} + \\frac{\\sqrt{(\\gamma-1)(\\gamma+1)}}{\\gamma} \\sqrt{\\frac{1}{2}(\\gamma + 1)} \\right]$$\n",
    "\n",
    "$$ = \\sqrt{\\frac{1}{2}(\\gamma - 1)} = a_- $$\n",
    "\n",
    "Verificandose que: \n",
    "\n",
    "\n",
    "$$ a_+ \\gamma^0 -a_- \\gamma^1 =(a_+ \\gamma^0 + a_- \\gamma^1) \\gamma + (a_+ \\gamma^1 + a_- \\gamma^0) \\beta \\gamma $$"
   ]
  },
  {
   "cell_type": "markdown",
   "metadata": {},
   "source": [
    "### Problema 5\n",
    "\n",
    "Demostrar que:\n",
    "\n",
    "$$ S^{\\dagger} S = \\gamma \\begin{pmatrix} 1 &-(v/c)\\sigma_1 \\\\ -(v/c)\\sigma_1 & 1 \\end{pmatrix} \\neq 1 $$\n",
    "\n",
    "Y que:\n",
    "\n",
    "$$ S^{\\dagger} \\gamma^0 S = \\gamma^0 $$"
   ]
  },
  {
   "cell_type": "markdown",
   "metadata": {},
   "source": [
    "### problema 6\n",
    "\n",
    "Demostrar que los espinores adjuntos $\\bar{u}^{1,2}$ y $\\bar{v}^{1,2}$ son soluciones de la ecuación de Dirac, es decir:\n",
    "\n",
    "$$ (i\\hbar \\gamma^{\\mu} \\partial_{\\mu} - m c) \\bar{u}^{1,2} = 0 \\quad \\text{y} \\quad (i\\hbar \\gamma^{\\mu} \\partial_{\\mu} + m c) \\bar{v}^{1,2} = 0 $$\n",
    "\n",
    "Para ello se puede tomar el transpuesto de las ecuaciones de Dirac y multiplicar por $\\gamma^0$ por derecha. Luego demostrando que $(\\gamma^{\\mu})^{\\dagger} \\gamma^{0} = \\gamma^{0} \\gamma^{\\mu}$. "
   ]
  }
 ],
 "metadata": {
  "language_info": {
   "name": "python"
  }
 },
 "nbformat": 4,
 "nbformat_minor": 2
}
