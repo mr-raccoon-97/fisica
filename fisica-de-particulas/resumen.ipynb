{
 "cells": [
  {
   "cell_type": "markdown",
   "metadata": {},
   "source": [
    "Los bariones son partículas subatómicas formadas por tres quarks y pertenecen a la familia de los hadrones.\n",
    "\n",
    "#### Bariones de la familia de los nucleones\n",
    "- **Protón (p)**: Compuesto por dos quarks up (u) y un quark down (d) (uud).\n",
    "- **Neutrón (n)**: Compuesto por dos quarks down (d) y un quark up (u) (udd).\n",
    "\n",
    "#### Bariones Delta (Δ)\n",
    "- **Delta positivo (Δ⁺⁺)**: Tres quarks up (uuu).\n",
    "- **Delta neutro (Δ⁰)**: Dos quarks down y un quark up (udd).\n",
    "- **Delta negativo (Δ⁻)**: Tres quarks down (ddd).\n",
    "- **Delta positivo (Δ⁺)**: Dos quarks up y un quark down (uud).\n",
    "\n",
    "Bariones Lambda (Λ)\n",
    "- **Lambda neutro (Λ⁰)**: Un quark up, un quark down y un quark strange (uds).\n",
    "- **Lambda charm (Λᶜ⁺)**: Un quark up, un quark down y un quark charm (udc).\n",
    "\n",
    "Bariones Sigma (Σ)\n",
    "- **Sigma positivo (Σ⁺)**: Dos quarks up y un quark strange (uus).\n",
    "- **Sigma neutro (Σ⁰)**: Un quark up, un quark down y un quark strange (uds).\n",
    "- **Sigma negativo (Σ⁻)**: Dos quarks down y un quark strange (dds).\n",
    "- **Sigma charm (Σᶜ⁺⁺)**: Dos quarks up y un quark charm (uuc).\n",
    "- **Sigma charm neutro (Σᶜ⁰)**: Un quark up, un quark down y un quark charm (udc).\n",
    "- **Sigma charm negativo (Σᶜ⁻)**: Dos quarks down y un quark charm (ddc).\n",
    "\n",
    "Bariones Xi (Ξ)\n",
    "- **Xi neutro (Ξ⁰)**: Un quark up, un quark strange y un quark strange (uss).\n",
    "- **Xi negativo (Ξ⁻)**: Un quark down y dos quarks strange (dss).\n",
    "- **Xi charm positivo (Ξᶜ⁺)**: Un quark up, un quark strange y un quark charm (usc).\n",
    "- **Xi charm neutro (Ξᶜ⁰)**: Un quark down, un quark strange y un quark charm (dsc).\n",
    "\n",
    "Bariones Omega (Ω)\n",
    "- **Omega negativo (Ω⁻)**: Tres quarks strange (sss).\n",
    "- **Omega charm (Ωᶜ⁰)**: Dos quarks strange y un quark charm (ssc).\n",
    "- **Omega bottom (Ωᵇ⁻)**: Dos quarks strange y un quark bottom (ssb)."
   ]
  },
  {
   "cell_type": "markdown",
   "metadata": {},
   "source": []
  }
 ],
 "metadata": {
  "language_info": {
   "name": "python"
  }
 },
 "nbformat": 4,
 "nbformat_minor": 2
}
