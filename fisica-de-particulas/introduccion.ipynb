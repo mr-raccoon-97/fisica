{
 "cells": [
  {
   "cell_type": "markdown",
   "metadata": {},
   "source": [
    "### Introducción a la física de particulas.\n",
    "\n",
    "La física de partículas ha descubierto que la materia está compuesta de pequeñas piezas llamadas partículas elementales. Todas las partículas de un mismo tipo son exactamente iguales. Gracias a esta simplicidad se han podido comprender las interacciones entre estas partículas y las leyes que las gobiernan.\n",
    "\n",
    "Dado que es imposible estudiar las partículas elementales directamente debido a su tamaño, se utilizan los siguientes métodos, para estudiarlas de manera indirecta:\n",
    "\n",
    "- Colisiones: Se hacen chocar partículas y se analizan los resultados, como los ángulos de desviación.\n",
    "\n",
    "- Desintegraciones: Se estudian las partículas que se producen cuando una partícula se descompone espontáneamente.\n",
    "\n",
    "- Estados Ligados: Se examinan las propiedades de sistemas compuestos por varias partículas unidas.\n",
    "\n",
    "Algunas características generales del comportamiento de las partículas elementales no dependen de los detalles específicos de las interacciones entre ellas, sino que se derivan directamente de principios fundamentales como la relatividad y la mecánica cuántica. Por ejemplo, en la relatividad, la energía y el momento se conservan siempre, pero la masa en reposo no."
   ]
  },
  {
   "cell_type": "markdown",
   "metadata": {},
   "source": [
    "### La mecanica cuántica y la relatividad como base de la física de partículas.\n",
    "\n",
    "En la mecánica cuántica, un sistema físico se describe por su estado, que puede representarse de diferentes formas. Los procesos físicos, como la dispersión o la desintegración, implican transiciones entre estados cuánticos. Sin embargo, a diferencia de la física clásica, el resultado de un proceso cuántico no está determinado de manera única por las condiciones iniciales. Solo podemos calcular la probabilidad de que ocurra una transición particular.\n",
    "\n",
    "La combinación de la relatividad y la mecánica cuántica da lugar a conceptos sorprendentes, como la existencia de antipartículas, la explicación del principio de exclusión de Pauli y el teorema CPT. Estos conceptos son fundamentales para la comprensión de la física de partículas y no pueden ser ignorados en una teoría completa."
   ]
  },
  {
   "cell_type": "markdown",
   "metadata": {},
   "source": [
    "### El modelo Estándar\n",
    "\n",
    "El Modelo Estándar es una teoría que describe las interacciones fundamentales entre las partículas elementales, excepto la gravedad. Se basa en dos familias de partículas fundamentales: quarks y leptones. Esta teoría ha sido ampliamente confirmada por experimentos y se considera un gran logro de la física moderna."
   ]
  },
  {
   "cell_type": "markdown",
   "metadata": {},
   "source": [
    "### (1930) Neutrinos\n",
    "\n",
    "En el año 1930. Se había planteado un problema en el estudio de la desintegración beta nuclear. En la desintegración beta, un núcleo radiactivo A se transforma en un núcleo ligeramente más ligero B, con la emisión de un electrón:\n",
    "\n"
   ]
  }
 ],
 "metadata": {
  "language_info": {
   "name": "python"
  }
 },
 "nbformat": 4,
 "nbformat_minor": 2
}
