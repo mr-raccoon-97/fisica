{
 "cells": [
  {
   "cell_type": "markdown",
   "metadata": {},
   "source": [
    "### Amstrong\n",
    "\n",
    "El ángstrom (símbolo $\\text{Å}$)​ o ångström es una unidad de longitud empleada principalmente para expresar longitudes de onda, distancias moleculares y atómicas, etc.\n",
    "\n",
    "Es una unidad de medida equivalente a la diezmilmillonésima parte del metro: 0,000 000 000 1 metros. En un centímetro caben cien millones de ángstroms. Es decir:\n",
    "\n",
    "$$1 \\text{Å} = 1 × 10^{-10} \\text{m} = 0,1 \\text{nm}"
   ]
  },
  {
   "cell_type": "markdown",
   "metadata": {},
   "source": [
    "### Electronvoltio\n",
    "\n",
    "El electronvoltio (símbolo $\\text{eV}$) es una unidad de energía que representa la cantidad de energía cinética ganada o perdida por un solo electrón acelerando desde el reposo a través de una diferencia de potencial eléctrico de un voltio en el vacío. Por lo tanto, tiene un valor de un voltio, $1 \\text{J/C}$, multiplicado por la carga elemental\n",
    "$1.602 176 634 × 10^{−19} \\text{C}$  Por ende, $1 \\text{eV} = 1 e × 1 \\text{V}$. Su valor en julios sera de\n",
    "\n",
    "$$1\\text{eV} = 1.602 176 634 × 10^{−19} \\text{J}$$"
   ]
  },
  {
   "cell_type": "markdown",
   "metadata": {},
   "source": [
    "### Unidades atómicas\n",
    "\n",
    "Las unidades atómicas (au), forman un sistema de unidades conveniente para la física atómica, electromagnetismo y mecánica cuántica. En sistema, las siguientes constantes son iguales a 1:\n",
    "\n",
    "- **Masa del electrón**: En las unidades atómicas, la masa del electrón se establece como una unidad de masa.\n",
    "\n",
    "- **Carga del electrón**: La carga del electrón se establece como una unidad de carga.\n",
    "\n",
    "- **Radio de Bohr**: Este es el radio de la órbita más cercana al núcleo en el átomo de hidrógeno, en el estado fundamental. En unidades atómicas, el radio de Bohr se fija como unidad de longitud.\n",
    "\n",
    "- **Energía potencial del estado fundamental del hidrógeno**: Esta es la energía asociada con la interacción del electrón con el núcleo del átomo de hidrógeno en su estado más bajo de energía. En unidades atómicas, se toma como unidad de energía.\n",
    "\n",
    "- **Constante de Planck reducida**: En unidades atómicas, la constante de Planck reducida se establece como unidad de acción (energía por tiempo).\n",
    "\n",
    "- **Constante de Coulomb**: En unidades atómicas, la constante de Coulomb se establece como unidad de fuerza.\n"
   ]
  },
  {
   "cell_type": "markdown",
   "metadata": {},
   "source": [
    "| Magnitud                        | Nombre                                | Símbolo                | Valor (unidades del SI)                               | Escala de Unidades de Planck |\n",
    "|----------------------------------|---------------------------------------|------------------------|------------------------------------------------------|------------------------------|\n",
    "| Longitud                         | Radio de Bohr                         | $a_0$                   | $5,291\\,772\\,0859(36) \\times 10^{-11}\\, \\text{m}$       | $10^{-35}\\, \\text{m}$        |\n",
    "| Masa                             | Masa en reposo del electrón           | $m_e$                   | $9,109\\,3826(16) \\times 10^{-31}\\, \\text{kg}$          | $10^{-8}\\, \\text{kg}$        |\n",
    "| Carga                            | Carga elemental                       | $e$                     | $1,602\\,176\\,53(14) \\times 10^{-19}\\, \\text{C}$        | $10^{-18}\\, \\text{C}$        |\n",
    "| Momento angular                  | Constante de Planck                   | $\\hbar = \\frac{h}{2\\pi}$ | $1,054\\,571\\,68(18) \\times 10^{-34}\\, \\text{J s}$      | Igual                        |\n",
    "| Energía                          | Energía de Hartree                    | $E_h$                   | $4,359\\,744\\,17(75) \\times 10^{-18}\\, \\text{J}$        | $10^9\\, \\text{J}$            |\n",
    "| Constante de fuerza electrostática| Constante de Coulomb                  | $\\frac{1}{4 \\pi \\epsilon_0}$ | $8,987\\,742\\,438 \\times 10^9\\, \\text{C}^{-2} \\text{N m}^2$ | Igual                        |\n"
   ]
  },
  {
   "cell_type": "markdown",
   "metadata": {},
   "source": [
    "Unidades derivadas:\n",
    "\n",
    "| Magnitud     | Expresión                                  | Valor (unidades del SI)                               | Escala de Unidades de Planck |\n",
    "|--------------|--------------------------------------------|------------------------------------------------------|------------------------------|\n",
    "| Tiempo       | $\\frac{\\hbar}{E_h}$                        | $2.418\\,884\\,326\\,505(16) \\times 10^{-17}\\, \\text{s}$  | $10^{-43}\\, \\text{s}$        |\n",
    "| Velocidad    | $\\frac{a_0 E_h}{\\hbar}$                    | $2.187\\,691\\,2633(73) \\times 10^6\\, \\text{m s}^{-1}$  | $10^8\\, \\text{m s}^{-1}$     |\n",
    "| Fuerza       | $\\frac{E_h}{a_0}$                          | $8.238\\,7225(14) \\times 10^{-8}\\, \\text{N}$           | $10^{44}\\, \\text{N}$         |\n",
    "| Corriente    | $\\frac{e E_h}{\\hbar}$                      | $6.623\\,617\\,82(57) \\times 10^{-3}\\, \\text{A}$        | $10^{26}\\, \\text{A}$         |\n",
    "| Temperatura  | $\\frac{E_h}{k_B}$                          | $3.157\\,7464(55) \\times 10^5\\, \\text{K}$              | $10^{32}\\, \\text{K}$         |\n",
    "| Presión      | $\\frac{E_h}{a_0^3}$                        | $2.942\\,1912(19) \\times 10^{13}\\, \\text{N m}^{-2}$    | $10^{114}\\, \\text{Pa}$       |\n"
   ]
  },
  {
   "cell_type": "markdown",
   "metadata": {},
   "source": []
  }
 ],
 "metadata": {
  "language_info": {
   "name": "python"
  }
 },
 "nbformat": 4,
 "nbformat_minor": 2
}
