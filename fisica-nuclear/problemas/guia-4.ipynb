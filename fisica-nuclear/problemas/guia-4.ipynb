{
 "cells": [
  {
   "cell_type": "markdown",
   "metadata": {},
   "source": [
    "### Problema 1\n",
    "\n",
    "Calcular la actividad de $1 \\text{g}$ de $^{266}Ra$."
   ]
  },
  {
   "cell_type": "markdown",
   "metadata": {},
   "source": [
    "### Solución\n",
    "\n"
   ]
  },
  {
   "cell_type": "markdown",
   "metadata": {},
   "source": [
    "El número de núcleos de $^{206}\\text{Ra}$ en $1\\text{g}$, se puede hallar utilizando la definición de masa molar y el número de Avogadro. La masa atómica del $^{206}\\text{Ra}$ es de $266\\text{u}$, es decir que por cada $1 \\text{mol}$ de $^{266}\\text{Ra}$ hay $266\\text{g}$. El número de avogradro nos dice que hay $6.022 \\times 10^{23}$ átomos por cada mol, por lo que el número de núcleos \n",
    "\n",
    "$$N_{266\\text{Ra}} = \\frac{1g}{266\\frac{g}{mol}} \\frac{6.022\\times^{23}}{\\text{mol}} = 2.64 \\times 10^{21} = 2.263 \\times 10 ^{21}$$\n",
    "\n",
    "Por otra parte la actividad esta definida por:\n",
    "\n",
    "$$ \\frac{dN}{dt} = -\\lambda N \\qquad \\lambda = \\frac{\\log(2)}{\\tau}$$\n",
    "\n",
    "Con $\\tau$ la vida media de una especie. La vida media de este isotopo del Radón es de $1600$ años, o aproximadamente $5.04 \\times 10^{10}\\text{s}$. Reemplazando, la actividad del Radón será:\n",
    "\n",
    "$$ -\\frac{dN}{dt} = 3.858 \\times 10^{10} \\text{s} \\equiv 1 \\text{Ci}$$\n",
    "\n",
    "En donde $1 \\text{Ci}$ es la unidad fundamental para las tasas de desintegración y es llamada Curie.\n"
   ]
  },
  {
   "cell_type": "markdown",
   "metadata": {},
   "source": [
    "### Problema 2\n",
    "\n",
    "La abundancia actual de los isótopos $^{235}\\text{U}$ y $^{238}\\text{U}$ es de $0,72\\%$ y $99,27\\%$ respectivamente. Estimar la edad de la tierra haciendo la suposición de que en el génesis la población relativa de ambos isótopos era la misma. \n",
    "\n",
    "Las vidas medias de los isotopos de $^{235}\\text{U}$ y $^{238}\\text{U}$ son respectivamente:\n",
    "- $\\tau^{^{235}\\text U} = 7.04 \\times 10^8 \\text{años}$\n",
    "- $\\tau^{^{238}\\text U} = 4.468 \\times 10^9 \\text{años}$"
   ]
  },
  {
   "cell_type": "markdown",
   "metadata": {},
   "source": [
    "### Solución\n",
    "\n",
    "Resolviendo la ecuación de decaimiento obtenemos que:\n",
    "\n",
    "$$ \\frac{dN}{dt} = -\\lambda N \\Rightarrow \\int_{N_i}^{N_f} \\frac{dN}{N} = \\log(\\frac{N_f}{N_i}) = - \\lambda \\int_{t_i}^{t_f} dt$$\n",
    "\n",
    "$$ \\Rightarrow \\log(\\frac{N_i}{N_f}) = \\lambda \\Delta t \\Rightarrow N_i = N_f e^{\\lambda \\Delta t}$$\n",
    "\n",
    "En donde $\\Delta t$ es el tiempo en la tierra y $\\lambda = \\frac{\\log(2)}{\\tau}$ la vida media de un isotopo. Si bien no sabemos el valor de $N_i$, para los isótopos propuestos, si sabemos que este valor era igual para ambos y que el tiempo transcurrido fue el mismo. Luego:\n",
    "\n",
    "$$ N_f^{^{238}\\text{U}} e^{\\lambda^{^{238}\\text{U}} \\Delta t} = N_f^{^{235}\\text{U}} e^{\\lambda^{^{235}\\text{U}} \\Delta t}$$\n",
    "\n",
    "$$ \\Rightarrow 0.9927 e^{\\lambda^{^{238}\\text{U}} \\Delta t} = 0.0072 e^{\\lambda^{^{235}\\text{U}} \\Delta t} \\Rightarrow \\frac{0.9927}{0.0072} = e^{(\\lambda^{^{238}\\text{U}} - \\lambda^{^{235}\\text{U}})\\Delta t} $$\n",
    "\n",
    "$$ \\Rightarrow \\Delta t = \\frac{\\log(\\frac{0.9927}{0.0072})}{(\\lambda^{^{238}\\text{U}} - \\lambda^{^{235}\\text{U}})} = \\frac{\\log(\\frac{0.9927}{0.0072})}{\\log(2)} \\left(\\frac{1}{\\tau^{^{238}\\text{U}}} - \\frac{1}{\\tau^{^{235}\\text{U}}} \\right)^{-1}$$\n",
    "\n",
    "Reemplazando:\n",
    "\n",
    "- $\\tau^{^{235}\\text U} = 7.04 \\times 10^8 \\text{años}$\n",
    "- $\\tau^{^{238}\\text U} = 4.468 \\times 10^9 \\text{años}$"
   ]
  },
  {
   "cell_type": "code",
   "execution_count": 6,
   "metadata": {},
   "outputs": [
    {
     "name": "stdout",
     "output_type": "stream",
     "text": [
      "4.1052873391138025 x10^9 años\n"
     ]
    }
   ],
   "source": [
    "from math import log\n",
    "\n",
    "dt = lambda tau1, tau2: log(0.9927/0.0073)/(1/tau1-1/tau2)\n",
    "\n",
    "tau235U = 7.04e8\n",
    "tau238U = 4.468e9\n",
    "\n",
    "print(dt(tau235U, tau238U)/10**9, 'x10^9 años')"
   ]
  },
  {
   "cell_type": "markdown",
   "metadata": {},
   "source": [
    "Obteniéndose que la edad de la tierra es de aproximadamente $4.1 \\times 10^9 \\text{años}$. "
   ]
  },
  {
   "cell_type": "markdown",
   "metadata": {},
   "source": [
    "### Problema 3\n",
    "\n",
    "Considerar que un nucleido inestable $X_1$ decae en el nucleido $X_2$ con una constante de decaimiento $\\lambda_1$. A su vez, el nucleido $X_2$, tambien inestable, decae en el nucleido $X_3$ con una constante de decaimiento $\\lambda_2$. El nucleido $X_3$ es estable. Sabiendo que inicialmente había $N_0$ nucleidos del tipo $X_1$, encontrar la cantidad de cada uno de estos en función del tiempo."
   ]
  },
  {
   "cell_type": "markdown",
   "metadata": {},
   "source": [
    "### Solución\n",
    "\n",
    "En el enunciado se describen una cascada de reacciones nucleares:\n",
    "\n",
    "\n",
    "$$\\frac{dN_1}{dt} = -\\lambda_{1} N_1$$\n",
    "$$\\frac{dN_2}{dt} = \\lambda_{1} N_1 - \\lambda_{2}N_2$$\n",
    "$$\\frac{dN_3}{dt} = \\lambda_{2} N_2$$\n",
    "\n",
    "En donde el signo negativo implica que la cantidad de nucleidos disminuye con el tiempo y el signo positivo que aumenta. Se tienen las siguientes restricciones:\n",
    "\n",
    "$$N_1 + N_2 + N_3 = N_0$$\n",
    "\n",
    "$$\\Rightarrow \\frac{dN_1}{dt} + \\frac{dN_2}{dt} + \\frac{dN_3}{dt} = 0$$\n",
    "\n",
    "Con condición inicial $N_1(0) = N_0$. Notemos que la solucíon a la primera ecuación es:\n",
    "\n",
    "$$ N_1(t) = N_0 e^{-\\lambda_1 t}$$\n",
    "\n",
    "Reemplazando se obtiene la ecuación diferencial:\n",
    "\n",
    "$$ \\frac{dN_2}{dt} = \\lambda_{1}  N_0 e^{-\\lambda_1 t} - \\lambda_{2}N_2$$\n",
    "\n",
    "Se propone una solución homogénea:\n",
    "\n",
    "$$ \\frac{dN^{h}_2}{dt} = - \\lambda_{2}N^{h}_2 \\Rightarrow N_2^h = C e^{-\\lambda_{2} t}$$\n",
    "\n",
    "Y una solución particular:\n",
    "\n",
    "$$ N_2^p = A(t) e^{-\\lambda_2 t}$$\n",
    "\n",
    "$$ \\frac{dN_2^p}{dt} = A'(t) e^{-\\lambda_2 t} - \\lambda_2 A(t) e^{-\\lambda_2 t} = \\lambda_1 N_0 e^{-\\lambda_1 t} - \\lambda_2 N_2^p(t)$$\n",
    "\n",
    "$$ \\Rightarrow A'(t) e^{-\\lambda_2 t} = \\lambda_1 N_0 e^{-\\lambda_1 t} \\Rightarrow A'(t) = \\lambda_1 N_0 e^{(\\lambda_2 - \\lambda_1)t}$$ \n",
    "\n",
    "$$ \\Rightarrow A(t) = \\frac{\\lambda_1 N_0}{\\lambda_2 - \\lambda_1} e^{(\\lambda_2 - \\lambda_1)t} + C$$\n",
    "\n",
    "De modo que la solución general es:\n",
    "\n",
    "$$ N_2(t) = C e^{-\\lambda_{2} t} + \\frac{\\lambda_1 N_0}{\\lambda_2 - \\lambda_1} e^{-\\lambda_1t} $$\n",
    "\n",
    "Lluego $N_2(0) = 0$ lo que implica que:\n",
    "\n",
    "\n",
    "$$C = - \\frac{\\lambda_1 N_0}{\\lambda_2 - \\lambda_1}$$\n",
    "\n",
    "$$ \\Rightarrow N_2(t) = \\frac{\\lambda_1 N_0 }{\\lambda_2 - \\lambda_1}(e^{-\\lambda_1t} - e^{-\\lambda_2t})$$\n"
   ]
  },
  {
   "cell_type": "markdown",
   "metadata": {},
   "source": [
    "Hallamos ahora la solución para $N_3$:\n",
    "\n",
    "$$ \\frac{dN_3}{dt} = \\lambda_{2} \\frac{\\lambda_1 N_0 }{\\lambda_2 - \\lambda_1}(e^{-\\lambda_1t} - e^{-\\lambda_2t})$$\n",
    "\n",
    "Integrando:\n",
    "\n",
    "$$ \\int dN_3 = \\frac{\\lambda_2 \\lambda_1 N_0}{\\lambda_2 - \\lambda_1}\\int (e^{-\\lambda_1t} - e^{-\\lambda_2t})dt$$\n",
    "\n",
    "$$ N_3(t) = \\frac{\\lambda_2 \\lambda_1 N_0}{\\lambda_2 - \\lambda_1} (\\frac{e^{-\\lambda_2t}}{\\lambda_2} - \\frac{e^{-\\lambda_1t}}{\\lambda_1} ) + C$$\n",
    "\n",
    "$$ N_3(0) = 0 \\Rightarrow \\frac{\\lambda_2 \\lambda_1 N_0}{\\lambda_2 - \\lambda_1} (\\frac{1}{\\lambda_2} - \\frac{1}{\\lambda_1} ) + C= -N_0 + C = 0$$\n",
    "\n",
    "$$ \\Rightarrow N_3(t) = N_0 \\left(1 - \\frac{\\lambda_2 e^{-\\lambda_1t} - \\lambda_1 e^{-\\lambda_2t}}{\\lambda_2 - \\lambda_1} \\right) $$"
   ]
  },
  {
   "cell_type": "markdown",
   "metadata": {},
   "source": [
    "### Problema 5"
   ]
  },
  {
   "cell_type": "markdown",
   "metadata": {},
   "source": [
    "Un método de producir un nucleido radiactivo consiste en colocar una muestra de una determinada sustancia en el interior de un reactor nuclear. Los nucleidos radiactivos se producen como consecuencia de la captura de un neutrón por los núcleos de la sustancia.\n",
    "\n",
    "En un reactor nuclear se coloca $^{59}\\text{Co}$. El nuevo nucleido se produce a razón de $g$ núcleos por segundo. Calcular el número de núcleos radiactivos producido en función del tiempo.\n"
   ]
  },
  {
   "cell_type": "markdown",
   "metadata": {},
   "source": [
    "### Solución\n",
    "La reacción nuclear del cobalto al capturar un neutrón es:\n",
    "\n",
    "$$^{59}_{27}\\text{Co} + n \\rightarrow ^{60}_{27}\\text{Co}$$\n",
    "\n",
    "Esta reacción implican los siguientes cambios en las poblaciones:\n",
    "\n",
    "$$\\frac{dN_{59}}{dt} = -g - \\lambda N_{59} \\qquad \\frac{dN_{60}}{dt} = g - \\lambda N_{60} $$\n",
    "\n",
    "Buscamos resolver la siguiente ecuación diferencial. Proponemos la solución homogénea $N_{60}^h$ tal que:\n",
    "\n",
    "$$\\frac{dN_{60}^h}{dt} = -\\lambda N_{60}^h \\Rightarrow N_{60}^h = C e^{-\\lambda t}$$\n",
    "\n",
    "Buscamos ahora una solución particular $N_{60}^p$ tal que $N_{60}^p = A(t) e^{-\\lambda t}$, con $A(t)$ una función a determinar. Reemplazando en la ecuación diferencial:\n",
    "\n",
    "$$\\frac{dN_{60}^p}{dt} = A'(t) e^{-\\lambda t} - \\lambda A(t) e^{-\\lambda t} = g - \\lambda N_{60}^p$$\n",
    "\n",
    "$$\\Rightarrow A'(t) = g e^{\\lambda t} \\Rightarrow A(t) = g \\frac{e^{\\lambda t}}{\\lambda} + C$$\n",
    "\n",
    "Luego la solución general es:\n",
    "\n",
    "$$N_{60}(t) = C e^{-\\lambda t} + \\frac{g}{\\lambda}$$\n",
    "\n",
    "Dado que al inicio de la reacción, no hay nucleos de $^{60}\\text{Co}$, se tiene que $N_{60}(0) = 0$ lo que implica que $C = -\\frac{g}{\\lambda}$. El numero de núcleos de $^{60}\\text{Co}$ en función del tiempo es:\n",
    "\n",
    "$$N_{60}(t) = \\frac{g}{\\lambda} (1 - e^{-\\lambda t})$$"
   ]
  },
  {
   "cell_type": "markdown",
   "metadata": {},
   "source": [
    "### Problema 6\n",
    "\n",
    "La razón másica entre el radioisótopo $^{14}\\text{C}$ y el estable $^{12}\\text{C}$ es de $1.5 \\times 10 ^{-12}$. Encontrar el número de desintegraciones por segundo en $1\\text{g}$ de materia viva.\n",
    "\n",
    "En una muestra de $64\\text{g}$ de carbón se observan 2 desintegraciones por segundo. Calcular la edad de la muestra.\n",
    "\n",
    "Considerar que la vida media del $^{14}\\text{C}$ es de $5700$ años.\n"
   ]
  },
  {
   "cell_type": "markdown",
   "metadata": {},
   "source": [
    "### Solución\n",
    "\n",
    "El $^{12}\\text{C}$ es estable, y por lo tanto no se consideran desintegraciones. El $^{14}\\text{C}$ decae en $^{14}\\text{N}$ a través de un proceso de desintegración beta, es decir se produce la reacción:\n",
    "\n",
    "$$^{14}_{6}\\text{C} \\rightarrow ^{14}_{7}\\text{N} + \\beta^-$$\n",
    "\n",
    "Que la razón másica entre el $^{14}\\text{C}$ y el $^{12}\\text{C}$ sea de $1.5 \\times 10^{-12}$ implica que:\n",
    "\n",
    "$$\\frac{m^{^{14}\\text{C}}}{m^{^{12}\\text{C}} + m^{^{14}\\text{C}}} = 1.5 \\times 10^{-12}$$\n",
    "\n",
    "Para una muestra de $1\\text{g}$ de materia viva, la cantidad de $^{14}\\text{C}$ es de $1.5 \\times 10^{-12} \\text{g}$. Si la masa molar del $^{14}\\text{C}$ es de $14\\frac{\\text{g}}{\\text{mol}}$, entonces la cantidad de núcleos de $^{14}\\text{C}$ es de:\n",
    "\n",
    "$$N^{^{14}\\text{C}} = \\frac{1.5 \\times 10^{-12}}{14} \\times 6.022 \\times 10^{23} = 64.52 \\times 10^{9}$$"
   ]
  },
  {
   "cell_type": "markdown",
   "metadata": {},
   "source": [
    "Calculamos ahora la actividad de la muestra. La actividad esta dada por:\n",
    "\n",
    "$$\\frac{dN}{dt} = -\\lambda N = -\\frac{\\log(2)}{\\tau} N$$"
   ]
  },
  {
   "cell_type": "code",
   "execution_count": null,
   "metadata": {},
   "outputs": [
    {
     "name": "stdout",
     "output_type": "stream",
     "text": [
      "0.24731944209079143 desintegraciones por segundo\n",
      "6.684309245697066e-12 Ci\n"
     ]
    }
   ],
   "source": [
    "from math import log\n",
    "\n",
    "def years_to_seconds(time):\n",
    "    return time * 365.2525 * 24 * 3600\n",
    "\n",
    "def hz_to_curie(frequency):\n",
    "    return frequency / 3.7e10\n",
    "\n",
    "\n",
    "N14C = 64.52e9\n",
    "tau14C = 5730 # years\n",
    "activity = lambda N, tau: log(2)*N/tau\n",
    "print(activity(N14C, years_to_seconds(tau14C)), 'desintegraciones por segundo')\n",
    "print(hz_to_curie(activity(N14C, years_to_seconds(tau14C))), 'Ci')"
   ]
  },
  {
   "cell_type": "markdown",
   "metadata": {},
   "source": [
    "Se tiene que la actividad de la muestra sera de $0.24$ desintegraciones por segundo. El hecho de que la muestra sea de materia viva, implica que la cantidad de $^{14}\\text{C}$ es igual a la de la atmosfera Dado que el proceso de fotosíntesis incorpora el átomo radiactivo en los organismos autótrofos, y estos son consumidos luego por los heterótrofos."
   ]
  },
  {
   "cell_type": "markdown",
   "metadata": {},
   "source": [
    "Se tiene ahora que la actividad de una muestra de $64\\text{g}$ de carbono es de $2$ desintegraciones por segundo, es decir $2/64 = 0.03125$ desintegraciones por segundo por gramo de la muestra. Una actividad menor a la obtenida en el resultado anterior, es decir al transcurrir el tiempo una fracción de los núcleos de $^{14}\\text{C}$ se desintegraron y la actividad disminuyo con respecto a la de la materia viva.\n",
    "\n",
    "Reemplazando estos valores en la ecuación de actividad, podemos obtener el número de átomos de $^{14}\\text{C}$ en $1\\text{g}$ de la muestra.\n",
    "\n",
    "$$0.03125 = \\frac{\\log(2)}{\\tau} N^{^{14}\\text{C}} \\Rightarrow  N^{^{14}\\text{C}} = \\frac{0.03125 \\tau}{\\log(2)}$$\n",
    "\n",
    "\n",
    "Por otra parte si se resuelve la ecuación diferencial de desintegración, se obtiene que:\n",
    "\n",
    "$$ \\int_{N_0}^{N} \\frac{dN}{N} = -\\lambda \\int_{0}^{t} dt \\Rightarrow \\log(\\frac{N}{N_0}) = -\\lambda t $$\n",
    "\n",
    "$$ \\Rightarrow t = \\frac{\\tau}{\\log(2)} \\log{\\frac{N_0}{N}}$$\n",
    "\n",
    "Luego si se toma el numero de núcleos de $^{14}\\text{C}$ en la muestra de materia viva como $N_0$, podemos obtener el tiempo transcurrido desde que la materia viva desintegro atomos de $^{14}\\text{C}$ hasta el momento de la prueba. Esto es:"
   ]
  },
  {
   "cell_type": "code",
   "execution_count": 30,
   "metadata": {},
   "outputs": [
    {
     "name": "stdout",
     "output_type": "stream",
     "text": [
      "17100.884526597005 años\n"
     ]
    }
   ],
   "source": [
    "from math import log\n",
    "\n",
    "def years_to_seconds(time):\n",
    "    return time * 365.2525 * 24 * 3600\n",
    "\n",
    "def seconds_to_years(time):\n",
    "    return time / 365.2525 / 24 / 3600\n",
    "\n",
    "tau14C = 5730 # years\n",
    "N14C = 64.52e9 #N0\n",
    "Nm14C = 2/64*years_to_seconds(tau14C)/log(2) #N\n",
    "t = lambda tau, N0, N: tau*log(N0/N)/log(2)\n",
    "\n",
    "print(seconds_to_years(t(years_to_seconds(tau14C), N14C, Nm14C)), 'años')\n"
   ]
  },
  {
   "cell_type": "markdown",
   "metadata": {},
   "source": [
    "Por lo que la muestra tendra 17101 años aproximadamente"
   ]
  }
 ],
 "metadata": {
  "kernelspec": {
   "display_name": "torch",
   "language": "python",
   "name": "python3"
  },
  "language_info": {
   "codemirror_mode": {
    "name": "ipython",
    "version": 3
   },
   "file_extension": ".py",
   "mimetype": "text/x-python",
   "name": "python",
   "nbconvert_exporter": "python",
   "pygments_lexer": "ipython3",
   "version": "3.12.2"
  }
 },
 "nbformat": 4,
 "nbformat_minor": 2
}
