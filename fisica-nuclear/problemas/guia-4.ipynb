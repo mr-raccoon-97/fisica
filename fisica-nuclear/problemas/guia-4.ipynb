{
 "cells": [
  {
   "cell_type": "markdown",
   "metadata": {},
   "source": [
    "### Problema 1\n",
    "\n",
    "Calcular la actividad de $1 \\text{g}$ de $^{266}Ra$."
   ]
  },
  {
   "cell_type": "markdown",
   "metadata": {},
   "source": [
    "### Solución\n",
    "\n"
   ]
  },
  {
   "cell_type": "markdown",
   "metadata": {},
   "source": [
    "El número de núcleos de $^{206}\\text{Ra}$ en $1\\text{g}$, se puede hallar utilizando la definición de masa molar y el número de Avogadro. La masa atómica del $^{206}\\text{Ra}$ es de $266\\text{u}$, es decir que por cada $1 \\text{mol}$ de $^{266}\\text{Ra}$ hay $266\\text{g}$. El número de avogradro nos dice que hay $6.022 \\times 10^{23}$ átomos por cada mol, por lo que el número de núcleos \n",
    "\n",
    "$$N_{266\\text{Ra}} = \\frac{1g}{266\\frac{g}{mol}} \\frac{6.022\\times^{23}}{\\text{mol}} = 2.64 \\times 10^{21} = 2.263 \\times 10 ^{21}$$\n",
    "\n",
    "Por otra parte la actividad esta definida por:\n",
    "\n",
    "$$ \\frac{dN}{dt} = -\\lambda N \\qquad \\lambda = \\frac{\\log(2)}{\\tau}$$\n",
    "\n",
    "Con $\\tau$ la vida media de una especie. La vida media de este isotopo del Radón es de $1600$ años, o aproximadamente $5.04 \\times 10^{10}\\text{s}$. Reemplazando, la actividad del Radón será:\n",
    "\n",
    "$$ -\\frac{dN}{dt} = 3.858 \\times 10^{10} \\text{s} \\equiv 1 \\text{Ci}$$\n",
    "\n",
    "En donde $1 \\text{Ci}$ es la unidad fundamental para las tasas de desintegración y es llamada Curie.\n"
   ]
  },
  {
   "cell_type": "markdown",
   "metadata": {},
   "source": [
    "### Problema 2\n",
    "\n",
    "La abundancia actual de los isótopos $^{235}\\text{U}$ y $^{238}\\text{U}$ es de $0,72\\%$ y $99,27\\%$ respectivamente. Estimar la edad de la tierra haciendo la suposición de que en el génesis la población relativa de ambos isótopos era la misma. \n",
    "\n",
    "Las vidas medias de los isotopos de $^{235}\\text{U}$ y $^{238}\\text{U}$ son respectivamente:\n",
    "- $\\tau^{^{235}\\text U} = 7.04 \\times 10^8 \\text{años}$\n",
    "- $\\tau^{^{238}\\text U} = 4.468 \\times 10^9 \\text{años}$"
   ]
  },
  {
   "cell_type": "markdown",
   "metadata": {},
   "source": [
    "### Solución\n",
    "\n",
    "Resolviendo la ecuación de decaimiento obtenemos que:\n",
    "\n",
    "$$ \\frac{dN}{dt} = -\\lambda N \\Rightarrow \\int_{N_i}^{N_f} \\frac{dN}{N} = \\log(\\frac{N_f}{N_i}) = - \\lambda \\int_{t_i}^{t_f} dt$$\n",
    "\n",
    "$$ \\Rightarrow \\log(\\frac{N_i}{N_f}) = \\lambda \\Delta t \\Rightarrow N_i = N_f e^{\\lambda \\Delta t}$$\n",
    "\n",
    "En donde $\\Delta t$ es el tiempo en la tierra y $\\lambda = \\frac{\\log(2)}{\\tau}$ la vida media de un isotopo. Si bien no sabemos el valor de $N_i$, para los isótopos propuestos, si sabemos que este valor era igual para ambos y que el tiempo transcurrido fue el mismo. Luego:\n",
    "\n",
    "$$ N_f^{^{238}\\text{U}} e^{\\lambda^{^{238}\\text{U}} \\Delta t} = N_f^{^{235}\\text{U}} e^{\\lambda^{^{235}\\text{U}} \\Delta t}$$\n",
    "\n",
    "$$ \\Rightarrow 0.9927 e^{\\lambda^{^{238}\\text{U}} \\Delta t} = 0.0072 e^{\\lambda^{^{235}\\text{U}} \\Delta t} \\Rightarrow \\frac{0.9927}{0.0072} = e^{(\\lambda^{^{238}\\text{U}} - \\lambda^{^{235}\\text{U}})\\Delta t} $$\n",
    "\n",
    "$$ \\Rightarrow \\Delta t = \\frac{\\log(\\frac{0.9927}{0.0072})}{(\\lambda^{^{238}\\text{U}} - \\lambda^{^{235}\\text{U}})} = \\frac{\\log(\\frac{0.9927}{0.0072})}{\\log(2)} \\left(\\frac{1}{\\tau^{^{238}\\text{U}}} - \\frac{1}{\\tau^{^{235}\\text{U}}} \\right)^{-1}$$\n",
    "\n",
    "Reemplazando:\n",
    "\n",
    "- $\\tau^{^{235}\\text U} = 7.04 \\times 10^8 \\text{años}$\n",
    "- $\\tau^{^{238}\\text U} = 4.468 \\times 10^9 \\text{años}$"
   ]
  },
  {
   "cell_type": "code",
   "execution_count": 6,
   "metadata": {},
   "outputs": [
    {
     "name": "stdout",
     "output_type": "stream",
     "text": [
      "4.1052873391138025 x10^9 años\n"
     ]
    }
   ],
   "source": [
    "from math import log\n",
    "\n",
    "dt = lambda tau1, tau2: log(0.9927/0.0073)/(1/tau1-1/tau2)\n",
    "\n",
    "tau235U = 7.04e8\n",
    "tau238U = 4.468e9\n",
    "\n",
    "print(dt(tau235U, tau238U)/10**9, 'x10^9 años')"
   ]
  },
  {
   "cell_type": "markdown",
   "metadata": {},
   "source": [
    "Obteniéndose que la edad de la tierra es de aproximadamente $4.1 \\times 10^9 \\text{años}$. "
   ]
  },
  {
   "cell_type": "markdown",
   "metadata": {},
   "source": [
    "### Problema 3\n",
    "\n",
    "Considerar que un nucleido inestable $X_1$ decae en el nucleido $X_2$ con una constante de decaimiento $\\lambda_1$. A su vez, el nucleido $X_2$, tambien inestable, decae en el nucleido $X_3$ con una constante de decaimiento $\\lambda_2$. El nucleido $X_3$ es estable. Sabiendo que inicialmente había $N_0$ nucleidos del tipo $X_1$, encontrar la cantidad de cada uno de estos en función del tiempo."
   ]
  },
  {
   "cell_type": "markdown",
   "metadata": {},
   "source": [
    "### Solución\n",
    "\n",
    "En el enunciado se describen una cascada de reacciones nucleares:\n",
    "\n",
    "\n",
    "$$\\frac{dN_1}{dt} = -\\lambda_{1} N_1$$\n",
    "$$\\frac{dN_2}{dt} = \\lambda_{1} N_1 - \\lambda_{2}N_2$$\n",
    "$$\\frac{dN_3}{dt} = \\lambda_{2} N_2$$\n",
    "\n",
    "En donde el signo negativo implica que la cantidad de nucleidos disminuye con el tiempo y el signo positivo que aumenta. Se tienen las siguientes restricciones:\n",
    "\n",
    "$$N_1 + N_2 + N_3 = N_0$$\n",
    "\n",
    "$$\\Rightarrow \\frac{dN_1}{dt} + \\frac{dN_2}{dt} + \\frac{dN_3}{dt} = 0$$\n",
    "\n",
    "Con condición inicial $N_1(0) = N_0$. Notemos que la solucíon a la primera ecuación es:\n",
    "\n",
    "$$ N_1(t) = N_0 e^{-\\lambda_1 t}$$\n",
    "\n",
    "Reemplazando se obtiene la ecuación diferencial:\n",
    "\n",
    "$$ \\frac{dN_2}{dt} = \\lambda_{1}  N_0 e^{-\\lambda_1 t} - \\lambda_{2}N_2$$\n",
    "\n",
    "Se propone una solución homogénea:\n",
    "\n",
    "$$ \\frac{dN^{h}_2}{dt} = - \\lambda_{2}N^{h}_2 \\Rightarrow N_2^h = C e^{-\\lambda_{2} t}$$\n",
    "\n",
    "Y una solución particular:\n",
    "\n",
    "$$ N_2^p = A(t) e^{-\\lambda_2 t}$$\n",
    "\n",
    "$$ \\frac{dN_2^p}{dt} = A'(t) e^{-\\lambda_2 t} - \\lambda_2 A(t) e^{-\\lambda_2 t} = \\lambda_1 N_0 e^{-\\lambda_1 t} - \\lambda_2 N_2^p(t)$$\n",
    "\n",
    "$$ \\Rightarrow A'(t) e^{-\\lambda_2 t} = \\lambda_1 N_0 e^{-\\lambda_1 t} \\Rightarrow A'(t) = \\lambda_1 N_0 e^{(\\lambda_2 - \\lambda_1)t}$$ \n",
    "\n",
    "$$ \\Rightarrow A(t) = \\frac{\\lambda_1 N_0}{\\lambda_2 - \\lambda_1} e^{(\\lambda_2 - \\lambda_1)t} + C$$\n",
    "\n",
    "De modo que la solución general es:\n",
    "\n",
    "$$ N_2(t) = C e^{-\\lambda_{2} t} + \\frac{\\lambda_1 N_0}{\\lambda_2 - \\lambda_1} e^{-\\lambda_1t} $$\n",
    "\n",
    "Lluego $N_2(0) = 0$ lo que implica que:\n",
    "\n",
    "\n",
    "$$C = - \\frac{\\lambda_1 N_0}{\\lambda_2 - \\lambda_1}$$\n",
    "\n",
    "$$ \\Rightarrow N_2(t) = \\frac{\\lambda_1 N_0 }{\\lambda_2 - \\lambda_1}(e^{-\\lambda_1t} - e^{-\\lambda_2t})$$\n"
   ]
  },
  {
   "cell_type": "markdown",
   "metadata": {},
   "source": [
    "Hallamos ahora la solución para $N_3$:\n",
    "\n",
    "$$ \\frac{dN_3}{dt} = \\lambda_{2} \\frac{\\lambda_1 N_0 }{\\lambda_2 - \\lambda_1}(e^{-\\lambda_1t} - e^{-\\lambda_2t})$$\n",
    "\n",
    "Integrando:\n",
    "\n",
    "$$ \\int dN_3 = \\frac{\\lambda_2 \\lambda_1 N_0}{\\lambda_2 - \\lambda_1}\\int (e^{-\\lambda_1t} - e^{-\\lambda_2t})dt$$\n",
    "\n",
    "$$ N_3(t) = \\frac{\\lambda_2 \\lambda_1 N_0}{\\lambda_2 - \\lambda_1} (\\frac{e^{-\\lambda_2t}}{\\lambda_2} - \\frac{e^{-\\lambda_1t}}{\\lambda_1} ) + C$$\n",
    "\n",
    "$$ N_3(0) = 0 \\Rightarrow \\frac{\\lambda_2 \\lambda_1 N_0}{\\lambda_2 - \\lambda_1} (\\frac{1}{\\lambda_2} - \\frac{1}{\\lambda_1} ) + C= -N_0 + C = 0$$\n",
    "\n",
    "$$ \\Rightarrow N_3(t) = N_0 \\left(1 - \\frac{\\lambda_2 e^{-\\lambda_1t} - \\lambda_1 e^{-\\lambda_2t}}{\\lambda_2 - \\lambda_1} \\right) $$"
   ]
  },
  {
   "cell_type": "markdown",
   "metadata": {},
   "source": [
    "### Problema 5"
   ]
  },
  {
   "cell_type": "markdown",
   "metadata": {},
   "source": [
    "Un método de producir un nucleido radiactivo consiste en colocar una muestra de una determinada sustancia en el interior de un reactor nuclear. Los nucleidos radiactivos se producen como consecuencia de la captura de un neutrón por los núcleos de la sustancia.\n",
    "\n",
    "En un reactor nuclear se coloca $^{59}\\text{Co}$. El nuevo nucleido se produce a razón de $g$ núcleos por segundo. Calcular el número de núcleos radiactivos producido en función del tiempo.\n"
   ]
  },
  {
   "cell_type": "markdown",
   "metadata": {},
   "source": [
    "### Solución\n",
    "La reacción nuclear del cobalto al capturar un neutrón es:\n",
    "\n",
    "$$^{59}_{27}\\text{Co} + n \\rightarrow ^{60}_{27}\\text{Co}$$\n",
    "\n",
    "Esta reacción implican los siguientes cambios en las poblaciones:\n",
    "\n",
    "$$\\frac{dN_{59}}{dt} = -g - \\lambda N_{59} \\qquad \\frac{dN_{60}}{dt} = g - \\lambda N_{60} $$\n",
    "\n",
    "Buscamos resolver la siguiente ecuación diferencial. Proponemos la solución homogénea $N_{60}^h$ tal que:\n",
    "\n",
    "$$\\frac{dN_{60}^h}{dt} = -\\lambda N_{60}^h \\Rightarrow N_{60}^h = C e^{-\\lambda t}$$\n",
    "\n",
    "Buscamos ahora una solución particular $N_{60}^p$ tal que $N_{60}^p = A(t) e^{-\\lambda t}$, con $A(t)$ una función a determinar. Reemplazando en la ecuación diferencial:\n",
    "\n",
    "$$\\frac{dN_{60}^p}{dt} = A'(t) e^{-\\lambda t} - \\lambda A(t) e^{-\\lambda t} = g - \\lambda N_{60}^p$$\n",
    "\n",
    "$$\\Rightarrow A'(t) = g e^{\\lambda t} \\Rightarrow A(t) = g \\frac{e^{\\lambda t}}{\\lambda} + C$$\n",
    "\n",
    "Luego la solución general es:\n",
    "\n",
    "$$N_{60}(t) = C e^{-\\lambda t} + \\frac{g}{\\lambda}$$\n",
    "\n",
    "Dado que al inicio de la reacción, no hay nucleos de $^{60}\\text{Co}$, se tiene que $N_{60}(0) = 0$ lo que implica que $C = -\\frac{g}{\\lambda}$. El numero de núcleos de $^{60}\\text{Co}$ en función del tiempo es:\n",
    "\n",
    "$$N_{60}(t) = \\frac{g}{\\lambda} (1 - e^{-\\lambda t})$$"
   ]
  },
  {
   "cell_type": "markdown",
   "metadata": {},
   "source": [
    "### Problema 6\n",
    "\n",
    "La razón másica entre el radioisótopo $^{14}\\text{C}$ y el estable $^{12}\\text{C}$ es de $1.5 \\times 10 ^{-12}$. Encontrar el número de desintegraciones por segundo en $1\\text{g}$ de materia viva.\n",
    "\n",
    "En una muestra de $64\\text{g}$ de carbón se observan 2 desintegraciones por segundo. Calcular la edad de la muestra.\n",
    "\n",
    "Considerar que la vida media del $^{14}\\text{C}$ es de $5700$ años.\n"
   ]
  },
  {
   "cell_type": "markdown",
   "metadata": {},
   "source": [
    "### Solución\n",
    "\n",
    "El $^{12}\\text{C}$ es estable, y por lo tanto no se consideran desintegraciones. El $^{14}\\text{C}$ decae en $^{14}\\text{N}$ a través de un proceso de desintegración beta, es decir se produce la reacción:\n",
    "\n",
    "$$^{14}_{6}\\text{C} \\rightarrow ^{14}_{7}\\text{N} + \\beta^-$$\n",
    "\n",
    "Que la razón másica entre el $^{14}\\text{C}$ y el $^{12}\\text{C}$ sea de $1.5 \\times 10^{-12}$ implica que:\n",
    "\n",
    "$$\\frac{m^{^{14}\\text{C}}}{m^{^{12}\\text{C}} + m^{^{14}\\text{C}}} = 1.5 \\times 10^{-12}$$\n",
    "\n",
    "Para una muestra de $1\\text{g}$ de materia viva, la cantidad de $^{14}\\text{C}$ es de $1.5 \\times 10^{-12} \\text{g}$. Si la masa molar del $^{14}\\text{C}$ es de $14\\frac{\\text{g}}{\\text{mol}}$, entonces la cantidad de núcleos de $^{14}\\text{C}$ es de:\n",
    "\n",
    "$$N^{^{14}\\text{C}} = \\frac{1.5 \\times 10^{-12}}{14} \\times 6.022 \\times 10^{23} = 64.52 \\times 10^{9}$$"
   ]
  },
  {
   "cell_type": "markdown",
   "metadata": {},
   "source": [
    "Calculamos ahora la actividad de la muestra. La actividad esta dada por:\n",
    "\n",
    "$$\\frac{dN}{dt} = -\\lambda N = -\\frac{\\log(2)}{\\tau} N$$"
   ]
  },
  {
   "cell_type": "code",
   "execution_count": null,
   "metadata": {},
   "outputs": [
    {
     "name": "stdout",
     "output_type": "stream",
     "text": [
      "0.24731944209079143 desintegraciones por segundo\n",
      "6.684309245697066e-12 Ci\n"
     ]
    }
   ],
   "source": [
    "from math import log\n",
    "\n",
    "def years_to_seconds(time):\n",
    "    return time * 365.2525 * 24 * 3600\n",
    "\n",
    "def hz_to_curie(frequency):\n",
    "    return frequency / 3.7e10\n",
    "\n",
    "\n",
    "N14C = 64.52e9\n",
    "tau14C = 5730 # years\n",
    "activity = lambda N, tau: log(2)*N/tau\n",
    "print(activity(N14C, years_to_seconds(tau14C)), 'desintegraciones por segundo')\n",
    "print(hz_to_curie(activity(N14C, years_to_seconds(tau14C))), 'Ci')"
   ]
  },
  {
   "cell_type": "markdown",
   "metadata": {},
   "source": [
    "Se tiene que la actividad de la muestra sera de $0.24$ desintegraciones por segundo. El hecho de que la muestra sea de materia viva, implica que la cantidad de $^{14}\\text{C}$ es igual a la de la atmosfera Dado que el proceso de fotosíntesis incorpora el átomo radiactivo en los organismos autótrofos, y estos son consumidos luego por los heterótrofos."
   ]
  },
  {
   "cell_type": "markdown",
   "metadata": {},
   "source": [
    "Se tiene ahora que la actividad de una muestra de $64\\text{g}$ de carbono es de $2$ desintegraciones por segundo, es decir $2/64 = 0.03125$ desintegraciones por segundo por gramo de la muestra. Una actividad menor a la obtenida en el resultado anterior, es decir al transcurrir el tiempo una fracción de los núcleos de $^{14}\\text{C}$ se desintegraron y la actividad disminuyo con respecto a la de la materia viva.\n",
    "\n",
    "Reemplazando estos valores en la ecuación de actividad, podemos obtener el número de átomos de $^{14}\\text{C}$ en $1\\text{g}$ de la muestra.\n",
    "\n",
    "$$0.03125 = \\frac{\\log(2)}{\\tau} N^{^{14}\\text{C}} \\Rightarrow  N^{^{14}\\text{C}} = \\frac{0.03125 \\tau}{\\log(2)}$$\n",
    "\n",
    "\n",
    "Por otra parte si se resuelve la ecuación diferencial de desintegración, se obtiene que:\n",
    "\n",
    "$$ \\int_{N_0}^{N} \\frac{dN}{N} = -\\lambda \\int_{0}^{t} dt \\Rightarrow \\log(\\frac{N}{N_0}) = -\\lambda t $$\n",
    "\n",
    "$$ \\Rightarrow t = \\frac{\\tau}{\\log(2)} \\log{\\frac{N_0}{N}}$$\n",
    "\n",
    "Luego si se toma el numero de núcleos de $^{14}\\text{C}$ en la muestra de materia viva como $N_0$, podemos obtener el tiempo transcurrido desde que la materia viva desintegro atomos de $^{14}\\text{C}$ hasta el momento de la prueba. Esto es:"
   ]
  },
  {
   "cell_type": "code",
   "execution_count": 30,
   "metadata": {},
   "outputs": [
    {
     "name": "stdout",
     "output_type": "stream",
     "text": [
      "17100.884526597005 años\n"
     ]
    }
   ],
   "source": [
    "from math import log\n",
    "\n",
    "def years_to_seconds(time):\n",
    "    return time * 365.2525 * 24 * 3600\n",
    "\n",
    "def seconds_to_years(time):\n",
    "    return time / 365.2525 / 24 / 3600\n",
    "\n",
    "tau14C = 5730 # years\n",
    "N14C = 64.52e9 #N0\n",
    "Nm14C = 2/64*years_to_seconds(tau14C)/log(2) #N\n",
    "t = lambda tau, N0, N: tau*log(N0/N)/log(2)\n",
    "\n",
    "print(seconds_to_years(t(years_to_seconds(tau14C), N14C, Nm14C)), 'años')\n"
   ]
  },
  {
   "cell_type": "markdown",
   "metadata": {},
   "source": [
    "Por lo que la muestra tendra 17101 años aproximadamente"
   ]
  },
  {
   "cell_type": "markdown",
   "metadata": {},
   "source": [
    "### Problema 7\n",
    "\n",
    "Discutir la estabilidad del $^{232} \\text{U}$ respecto a la emisión de las siguientes partículas: $n$, $^1\\text{H}$, $^2\\text{H}$, $^3\\text{H}$ y $^4\\text{He}$.\n"
   ]
  },
  {
   "cell_type": "markdown",
   "metadata": {},
   "source": [
    "### Solución\n",
    "\n",
    "La emisión de un neutrón del $^{232} \\text{U}$ se describe por el siguiente proceso:\n",
    "\n",
    "$$^{232}_{92}\\text{U} \\rightarrow ^{231}_{92}\\text{U} + n$$\n",
    "\n",
    "Sea $Q$ la energía liberada en la reacción. Entonces:\n",
    "\n",
    "$$ Q = [M(^{232}\\text{U}) - M(^{231}\\text{U}) - m_n] c^2$$\n",
    "\n",
    "Las masas involucradas son:\n",
    "\n",
    "* $M(^{232}\\text{U}) = 232.0371$\n",
    "* $M(^{231}\\text{U}) = 231.0359$"
   ]
  },
  {
   "cell_type": "code",
   "execution_count": null,
   "metadata": {},
   "outputs": [
    {
     "name": "stdout",
     "output_type": "stream",
     "text": [
      "-698842429199875.1\n"
     ]
    }
   ],
   "source": [
    "M232U = 232.0371\n",
    "M231U = 231.0362\n",
    "c = 3e8\n",
    "mn = 1.008\n",
    "Q = lambda M1, M2: (M1 - M2 - mn)*c**2\n",
    "print(Q(M232U, M231U))"
   ]
  },
  {
   "cell_type": "markdown",
   "metadata": {},
   "source": [
    "Luego, el valor de $Q$ es negativo por lo que no se espera que el $^{232} \\text{U}$ emita un neutrón."
   ]
  },
  {
   "cell_type": "markdown",
   "metadata": {},
   "source": [
    "La emisión de un nucleo de hidrógeno $^1\\text{H}$ se describe por el siguiente proceso:\n",
    "\n",
    "$$^{232}_{92}\\text{U} \\rightarrow ^{231}_{91}\\text{Pa} + ^1\\text{H}$$\n",
    "\n",
    "La masa del Proactinio-231 es $M(^{231}\\text{Pa}) = 231.0359$. Luego:\n",
    "\n",
    "$$ Q = [M(^{232}\\text{U}) - M(^{231}\\text{Pa}) - m(^1\\text{H})] c^2$$"
   ]
  },
  {
   "cell_type": "code",
   "execution_count": 4,
   "metadata": {},
   "outputs": [
    {
     "name": "stdout",
     "output_type": "stream",
     "text": [
      "-2.70126292873499e+17\n"
     ]
    }
   ],
   "source": [
    "M232U = 232.0371\n",
    "M231PA = 231.0359\n",
    "MH = 4.00260325415\n",
    "c = 3e8\n",
    "mn = 1.008\n",
    "Q = lambda M1, M2: (M1 - M2 - MH)*c**2\n",
    "print(Q(M232U, M231PA))"
   ]
  },
  {
   "cell_type": "markdown",
   "metadata": {},
   "source": [
    "Nuevamente la energía liberada es negativa, por lo que no se espera que el $^{232} \\text{U}$ emita un núcleo de hidrógeno."
   ]
  },
  {
   "cell_type": "markdown",
   "metadata": {},
   "source": [
    "Para el caso del $^2\\text{H}$, la reacción es:\t\n",
    "\n",
    "$$^{232}_{92}\\text{U} \\rightarrow ^{230}_{91}\\text{Pa} + ^2\\text{H}$$\n",
    "\n",
    "La energía liberada en la reacción es:\n",
    "\n",
    "$$ Q = [M(^{232}\\text{U}) - M(^{230}\\text{Pa}) - m(^2\\text{H})] c^2$$\n",
    "\n",
    "Las masas involucradas son:\n",
    "- $ M(^{230}\\text{Pa}) = 230.034$\n",
    "- $ m(^2\\text{H}) = 2.014$"
   ]
  },
  {
   "cell_type": "code",
   "execution_count": 8,
   "metadata": {},
   "outputs": [
    {
     "name": "stdout",
     "output_type": "stream",
     "text": [
      "-980999999998393.1\n"
     ]
    }
   ],
   "source": [
    "M232U = 232.0371\n",
    "M230Pa = 230.034\n",
    "m2H = 2.014\n",
    "Q = lambda M1, M2: (M1 - M2 - m2H)*c**2\n",
    "print(Q(M232U, M230Pa))"
   ]
  },
  {
   "cell_type": "markdown",
   "metadata": {},
   "source": [
    "Nuevamente la energía liberada es negativa. La desintegración no es posible,"
   ]
  },
  {
   "cell_type": "markdown",
   "metadata": {},
   "source": [
    "La desintegración de tritones $^3\\text{H}$ se describe por el proceso:\n",
    "\n",
    "$$^{232}_{92}\\text{U} \\rightarrow ^{229}_{91}\\text{Pa} + ^3\\text{H}$$\n",
    "\n",
    "La energía liberada en la reacción es:\n",
    "\n",
    "$$ Q = [M(^{232}\\text{U}) - M(^{229}\\text{Pa}) - m(^3\\text{H})] c^2$$\n",
    "\n",
    "Las masas son:\n",
    "\n",
    "- $ M(^{229}\\text{Pa}) = 229.034$\n",
    "- $ m(^3\\text{H}) = 3.016$"
   ]
  },
  {
   "cell_type": "code",
   "execution_count": 7,
   "metadata": {},
   "outputs": [
    {
     "name": "stdout",
     "output_type": "stream",
     "text": [
      "-1160999999998413.2\n"
     ]
    }
   ],
   "source": [
    "M232U = 232.0371\n",
    "M230Pa = 229.034\n",
    "m3H = 3.016\n",
    "Q = lambda M1, M2: (M1 - M2 - m3H)*c**2\n",
    "print(Q(M232U, M230Pa))"
   ]
  },
  {
   "cell_type": "markdown",
   "metadata": {},
   "source": [
    "Nuevamente la energía liberada es negativa. La desintegración no es posible."
   ]
  },
  {
   "cell_type": "markdown",
   "metadata": {},
   "source": [
    "Finalmente el proceso para la emisión de partículas $\\alpha$ es: \n",
    "\n",
    "$$ ^{232}_{92}\\text{U} \\rightarrow ^{228}_{90}\\text{Th} + ^4\\text{He}$$\n",
    "\n",
    "La energía liberada en la reacción es:\n",
    "\n",
    "$$Q = [M(^{232}\\text{U}) - M(^{228}\\text{Th}) - m(^4\\text{He})] c^2$$\n",
    "\n",
    "En donde:\n",
    "\n",
    "- $M(^{228}\\text{Th}) = 228.0287$\n",
    "- $m(^4\\text{He}) = 4.0026$"
   ]
  },
  {
   "cell_type": "code",
   "execution_count": 23,
   "metadata": {},
   "outputs": [
    {
     "name": "stdout",
     "output_type": "stream",
     "text": [
      "-1585569716999328.8\n"
     ]
    }
   ],
   "source": [
    "M232U = 232.0371548\n",
    "M228Th = 228.0287397\n",
    "m4He = 4.0260325413\n",
    "c = 3e8\n",
    "Q = lambda M1, M2, M3: (M1 - M2 - M3)*c**2\n",
    "print(Q(M232U, M228Th, m4He))"
   ]
  },
  {
   "cell_type": "markdown",
   "metadata": {},
   "source": [
    "NOTA: Ver esto."
   ]
  },
  {
   "cell_type": "markdown",
   "metadata": {},
   "source": [
    "### problema 8\n",
    "\n",
    "Encontrar la energía liberada en el decaimiento $\\alpha$ del $^{247}\\text{Bk}$. Calcular la energía cinética y la velocidad de la partícula $\\alpha$ emitida.\n",
    "\n",
    "El proceso de emisión de la particula $\\alpha$ del $^{247}\\text{Bk}$ es:\n",
    "\n",
    "$$ ^{247}_{97}\\text{Bk} \\rightarrow ^{243}_{95}\\text{Am} + ^4\\text{He}$$\n",
    "\n",
    "La energía liberada en la reacción es:\n",
    "\n",
    "$$Q = [M(^{247}\\text{Bk}) - M(^{243}\\text{Am}) - m(^4\\text{He})] c^2$$"
   ]
  },
  {
   "cell_type": "code",
   "execution_count": 24,
   "metadata": {},
   "outputs": [
    {
     "name": "stdout",
     "output_type": "stream",
     "text": [
      "5.901489001212488 MeV\n"
     ]
    }
   ],
   "source": [
    "M247Bk = 247.07031\n",
    "M243Am = 243.06138\n",
    "M4He = 4.00260325415\n",
    "\n",
    "def uma_to_kg(mass):\n",
    "    return mass * 1.66053906660e-27\n",
    "\n",
    "def J_to_eV(energy):\n",
    "    return energy / 1.602176634e-19\n",
    "\n",
    "Q = lambda M1, M2, M3: (M1 - M2 - M3)*c**2\n",
    "print(J_to_eV(Q(uma_to_kg(M247Bk), uma_to_kg(M243Am), uma_to_kg(M4He)))*10**-6, 'MeV')"
   ]
  },
  {
   "cell_type": "markdown",
   "metadata": {},
   "source": [
    "La energía liberada en el proceso será de $5.9 \\text{MeV}$.\n",
    "\n",
    "Se puede relacionar la energía liberada con la energía cinética de la partícula $\\alpha$ emitida como:\n",
    "\n",
    "$$Q = K_{\\alpha} \\left( 1 + \\frac{M_{\\alpha}}{M_Y} \\right) \\Rightarrow K_{\\alpha} = \\frac{Q}{ \\left( 1 + \\frac{M_{\\alpha}}{M_Y} \\right) }$$"
   ]
  },
  {
   "cell_type": "code",
   "execution_count": 26,
   "metadata": {},
   "outputs": [
    {
     "name": "stdout",
     "output_type": "stream",
     "text": [
      "5.80441601852103 MeV\n"
     ]
    }
   ],
   "source": [
    "K = lambda Q, MY, Malpha: Q/(1 + Malpha/MY)\n",
    "Q = 5.9e6\n",
    "MY = 243.06138\n",
    "Malpha = 4.00260325415\n",
    "print(K(Q, MY, Malpha)*10**-6,'MeV')"
   ]
  },
  {
   "cell_type": "markdown",
   "metadata": {},
   "source": [
    "La energía cinética de la partícula $\\alpha$ es de $5.8 \\text{MeV}$. Como la energía cinética se considera no relativista, podemos hallar la velocidad de la particula $\\alpha$ como:\n",
    "\n",
    "$$ K_{\\alpha} = \\frac{1}{2} m_{\\alpha} v^2 \\Rightarrow v = \\sqrt{\\frac{2 K_{\\alpha}}{m_{\\alpha}}}$$"
   ]
  },
  {
   "cell_type": "code",
   "execution_count": 31,
   "metadata": {},
   "outputs": [
    {
     "name": "stdout",
     "output_type": "stream",
     "text": [
      "16724298.715515975 m/s\n",
      "5.574766238505325 % de c\n"
     ]
    }
   ],
   "source": [
    "from math import sqrt\n",
    "\n",
    "def eV_to_J(energy):\n",
    "    return energy * 1.602176634e-19\n",
    "\n",
    "v = lambda K, m: sqrt(2*K/m) \n",
    "\n",
    "Malpha = 4.00260325415\n",
    "Kalpha = eV_to_J(5.8e6)\n",
    "malpha = 6.64465675e-27\n",
    "print(v(Kalpha, malpha), 'm/s')\n",
    "c = 3e8\n",
    "print(v(Kalpha, malpha)/c*100,'% de c')"
   ]
  },
  {
   "cell_type": "markdown",
   "metadata": {},
   "source": [
    "Se obtiene que la velocidad de la particula $\\alpha$ es de $16724298.72 \\text{m/s}$ o $\\approx 5,58 \\% c$."
   ]
  },
  {
   "cell_type": "markdown",
   "metadata": {},
   "source": [
    "### Problema 9\n",
    "\n",
    "Analizar la vida media del $^{232}\\text{Th}$ respecto a la desintegración $\\alpha$.\t"
   ]
  },
  {
   "cell_type": "markdown",
   "metadata": {},
   "source": [
    "### Solución\n",
    "\n",
    "La desintegración $\\alpha$ del $^{232}\\text{Th}$ se describe por el proceso:\n",
    "\n",
    "$$^{232}_{90}\\text{Th} \\rightarrow ^{228}_{88}\\text{Ra} + ^4\\text{He}$$\n",
    "\n",
    "La energía liberada en la reacción es:\n",
    "\n",
    "$$Q = [M(^{232}\\text{Th}) - M(^{228}\\text{Ra}) - m(^4\\text{He})] c^2$$"
   ]
  },
  {
   "cell_type": "code",
   "execution_count": null,
   "metadata": {},
   "outputs": [
    {
     "name": "stdout",
     "output_type": "stream",
     "text": [
      "4.1012153625102785 MeV\n"
     ]
    }
   ],
   "source": [
    "M232Th = 232.0381\n",
    "M228Ra = 228.0311\n",
    "M4He = 4.00260325415\n",
    "\n",
    "def uma_to_kg(mass):\n",
    "    return mass * 1.66053906660e-27\n",
    "\n",
    "def J_to_eV(energy):\n",
    "    return energy / 1.602176634e-19\n",
    "\n",
    "Q = lambda M1, M2, M3: (M1 - M2 - M3)*c**2\n",
    "print(J_to_eV(Q(uma_to_kg(M232Th), uma_to_kg(M228Ra), uma_to_kg(M4He)))*10**-6, 'MeV')\n",
    "\n"
   ]
  },
  {
   "cell_type": "markdown",
   "metadata": {},
   "source": [
    "La energía liberada en la reacción es de $4,1\\text{MeV}$. Podemos hallar la energía cinetica de la particula $\\alpha$ de la relación:\n",
    "\n",
    "$$  K_{\\alpha} = \\frac{Q}{\\left(1 + \\frac{M_{\\alpha}}{M_{Y}} \\right)}$$"
   ]
  },
  {
   "cell_type": "code",
   "execution_count": 2,
   "metadata": {},
   "outputs": [
    {
     "name": "stdout",
     "output_type": "stream",
     "text": [
      "4.029274613507159 MeV\n"
     ]
    }
   ],
   "source": [
    "K = lambda Q, MY, Malpha: Q/(1 + Malpha/MY)\n",
    "Q = 4.1e6\n",
    "M228Ra = 228.0311\n",
    "M4He = 4.00260325415\n",
    "print(K(Q, M228Ra, M4He)*10**-6,'MeV')"
   ]
  },
  {
   "cell_type": "markdown",
   "metadata": {},
   "source": [
    "La energía cinetica sera de $4.02 \\text{MeV}$.\n",
    "\n",
    "Buscamos ahora el rango de la barrera de potencial cuadrado que la partícula $\\alpha$ debe atravesar para salir del núcleo.\n",
    "\n",
    "Consideremos la distancia como la suma de los dos radios nucleares. Usando que $R = A^{1/3} \\times 1.2 \\text{fm}$:\n",
    "\n",
    "$$ r = (228^{1/3} + 4^{1/3}) \\times 1.2 \\text{fm} = 9.2 \\text{fm}$$\n",
    "\n",
    "La interacción coulombiana para esta separación sera de:\n",
    "\n",
    "$$ V(r) = \\frac{Z_{\\alpha }Z_{^{228\\text{Ra}}} ke^2}{r} $$"
   ]
  },
  {
   "cell_type": "code",
   "execution_count": 7,
   "metadata": {},
   "outputs": [
    {
     "name": "stdout",
     "output_type": "stream",
     "text": [
      "26.92107631457425 MeV\n"
     ]
    }
   ],
   "source": [
    "e = 1.602176634e-19\n",
    "k = 8.9875517873681764e9\n",
    "V = lambda r, Z1, Z2: Z1*Z2*k*e**2/(r)\n",
    "\n",
    "r = 9.2e-15\n",
    "\n",
    "def J_to_eV(energy):\n",
    "    return energy / 1.602176634e-19\n",
    "\n",
    "print(J_to_eV(V(r, 86, 2))*10**-6, 'MeV')"
   ]
  },
  {
   "cell_type": "markdown",
   "metadata": {},
   "source": [
    "Esta interacción es de $26,9\\text{MeV}$. Sea $P = e^{-2kr}$ con $k = \\sqrt{2m_{\\alpha}(V_0 - Q)} / \\hbar$, luego la vida media del $^{232}\\text{Th}$ respecto a la desintegración $\\alpha$ es:\n",
    "\n",
    "$$ \\tau^{^232\\text{Th}} \\approx \\frac{1}{P} \\approx 3\\times 10^{9} \\text{años}$$"
   ]
  },
  {
   "cell_type": "markdown",
   "metadata": {},
   "source": [
    "### Problema 10\n",
    "\n",
    "Los isóbaros $^{27}\\text{Mg}$, $^{27}\\text{Al}$ y $^{27}\\text{Si}$ están relacionados a través de procesos de decaimiento $\\beta$. A partir de los valores de sus masas atómicas determiné cuál de ellos es isóbaro estable. Determine los modos de decaimiento energéticamente posibles para los otros dos isóbaros."
   ]
  },
  {
   "cell_type": "markdown",
   "metadata": {},
   "source": [
    "### Solución\n",
    "\n",
    "Hallemos la energía de ligadura para los isobaros.\n",
    "\n",
    "$$ E_b = [ZM(^1H) + (A - Z)m_n - M(^A_ZX_N)]c^2$$\n",
    "\n",
    "Esta formula nos dice que mientras mas pequeño sea el valor de $M(^A_ZX_N)$, mayor sera la energía de ligadura y mas estable sera el nucleido. Los valores de las masas atómicas son:\n",
    "\n",
    "En donde:\n",
    "\n",
    "- $M(^{27}\\text{Mg}) = 26.98434065$\n",
    "- $M(^{27}\\text{Al}) = 26.98153841$\n",
    "- $M(^{27}\\text{Si}) = 26.98670469$\n",
    "\n",
    "Luego, el isóbaro estable es el $^{27}\\text{Al}$. Veamos ahora la energía de desintegración para los otros dos isóbaros. La energía de desintegración esta dada por:\n",
    "\n",
    "$$ Q = [M(^A_ZX) - M(^A_{Z+1}Y)] c^2 = K_Y + K_e + E_{\\nu}$$\n",
    "\n",
    "En el caso de desintegración $\\beta^-$. Esta ocurre en el caso de exceso de neutrones, lo cual es el caso del $^{27}\\text{Mg}$. Luego:\n",
    "\n",
    "$$ Q = [M(^{27}\\text{Mg}) - M(^{27}\\text{Al})] c^2 $$"
   ]
  },
  {
   "cell_type": "code",
   "execution_count": 3,
   "metadata": {},
   "outputs": [
    {
     "name": "stdout",
     "output_type": "stream",
     "text": [
      "2.613885389238481 MeV\n"
     ]
    }
   ],
   "source": [
    "M27Mg = 26.98434065\n",
    "M27Al = 26.98153841\n",
    "M27Si = 26.986700469\n",
    "c = 3e8\n",
    "\n",
    "def uma_to_kg(mass):\n",
    "    return mass * 1.66053906660e-27\n",
    "\n",
    "def J_to_MeV(energy):\n",
    "    return energy / 1.602176634e-19 * 10**-6\n",
    "\n",
    "Q = lambda M1, M2: (M1 - M2)*c**2\n",
    "\n",
    "print(J_to_MeV(Q(uma_to_kg(M27Mg), uma_to_kg(M27Al))), 'MeV')"
   ]
  },
  {
   "cell_type": "markdown",
   "metadata": {},
   "source": [
    "La energía de desintegración del $^{27}\\text{Mg}$ es de $2.61 \\text{MeV}$. "
   ]
  },
  {
   "cell_type": "markdown",
   "metadata": {},
   "source": [
    "Por otra parte, para el caso de desintegración $\\beta^+$, esta ocurre en el caso de exceso de protones, lo cual es el caso del $^{27}\\text{Si}$. La energía en este caso sera:\n",
    "\n",
    "$$ Q = [M(^A_ZX) - M(^A_{Z-1}Y) - 2m_e] c^2 = K_Y + K_e + E_{\\nu}$$\n",
    "\n",
    "Luego:\n",
    "\n",
    "$$ Q = [M(^{27}\\text{Si}) - M(^{27}\\text{Al}) - 2m_e] c^2 $$"
   ]
  },
  {
   "cell_type": "code",
   "execution_count": 4,
   "metadata": {},
   "outputs": [
    {
     "name": "stdout",
     "output_type": "stream",
     "text": [
      "3.791674026768198 MeV\n"
     ]
    }
   ],
   "source": [
    "M27Mg = 26.98434065\n",
    "M27Al = 26.98153841\n",
    "M27Si = 26.986700469\n",
    "me = 9.10938356e-31\n",
    "\n",
    "c = 3e8\n",
    "\n",
    "def uma_to_kg(mass):\n",
    "    return mass * 1.66053906660e-27\n",
    "\n",
    "def J_to_MeV(energy):\n",
    "    return energy / 1.602176634e-19 * 10**-6\n",
    "\n",
    "Q = lambda M1, M2: (M1 - M2 - 2*me)*c**2\n",
    "\n",
    "print(J_to_MeV(Q(uma_to_kg(M27Si), uma_to_kg(M27Al))), 'MeV')"
   ]
  },
  {
   "cell_type": "markdown",
   "metadata": {},
   "source": [
    "La energía de desintegración del $^{27}\\text{Si}$ es de $3.79 \\text{MeV}$."
   ]
  },
  {
   "cell_type": "markdown",
   "metadata": {},
   "source": [
    "### Problema 11\n",
    "\n",
    "Determine la energía máxima del espectro $\\beta^{-}$ en el decaimiento del $^{3}H$."
   ]
  },
  {
   "cell_type": "markdown",
   "metadata": {},
   "source": [
    "### Solución\n",
    "\n",
    "El proceso de desintegración del tritón es el siguiente:\n",
    "\n",
    "$$ ^{3}_{1}\\text{H} \\rightarrow ^{3}_{2}\\text{He} + e^- + \\bar{\\nu}$$\t\n",
    "\n",
    "La energía maxima del proceso, es la energía cinetica maxima del electrón. Esta se obtiene cuando el neutrino tiene energía cero. La energía de desintegración es:\n",
    "\n",
    "$$ Q = [M(^{3}\\text{H}) - M(^{3}\\text{He})] c^2$$\n",
    "\n",
    "Usando que:\n",
    "- $M(^3H) = 3,01604928132$\n",
    "- $M(^3He) = 3,01602932187$"
   ]
  },
  {
   "cell_type": "code",
   "execution_count": 6,
   "metadata": {},
   "outputs": [
    {
     "name": "stdout",
     "output_type": "stream",
     "text": [
      "0.0186178609725221 MeV\n"
     ]
    }
   ],
   "source": [
    "c = 3e8\n",
    "M3H = 3.01604928132\n",
    "M3He = 3.01602932187\n",
    "Q = lambda M1, M2: (M1 - M2)*c**2\n",
    "\n",
    "def uma_to_kg(mass):\n",
    "    return mass * 1.66053906660e-27\n",
    "\n",
    "def J_to_MeV(energy):\n",
    "    return energy / 1.602176634e-19 * 10**-6\n",
    "\n",
    "print(J_to_MeV(Q(uma_to_kg(M3H), uma_to_kg(M3He))), 'MeV')"
   ]
  },
  {
   "cell_type": "markdown",
   "metadata": {},
   "source": [
    "La energía máxima del espectro será de $0.0186 \\text{MeV}$."
   ]
  },
  {
   "cell_type": "markdown",
   "metadata": {},
   "source": [
    "### Problema 12\n",
    "\n",
    "Cuando el $^{14}\\text{O}$ se desintegra por emisión $\\beta^+$ en el núcleo resudual $^{14}\\text{N}$, queda en el $99\\%$ de los casos, en un estado excitado, del cual pasa a su estado fundamental emitiendo radiación $\\gamma$ de $2,30\\text{MeV}$. La energía máxima medida del espectro $\\beta^+$ en esta desintegración es de $1,84\\text{MeV}$. Determine la masa del $^{14}\\text{O}$.\n",
    "\n",
    "\n"
   ]
  },
  {
   "attachments": {
    "image-40.png": {
     "image/png": "[encoded data removed]"
    }
   },
   "cell_type": "markdown",
   "metadata": {},
   "source": [
    "### Solución\n",
    "\n",
    "Diagramemos el proceso de desintegración:\n",
    "\n",
    "![image-40.png](attachment:image-40.png)"
   ]
  },
  {
   "cell_type": "markdown",
   "metadata": {},
   "source": [
    "La energía máxima del espectro $\\beta^+$, es decir aquella en el cual la partícula queda en un estado excitado es de $1.84\\text{MeV}$.  Por otra parte, podemos hallar la energía máxima del proceso como:\n",
    "\n",
    "$$ Q = [M(^{14}\\text{O}) - M(^{14}\\text{N}) 2 M(e^+)] c^2$$\n",
    "\n",
    "Podemos hallar la masa del $^{14}\\text{O}$ como:\n",
    "\n",
    "$$ \\Rightarrow M(^{14}\\text{O}) = Q/c + M(^{14}\\text{N}) + 2 M(e^+)$$\n",
    "\n",
    "Reemplazando los valores obtenidos:\n",
    "- $M(^{14}\\text{N}) = 14,00307400425$"
   ]
  },
  {
   "cell_type": "code",
   "execution_count": 21,
   "metadata": {},
   "outputs": [
    {
     "name": "stdout",
     "output_type": "stream",
     "text": [
      "14.008114423601645\n"
     ]
    }
   ],
   "source": [
    "M14N = 14.00307400425\n",
    "Me = 0.00054858\n",
    "c = 299792458 \n",
    "M14O = lambda Q: Q/c + M14N - 2*Me\n",
    "\n",
    "print(M14O(1.84e6))"
   ]
  },
  {
   "cell_type": "markdown",
   "metadata": {},
   "source": [
    "La masa del $^{14}\\text{O}$ es de $14,00811 \\text{u}$, lo cual es consistente con el valor tabulado de $14,008596706 \\text{u}$."
   ]
  }
 ],
 "metadata": {
  "kernelspec": {
   "display_name": "torch",
   "language": "python",
   "name": "python3"
  },
  "language_info": {
   "codemirror_mode": {
    "name": "ipython",
    "version": 3
   },
   "file_extension": ".py",
   "mimetype": "text/x-python",
   "name": "python",
   "nbconvert_exporter": "python",
   "pygments_lexer": "ipython3",
   "version": "3.12.2"
  }
 },
 "nbformat": 4,
 "nbformat_minor": 2
}
