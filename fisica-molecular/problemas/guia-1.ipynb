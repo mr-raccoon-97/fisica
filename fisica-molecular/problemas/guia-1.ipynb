{
 "cells": [
  {
   "cell_type": "markdown",
   "metadata": {},
   "source": [
    "### Problema 1.\n",
    "\n",
    "Evalúe la energía de los estados ligante y antiligante de la molécula de hidrógeno ionizada $H^+_2$ en el modelo $LCAO$, utilizando orbitales atómicos hidrogenoides $1s$.\n",
    "\n",
    "Para evaluar las integrales, en este problema es conveniente hacer uso de coordenadas elipsoidales $(u,v,\\phi)$:\n",
    "\n",
    "$$u = \\frac{r_1 + r_2}{R}, \\quad v = \\frac{r_1 - r_2}{R}, \\quad dV = \\frac{1}{8}R^3(u^2 - v^2)dudvd\\phi$$\n",
    "\n",
    "Con $1 \\leq u < \\infty$, $-1 \\leq v \\leq 1$ y $0 \\leq \\phi \\leq 2\\pi$. $r_1$ y $r_2$ son las distancias desde cada uno de los protones al electrón, $R$ es la separación entre ambos protones y $dV$ es el elemento de volumen.\n",
    "\n",
    "Grafique la energía en función de la separación entre protones.\n",
    "\n",
    "Determine la separación de equilibrio y la profundidad del potencial."
   ]
  },
  {
   "cell_type": "markdown",
   "metadata": {},
   "source": [
    "### Solución.\n",
    "\n",
    "Sean las coordenadas:\n",
    "$$\\vec{r}_1 = \\vec{r} - \\frac{\\vec{R}}{2} \\qquad \\vec{r}_2 = \\vec{r} + \\frac{\\vec{R}}{2}$$\n",
    "\n",
    "El hamiltoniano del sistema usando estas coordenadas es:\n",
    "\n",
    "$$ \\hat{H} = -\\frac{\\hbar^2}{2m}\\nabla^2 - \\frac{ke^2}{r_1} - \\frac{ke^2}{r_2} + \\frac{ke^2}{R}$$\n",
    "\n",
    "Sea $\\ket{\\psi}$ una solución a dicho hamiltoniano. Como la probabilidad $|\\psi|^2$ es la misma para $\\vec{r}$ y $-\\vec{r}$, la función de onda $\\ket{\\psi}$ tiene paridad definida, es decir $\\psi(\\vec{r}) = \\pm \\psi(-\\vec{r})$. "
   ]
  },
  {
   "cell_type": "markdown",
   "metadata": {},
   "source": [
    "Por otra parte las soluciones para un solo protón centrado en el origen son las funciones conocidas del átomo de hidrógeno. Utilizando el estado fundamental:\n",
    "\n",
    "$$\\phi_{1s}(r) = \\frac{1}{\\sqrt{\\pi a_0^3}}e^{-r/a_0}$$\n",
    "\n",
    "Podemos escribir a la función de onda de la molecula de hidrógeno ionizada como, una combinación lineal de los orbitales atómicos desplazados $\\ket{\\phi_a}$ y $\\ket{\\phi_b}$, tales que $\\langle \\vec{r} \\ket{\\phi_a} = \\phi_{1s}(r_1)$ y $\\langle \\vec{r} \\ket{\\phi_b} = \\phi_{1s}(r_2)$. Tomando en cuenta la paridad de la función de onda, se pueden escribir las soluciones ligante (+) y antiligante (-) como:\n",
    "\n",
    "$$\\ket{\\psi_{\\pm}} = \\frac{1}{\\sqrt{N_{\\pm}}}(\\ket{\\phi_a} \\pm \\ket{\\phi_b})$$\n",
    "\n",
    "Donde $N_{\\pm}$ es la normalización de la función de onda."
   ]
  },
  {
   "cell_type": "markdown",
   "metadata": {},
   "source": [
    " Se buscan las energías $E_{\\pm}$ que satisfacen la ecuación de Schrödinger $\\hat{H}\\ket{\\psi_{\\pm}} = E_{\\pm}\\ket{\\psi_{\\pm}}$, por lo que debemos resolver el sistema:\n",
    "\n",
    "$$ \\langle {\\psi_{\\pm}} \\ket{\\psi_{\\pm}} = \\frac{1}{N_{\\pm}} \\langle {\\phi_a \\pm \\phi_b} \\ket{\\phi_a \\pm \\phi_b} = 1$$\n",
    "$$ \\bra {\\psi_{\\pm}}\\hat{H} \\ket{\\psi_{\\pm}} = \\frac{1}{N_{\\pm}} \\bra {\\phi_a \\pm \\phi_b} \\hat{H} \\ket{\\phi_a \\pm \\phi_b} = E_{\\pm}  $$"
   ]
  },
  {
   "cell_type": "markdown",
   "metadata": {},
   "source": [
    "Hallamos la constante de normalización $N_{\\pm}$:\n",
    "\n",
    "$$N_{\\pm} = \\langle {\\phi_a \\pm \\phi_b} \\ket{\\phi_a \\pm \\phi_b} = \\langle \\phi_a \\ket{\\phi_a} + \\langle \\phi_b \\ket{\\phi_b} \\pm \\langle \\phi_a \\ket{\\phi_b} \\pm \\langle \\phi_b \\ket{\\phi_a}$$\n",
    "\n",
    "$$ \\Rightarrow N_{\\pm} = 2 \\pm 2\\langle \\phi_a \\ket{\\phi_b}$$"
   ]
  },
  {
   "cell_type": "markdown",
   "metadata": {},
   "source": [
    "Escribimos el hamiltoniano $\\hat{H}$ como:\n",
    "\n",
    "$$ \\hat{H} =  \\hat{T} + \\hat{V_a} + \\hat{V_b} + \\hat{V_{R}}$$\n",
    "\n",
    "De modo que:\n",
    "\n",
    "$$ N_{\\pm} E_{\\pm} = \\bra {\\phi_a \\pm \\phi_b} \\hat{T} + \\hat{V}_a + \\hat{V}_b + \\hat{V}_{R} \\ket{\\phi_a \\pm \\phi_b}$$"
   ]
  },
  {
   "cell_type": "markdown",
   "metadata": {},
   "source": []
  }
 ],
 "metadata": {
  "language_info": {
   "name": "python"
  }
 },
 "nbformat": 4,
 "nbformat_minor": 2
}
