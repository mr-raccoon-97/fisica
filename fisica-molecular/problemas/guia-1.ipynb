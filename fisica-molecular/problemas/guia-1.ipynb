{
 "cells": [
  {
   "cell_type": "markdown",
   "metadata": {},
   "source": [
    "### Problema 1.\n",
    "\n",
    "Evalúe la energía de los estados ligante y antiligante de la molécula de hidrógeno ionizada $H^+_2$ en el modelo $LCAO$, utilizando orbitales atómicos hidrogenoides $1s$.\n",
    "\n",
    "Para evaluar las integrales, en este problema es conveniente hacer uso de coordenadas elipsoidales $(u,v,\\phi)$:\n",
    "\n",
    "$$u = \\frac{r_1 + r_2}{R}, \\quad v = \\frac{r_1 - r_2}{R}, \\quad dV = \\frac{1}{8}R^3(u^2 - v^2)dudvd\\phi$$\n",
    "\n",
    "Con $1 \\leq u < \\infty$, $-1 \\leq v \\leq 1$ y $0 \\leq \\phi \\leq 2\\pi$. $r_1$ y $r_2$ son las distancias desde cada uno de los protones al electrón, $R$ es la separación entre ambos protones y $dV$ es el elemento de volumen.\n",
    "\n",
    "Grafique la energía en función de la separación entre protones.\n",
    "\n",
    "Determine la separación de equilibrio y la profundidad del potencial."
   ]
  },
  {
   "cell_type": "markdown",
   "metadata": {},
   "source": [
    "### Solución.\n",
    "Debemos hallar la energía de los primeros auto-estados del hamiltoniano: \n",
    "\n",
    "$$ \\hat{H} = -\\frac{\\hbar^2}{2m_e} \\nabla_r^2 - \\frac{ke^2}{|\\vec{r} + \\vec{R}/2|} - \\frac{ke^2}{|\\vec{r} - \\vec{R}/2|} + \\frac{ke^2}{|\\vec{R}|} $$"
   ]
  },
  {
   "cell_type": "markdown",
   "metadata": {},
   "source": [
    "Las soluciones para un solo protón centrado en el origen son las funciones conocidas del átomo de hidrógeno. La función de onda del estado fundamental es:\n",
    "\n",
    "$$\\phi_{1s}(r) = \\frac{1}{\\sqrt{\\pi a_0^3}}e^{-r/a_0}$$\n",
    "\n",
    "Podemos escribir a la función de onda de la molecula de hidrógeno ionizada como, una combinación lineal de los orbitales atómicos desplazados $\\ket{\\phi_a}$ y $\\ket{\\phi_b}$, tales que:\n",
    "\n",
    "$$\\langle \\vec{r} \\ket{\\phi_a} = \\phi_{1s}(\\vec{r} - \\vec{R}/2) \\qquad \\langle \\vec{r} \\ket{\\phi_b} = \\phi_{1s}(\\vec{r} + \\vec{R}/2)$$\n",
    "\n",
    "Las funciones de onda deben tener paridad definida, ya que la probabilidad de encontrar un electrón en un punto es invariante bajo reflexión. Por lo tanto, se pueden escribir las soluciones ligante (+) y antiligante (-) como:\n",
    "\n",
    "$$\\ket{\\psi_{\\pm}} = c_{\\pm}(\\ket{\\phi_a} \\pm \\ket{\\phi_b})$$\n",
    "\n",
    "Donde $c_{\\pm}$ es constante de normalización de la función de onda."
   ]
  },
  {
   "cell_type": "markdown",
   "metadata": {},
   "source": [
    " Se buscan las energías $E_{\\pm}$ que satisfacen la ecuación de Schrödinger $\\hat{H}\\ket{\\psi_{\\pm}} = E_{\\pm}\\ket{\\psi_{\\pm}}$, por lo que debemos resolver el sistema:\n",
    "\n",
    "$$ \\langle {\\psi_{\\pm}} \\ket{\\psi_{\\pm}} = c_{\\pm}^2 \\langle {\\phi_a \\pm \\phi_b} \\ket{\\phi_a \\pm \\phi_b} = 1$$\n",
    "$$ \\bra {\\psi_{\\pm}}\\hat{H} \\ket{\\psi_{\\pm}} = c_{\\pm}^2  \\bra {\\phi_a \\pm \\phi_b} \\hat{H} \\ket{\\phi_a \\pm \\phi_b} = E_{\\pm}  $$"
   ]
  },
  {
   "cell_type": "markdown",
   "metadata": {},
   "source": [
    "Hallamos la constante de normalización $c_{\\pm} $:\n",
    "\n",
    "$$\\frac{1}{c_{\\pm}^2 } \\langle {\\phi_a \\pm \\phi_b} \\ket{\\phi_a \\pm \\phi_b} = \\frac{1}{c_{\\pm}^2 } (\\langle \\phi_a \\ket{\\phi_a} + \\langle \\phi_b \\ket{\\phi_b} \\pm \\langle \\phi_a \\ket{\\phi_b} \\pm \\langle \\phi_b \\ket{\\phi_a})$$\n",
    "\n",
    "$$ \\Rightarrow c_{\\pm} = \\frac{1}{\\sqrt{2 \\pm 2\\langle \\phi_a \\ket{\\phi_b}}} \\equiv \\frac{1}{\\sqrt{2 \\pm 2S}}$$\n",
    "\n",
    "En donde definimos el solapamiento $S = \\langle \\phi_a \\ket{\\phi_b}$."
   ]
  },
  {
   "cell_type": "markdown",
   "metadata": {},
   "source": [
    "Hallemos ahora las energías. Escribimos el hamiltoniano $\\hat{H}$ como:\n",
    "\n",
    "$$ \\hat{H} =  \\hat{T} + \\hat{V_a} + \\hat{V_b} + \\hat{V_{R}}$$\n",
    "\n",
    "Luego, las energías $E_{\\pm}$ verifican:\n",
    "\n",
    "$$ \\frac{1}{c_{\\pm}^2}E_{\\pm} = \\bra {\\phi_a \\pm \\phi_b} \\hat{T} + \\hat{V}_a + \\hat{V}_b + \\hat{V}_{R} \\ket{\\phi_a \\pm \\phi_b}$$\n",
    "\n",
    "$$ = \\bra{\\phi_a} \\hat{T} + \\hat{V}_a + \\hat{V}_b + \\hat{V}_{R} \\ket{\\phi_a} + \\bra{\\phi_b} \\hat{T} + \\hat{V}_a + \\hat{V}_b + \\hat{V}_{R} \\ket{\\phi_b} $$\n",
    "\n",
    "$$ \\pm \\bra{\\phi_a} \\hat{T} + \\hat{V}_a + \\hat{V}_b + \\hat{V}_{R} \\ket{\\phi_b} \\pm \\bra{\\phi_b} \\hat{T} + \\hat{V}_a + \\hat{V}_b + \\hat{V}_{R} \\ket{\\phi_a}$$\n",
    "\n",
    "$$ = \\bra{\\phi_a} \\hat{T} + \\hat{V}_a \\ket{\\phi_a}  + \\bra{\\phi_a} \\hat{V}_b + \\hat{V}_R \\ket{\\phi_a} \n",
    "+ \\bra{\\phi_b} \\hat{T} + \\hat{V}_b \\ket{\\phi_b} + \\bra{\\phi_b} \\hat{V}_a + \\hat{V}_R \\ket{\\phi_b} $$\n",
    "\n",
    "$$ \\pm \\bra{\\phi_a} \\hat{T} + \\hat{V}_b \\ket{\\phi_b} \\pm \\bra{\\phi_a} \\hat{V}_a + \\hat{V}_R \\ket{\\phi_b}\n",
    " \\pm \\bra{\\phi_b} \\hat{T} + \\hat{V}_a \\ket{\\phi_a} \\pm \\bra{\\phi_b} \\hat{V}_b + \\hat{V}_R \\ket{\\phi_a}$$\n",
    "$$"
   ]
  },
  {
   "cell_type": "markdown",
   "metadata": {},
   "source": [
    "Notemos que los siguientes términos son el hamiltoniano de un átomo de hidrógeno aplicado sobre su respectivo orbital atómico:\n",
    "\n",
    "$$ \\bra{\\phi_a} \\hat{T} + \\hat{V}_a \\ket{\\phi_b} = \\bra{\\phi_b} \\hat{T} + \\hat{V}_b \\ket{\\phi_b} = E_{1s}$$\n",
    "\n",
    "$$ \\bra{\\phi_a} \\hat{T} + \\hat{V}_b \\ket{\\phi_b} = \\bra{\\phi_b} \\hat{T} + \\hat{V}_a \\ket{\\phi_a} = E_{1s} S$$"
   ]
  },
  {
   "cell_type": "markdown",
   "metadata": {},
   "source": [
    "Ademas, como $\\hat{V_R}$ no tiene dependencia en $\\vec{r}$, se tiene que:\n",
    "\n",
    "$$ \\bra{\\phi_a} \\hat{V}_R \\ket{\\phi_a} = \\bra{\\phi_b} \\hat{V}_R \\ket{\\phi_b} = \\frac{ke^2}{R} \\equiv V_R$$\n",
    "\n",
    "$$ \\bra{\\phi_a} \\hat{V}_R \\ket{\\phi_b} = \\bra{\\phi_b} \\hat{V}_R \\ket{\\phi_a} = \\frac{ke^2}{R} S = V_R S$$"
   ]
  },
  {
   "cell_type": "markdown",
   "metadata": {},
   "source": [
    "Finalmente reemplazando:\n",
    "\n",
    "$$ \\frac{1}{c_{\\pm}^2} E_{\\pm} = 2E_{1s} + 2V_R \\pm 2E_{1s}S \\pm 2V_R S + 2\\bra{\\phi_a}V_b\\ket{\\phi_a} \\pm 2\\bra{\\phi_a}V_a\\ket{\\phi_b} $$\n",
    "$$ E_{\\pm} = E_{1s} + V_R + \\frac{\\bra{\\phi_a}V_b\\ket{\\phi_a}}{1 \\pm S} \\pm \\frac{\\bra{\\phi_a}V_a\\ket{\\phi_b}}{1 \\pm S} $$"
   ]
  },
  {
   "cell_type": "markdown",
   "metadata": {},
   "source": [
    "Solo quedan hallar los términos:\n",
    "\n",
    "$$ \\langle \\phi_a \\ket{\\phi_b} = \\int_{\\mathbb{R}^3} \\phi_{1s}(\\vec{r} - \\vec{R}/2) \\phi_{1s}(\\vec{r} + \\vec{R}/2) d^3r$$\n",
    "\n",
    "$$ \\bra{\\phi_a} \\hat{V}_b \\ket{\\phi_a} = \\bra{\\phi_b}\\hat{V_a}\\ket{\\phi_b} = -ke^2 \\int_{\\mathbb{R}^3} \\frac{\\phi_{1s}(\\vec{r} - \\vec{R}/2)^2}{|\\vec{r} + \\vec{R}/2|} d^3 r$$\n",
    "\n",
    "$$ \\bra{\\phi_a}V_a\\ket{\\phi_b} = \\bra{\\phi_b}V_b\\ket{\\phi_a}  = -ke^2 \\int_{\\mathbb{R}^3} \\frac{\\phi_{1s}(\\vec{r} + \\vec{R}/2)  \\phi_{1s}(\\vec{r} - \\vec{R}/2)} {|\\vec{r} - \\vec{R}/2|} d^3r $$\t"
   ]
  },
  {
   "cell_type": "markdown",
   "metadata": {},
   "source": [
    "Hallemos las integrales usando coordenadas elipsoidales. \n",
    "\n",
    "$$ |\\vec{r} - \\vec{R}/2| = \\frac{R}{2}(u+v) \\qquad |\\vec{r} + \\vec{R}/2| = \\frac{R}{2}(u-v)$$\n",
    "\n",
    "Las funciones de onda $\\ket{\\phi_a}$ y $\\ket{\\phi_b}$ verifican:\n",
    "$$ \\langle \\vec{r} \\ket{\\phi_a} = \\frac{1}{\\sqrt{\\pi a_0^3}}e^{-\\frac{R}{2a_0}(u+v)} \\qquad \\langle \\vec{r} \\ket{\\phi_b} = \\frac{1}{\\sqrt{\\pi a_0^3}}e^{-\\frac{R}{2a_0}(u-v)}$$\n",
    "\n",
    "El termino de solapamiento es:\n",
    "\n",
    "$$ S = \\int_{\\mathbb{R}^3} \\phi_{1s}(\\vec{r} - \\vec{R}/2) \\phi_{1s}(\\vec{r} + \\vec{R}/2) d^3r $$\n",
    "\n",
    "$$ = \\frac{1}{ 8 \\pi a_0^3} \\int_0^{2\\pi} \\int_{-1}^1 \\int_1^{\\infty} e^{-u\\frac{R}{a_0}} R^3(u^2 - v^2)dudvd\\phi $$\n",
    "\n",
    "$$ = \\frac{R^3}{4 a_0^3} \\int_1^{\\infty} (u^2 e^{-u\\frac{R}{a_0}} \\int_{-1}^1 dv - e^{-u\\frac{R}{a_0}} \\int_{-1}^1 v^2 dv )du $$\n",
    "\n",
    "$$ = \\frac{R^3}{4 a_0^3} ( \\int_1^{\\infty} u^2 e^{-u\\frac{R}{a_0}} du v \\Big|_{-1}^1 - \\int_1^{\\infty} e^{-u\\frac{R}{a_0}} du \\frac{v^3}{3} \\Big|_{-1}^1) $$\n",
    "\n",
    "Hallamos las integrales:\n",
    "\n",
    "$$ \\int_1^{\\infty} e^{-u\\frac{R}{a_0}} du = \\frac{a_0}{R} \\int_{\\frac{R}{a_0}}^{\\infty} e^{-x} dx \n",
    "= \\frac{a_0}{R} e^{-\\frac{R}{a_0}}$$\n",
    "\n",
    "$$ \\int_1^{\\infty} u^2 e^{-u\\frac{R}{a_0}} du = \\frac{a_0^3}{R^3} \\int_{\\frac{R}{a_0}}^{\\infty} x^2 e^{-x} dx \n",
    "= \\frac{a_0^3}{R^3} (-x^2 e^{-x} \\Big|_{\\frac{R}{a_0}}^{\\infty} + 2 \\int_{\\frac{R}{a_0}}^{\\infty} x e^{-x} dx) $$\n",
    "\n",
    "$$ = \\frac{a_0^3}{R^3} (\\frac{R^2}{a_0^2}e^{-\\frac{R}{a_0}} + 2 (-xe^{-x} \\Big|_{\\frac{R}{a_0}}^{\\infty} + \\int_{\\frac{R}{a_0}}^{\\infty}e^{-x}dx))$$\n",
    "\n",
    "$$ = \\frac{a_0}{R}e^{-\\frac{R}{a_0}} + 2\\frac{a_0^2}{R^2} e^{-\\frac{R}{a_0}} + 2 \\frac{a_0^3}{R^3} e^{-\\frac{R}{a_0}} \n",
    "= \\frac{a_0}{R}e^{-\\frac{R}{a_0}}(1 + 2\\frac{a_0}{R} + 2\\frac{a_0^2}{R^2}) $$\n",
    "\n",
    "Luego, la integral de overlap es:\n",
    "\n",
    "$$ S = \\frac{R^3}{2 a_0^3} (\n",
    "\\frac{a_0}{R}e^{-\\frac{R}{a_0}}(1 + 2\\frac{a_0}{R} + 2\\frac{a_0^2}{R^2})- \\frac{1}{3}\\frac{a_0}{R} e^{-\\frac{R}{a_0}})$$\n",
    "\n",
    "$$ \\Rightarrow S = e^{-\\frac{R}{a_0}}(1 + \\frac{R}{a_0} + \\frac{1}{3}\\frac{R^3}{a_0^3})$$"
   ]
  },
  {
   "cell_type": "markdown",
   "metadata": {},
   "source": [
    "Hallemos el termino de coulomb $\\bra{\\phi_a}V_b\\ket{\\phi_a} \\equiv M$:\n",
    "\n",
    "$$\\bra{\\phi_a}V_b\\ket{\\phi_a} = -\\frac{ke^2}{a_o^3} \\frac{R^3}{8}  \\int_{0}^{2\\pi} \\int_{1}^{\\infty} \\int_{-1}^{1} \\frac{e^{-(u-v)R/a_0}}{R(u + v)/2}(u^2-v^2) d\\varphi du dv $$\n",
    "\n",
    "$$ = -\\frac{ke^2 R^2}{2a_0^3} \\int_{1}^{\\infty} \\int_{-1}^{1} (u-v)e^{-(u-v)R/a_0} du dv$$\n",
    "$$ =  -\\frac{ke^2 R^2}{2a_0^3} (\\int_1^{\\infty}ue^{-uR/a_0}du\\int_{-1}^1e^{vR/a_0}dv - \\int_1^{\\infty} e^{-uR/a_0}du \\int_{-1}^1ve^{vR/a_0}dv) $$\n",
    "\n",
    "En donde la primera integral se calculo arriba, y:\n",
    "\n",
    "$$\\int_{-1}^1e^{vR/a_0}dv = \\frac{1}{R/a_0}(e^{R/a_0} - e^{-R/a_0})$$\n",
    "\n",
    "$$\\int_{1}^{\\infty} e^{-uR/a_0}du = \\frac{1}{R/a_0}e^{-R/a_0} $$\n",
    "\n",
    "$$ \\int_{-1}^1ve^{vR/a_0}dv = \\frac{ve^{vR/a_0}}{R/a_0}\\Big|_{-1}^1 - \\int_{-1}^1\\frac{1}{R/a_0}e^{vR/a_0} = \\frac{e^{R/a_0} + e^{-R/a_0}}{R/a_0} - \\frac{e^{R/a_0} - e^{-R/a_0}}{(R/a_0)^2}$$\n",
    "\n",
    "Reemplazando:\n",
    "\n",
    "$$\\Rightarrow \\bra{\\phi_a}V_b\\ket{\\phi_a} = -\\frac{ke^2 R^2}{2a_0^3} (\\frac{a_0^3}{R^3}(1+\\frac{R}{a_0})(1-e^{-2R/a_0}) - \\frac{a_0^3}{R^3}(\\frac{R}{a_0}(1+e^{-2R/a_0}) - (1 - e^{-2R/a_0})))$$\n",
    "\n",
    "$$ = -\\frac{ke^2}{2R} ((1+\\frac{R}{a_0})(1-e^{-2R/a_0}) - (\\frac{R}{a_0}(1+e^{-2R/a_0}) - (1 - e^{-2R/a_0})))$$\n",
    "\n",
    "$$ = -\\frac{ke^2}{2R} (1+\\frac{R}{a_0} - (1+\\frac{R}{a_0})e^{-2R/a_0} - (\\frac{R}{a_0} - 1 + (\\frac{R}{a_0} + 1) e^{-2{R}{a_0}}))$$\n",
    "\n",
    "$$ \\Rightarrow M  = -\\frac{ke^2}{R} (1 - (1 + \\frac{R}{a_0}) e^{-2R/a_0})$$"
   ]
  },
  {
   "cell_type": "markdown",
   "metadata": {},
   "source": [
    "Hallamos ahora el término de resonancia $\\bra{\\phi_a}V_a\\ket{\\phi_b} \\equiv N$:\n",
    "\n",
    "$$\\bra{\\phi_a}V_a\\ket{\\phi_b}  = -\\frac{ke^2}{\\pi a_0^3} \\frac{R^3}{8} \\int_{0}^{2\\pi} \\int_{1}^{\\infty} \\int_{-1}^{1}  \\frac{e^{-uR/a_0}}{R(u - v)/2}(u^2-v^2) d\\varphi du dv $$\n",
    "\n",
    "$$ = -\\frac{ke^2 R^2}{2 a_0^3} \\int_{1}^{\\infty} \\int_{-1}^{1} (u - v) e^{-uR/a_0} du dv$$\n",
    "$$ = -\\frac{ke^2 R^2}{a_0^3} \\int_{1}^{\\infty} u e^{-uR/a} du $$ \n",
    "\n",
    "En el termino con $ve^{-uR/a_0}$ se anula al integrarlo sobre $v$ por ser par. Hallamos la integral: \n",
    "\n",
    "$$  \\int_{1}^{\\infty} u e^{-uR/a_0} du =  (\\frac{u}{R/a_0} e^{-uR/a_0}) \\Big|_1^{\\infty} - \\int_{1}^{\\infty} \\frac{a_0}{R/a_0} e^{-uR/a_0} du = \\frac{a_0}{R}e^{-R/a_0}(\\frac{a_0}{R} + 1)$$\n",
    "\n",
    "$$ N = -\\frac{ke^2}{a_0}(1+\\frac{R}{a_0})e^{-R/a_0}$$"
   ]
  },
  {
   "cell_type": "markdown",
   "metadata": {},
   "source": [
    "### Problema 2\n",
    "\n",
    "Encuentre la constante de normalización de la función de onda electrónica\n",
    "del estado fundamental de la molécula de hidrógeno $H_2$ en el modelo de Heitler–London.\n"
   ]
  },
  {
   "cell_type": "markdown",
   "metadata": {},
   "source": []
  }
 ],
 "metadata": {
  "language_info": {
   "name": "python"
  }
 },
 "nbformat": 4,
 "nbformat_minor": 2
}
