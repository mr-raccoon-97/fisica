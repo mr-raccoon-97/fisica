{
 "cells": [
  {
   "cell_type": "markdown",
   "metadata": {},
   "source": [
    "### Problema 1.\n",
    "\n",
    "Evalúe la energía de los estados ligante y antiligante de la molécula de hidrógeno ionizada $H^+_2$ en el modelo $LCAO$, utilizando orbitales atómicos hidrogenoides $1s$.\n",
    "\n",
    "Para evaluar las integrales, en este problema es conveniente hacer uso de coordenadas elipsoidales $(u,v,\\phi)$:\n",
    "\n",
    "$$u = \\frac{r_1 + r_2}{R}, \\quad v = \\frac{r_1 - r_2}{R}, \\quad dV = \\frac{1}{8}R^3(u^2 - v^2)dudvd\\phi$$\n",
    "\n",
    "Con $1 \\leq u < \\infty$, $-1 \\leq v \\leq 1$ y $0 \\leq \\phi \\leq 2\\pi$. $r_1$ y $r_2$ son las distancias desde cada uno de los protones al electrón, $R$ es la separación entre ambos protones y $dV$ es el elemento de volumen.\n",
    "\n",
    "Grafique la energía en función de la separación entre protones.\n",
    "\n",
    "Determine la separación de equilibrio y la profundidad del potencial."
   ]
  },
  {
   "cell_type": "markdown",
   "metadata": {},
   "source": [
    "### Solución.\n",
    "Debemos hallar la energía de los primeros auto-estados del hamiltoniano: \n",
    "\n",
    "$$ \\hat{H} = -\\frac{\\hbar^2}{2m_e} \\nabla_r^2 - \\frac{ke^2}{|\\vec{r} + \\vec{R}/2|} - \\frac{ke^2}{|\\vec{r} - \\vec{R}/2|} + \\frac{ke^2}{|\\vec{R}|} $$"
   ]
  },
  {
   "cell_type": "markdown",
   "metadata": {},
   "source": [
    "Las soluciones para un solo protón centrado en el origen son las funciones conocidas del átomo de hidrógeno. La función de onda del estado fundamental es:\n",
    "\n",
    "$$\\phi_{1s}(r) = \\frac{1}{\\sqrt{\\pi a_0^3}}e^{-r/a_0}$$\n",
    "\n",
    "Podemos escribir a la función de onda de la molecula de hidrógeno ionizada como, una combinación lineal de los orbitales atómicos desplazados $\\ket{\\phi_a}$ y $\\ket{\\phi_b}$, tales que:\n",
    "\n",
    "$$\\langle \\vec{r} \\ket{\\phi_a} = \\phi_{1s}(\\vec{r} - \\vec{R}/2) \\qquad \\langle \\vec{r} \\ket{\\phi_b} = \\phi_{1s}(\\vec{r} + \\vec{R}/2)$$\n",
    "\n",
    "Las funciones de onda deben tener paridad definida, ya que la probabilidad de encontrar un electrón en un punto es invariante bajo reflexión. Por lo tanto, se pueden escribir las soluciones ligante (+) y antiligante (-) como:\n",
    "\n",
    "$$\\ket{\\psi_{\\pm}} = c_{\\pm}(\\ket{\\phi_a} \\pm \\ket{\\phi_b})$$\n",
    "\n",
    "Donde $c_{\\pm}$ es constante de normalización de la función de onda."
   ]
  },
  {
   "cell_type": "markdown",
   "metadata": {},
   "source": [
    " Se buscan las energías $E_{\\pm}$ que satisfacen la ecuación de Schrödinger $\\hat{H}\\ket{\\psi_{\\pm}} = E_{\\pm}\\ket{\\psi_{\\pm}}$, por lo que debemos resolver el sistema:\n",
    "\n",
    "$$ \\langle {\\psi_{\\pm}} \\ket{\\psi_{\\pm}} = c_{\\pm}^2 \\langle {\\phi_a \\pm \\phi_b} \\ket{\\phi_a \\pm \\phi_b} = 1$$\n",
    "$$ \\bra {\\psi_{\\pm}}\\hat{H} \\ket{\\psi_{\\pm}} = c_{\\pm}^2  \\bra {\\phi_a \\pm \\phi_b} \\hat{H} \\ket{\\phi_a \\pm \\phi_b} = E_{\\pm}  $$"
   ]
  },
  {
   "cell_type": "markdown",
   "metadata": {},
   "source": [
    "Hallamos la constante de normalización $c_{\\pm} $:\n",
    "\n",
    "$$\\frac{1}{c_{\\pm}^2 } \\langle {\\phi_a \\pm \\phi_b} \\ket{\\phi_a \\pm \\phi_b} = \\frac{1}{c_{\\pm}^2 } (\\langle \\phi_a \\ket{\\phi_a} + \\langle \\phi_b \\ket{\\phi_b} \\pm \\langle \\phi_a \\ket{\\phi_b} \\pm \\langle \\phi_b \\ket{\\phi_a})$$\n",
    "\n",
    "$$ \\Rightarrow c_{\\pm} = \\frac{1}{\\sqrt{2 \\pm 2\\langle \\phi_a \\ket{\\phi_b}}} \\equiv \\frac{1}{\\sqrt{2 \\pm 2S}}$$\n",
    "\n",
    "En donde definimos el solapamiento $S = \\langle \\phi_a \\ket{\\phi_b}$."
   ]
  },
  {
   "cell_type": "markdown",
   "metadata": {},
   "source": [
    "Hallemos ahora las energías. Escribimos el hamiltoniano $\\hat{H}$ como:\n",
    "\n",
    "$$ \\hat{H} =  \\hat{T} + \\hat{V_a} + \\hat{V_b} + \\hat{V_{R}}$$\n",
    "\n",
    "Luego, las energías $E_{\\pm}$ verifican:\n",
    "\n",
    "$$ \\frac{1}{c_{\\pm}^2}E_{\\pm} = \\bra {\\phi_a \\pm \\phi_b} \\hat{T} + \\hat{V}_a + \\hat{V}_b + \\hat{V}_{R} \\ket{\\phi_a \\pm \\phi_b}$$\n",
    "\n",
    "$$ = \\bra{\\phi_a} \\hat{T} + \\hat{V}_a + \\hat{V}_b + \\hat{V}_{R} \\ket{\\phi_a} + \\bra{\\phi_b} \\hat{T} + \\hat{V}_a + \\hat{V}_b + \\hat{V}_{R} \\ket{\\phi_b} $$\n",
    "\n",
    "$$ \\pm \\bra{\\phi_a} \\hat{T} + \\hat{V}_a + \\hat{V}_b + \\hat{V}_{R} \\ket{\\phi_b} \\pm \\bra{\\phi_b} \\hat{T} + \\hat{V}_a + \\hat{V}_b + \\hat{V}_{R} \\ket{\\phi_a}$$\n",
    "\n",
    "$$ = \\bra{\\phi_a} \\hat{T} + \\hat{V}_a \\ket{\\phi_a}  + \\bra{\\phi_a} \\hat{V}_b + \\hat{V}_R \\ket{\\phi_a} \n",
    "+ \\bra{\\phi_b} \\hat{T} + \\hat{V}_b \\ket{\\phi_b} + \\bra{\\phi_b} \\hat{V}_a + \\hat{V}_R \\ket{\\phi_b} $$\n",
    "\n",
    "$$ \\pm \\bra{\\phi_a} \\hat{T} + \\hat{V}_b \\ket{\\phi_b} \\pm \\bra{\\phi_a} \\hat{V}_a + \\hat{V}_R \\ket{\\phi_b}\n",
    " \\pm \\bra{\\phi_b} \\hat{T} + \\hat{V}_a \\ket{\\phi_a} \\pm \\bra{\\phi_b} \\hat{V}_b + \\hat{V}_R \\ket{\\phi_a}$$\n",
    "$$"
   ]
  },
  {
   "cell_type": "markdown",
   "metadata": {},
   "source": [
    "Notemos que los siguientes términos son el hamiltoniano de un átomo de hidrógeno aplicado sobre su respectivo orbital atómico:\n",
    "\n",
    "$$ \\bra{\\phi_a} \\hat{T} + \\hat{V}_a \\ket{\\phi_b} = \\bra{\\phi_b} \\hat{T} + \\hat{V}_b \\ket{\\phi_b} = E_{1s}$$\n",
    "\n",
    "$$ \\bra{\\phi_a} \\hat{T} + \\hat{V}_b \\ket{\\phi_b} = \\bra{\\phi_b} \\hat{T} + \\hat{V}_a \\ket{\\phi_a} = E_{1s} S$$"
   ]
  },
  {
   "cell_type": "markdown",
   "metadata": {},
   "source": [
    "Ademas, como $\\hat{V_R}$ no tiene dependencia en $\\vec{r}$, se tiene que:\n",
    "\n",
    "$$ \\bra{\\phi_a} \\hat{V}_R \\ket{\\phi_a} = \\bra{\\phi_b} \\hat{V}_R \\ket{\\phi_b} = \\frac{ke^2}{R} \\equiv V_R$$\n",
    "\n",
    "$$ \\bra{\\phi_a} \\hat{V}_R \\ket{\\phi_b} = \\bra{\\phi_b} \\hat{V}_R \\ket{\\phi_a} = \\frac{ke^2}{R} S = V_R S$$"
   ]
  },
  {
   "cell_type": "markdown",
   "metadata": {},
   "source": [
    "Finalmente reemplazando:\n",
    "\n",
    "$$ \\frac{1}{c_{\\pm}^2} E_{\\pm} = 2E_{1s} + 2V_R \\pm 2E_{1s}S \\pm 2V_R S + 2\\bra{\\phi_a}V_b\\ket{\\phi_a} \\pm 2\\bra{\\phi_a}V_a\\ket{\\phi_b} $$\n",
    "$$ E_{\\pm} = E_{1s} + V_R + \\frac{\\bra{\\phi_a}V_b\\ket{\\phi_a}}{1 \\pm S} \\pm \\frac{\\bra{\\phi_a}V_a\\ket{\\phi_b}}{1 \\pm S} $$"
   ]
  },
  {
   "cell_type": "markdown",
   "metadata": {},
   "source": [
    "Solo quedan hallar los términos:\n",
    "\n",
    "$$ \\langle \\phi_a \\ket{\\phi_b} = \\int_{\\mathbb{R}^3} \\phi_{1s}(\\vec{r} - \\vec{R}/2) \\phi_{1s}(\\vec{r} + \\vec{R}/2) d^3r$$\n",
    "\n",
    "$$ \\bra{\\phi_a} \\hat{V}_b \\ket{\\phi_a} = \\bra{\\phi_b}\\hat{V_a}\\ket{\\phi_b} = -ke^2 \\int_{\\mathbb{R}^3} \\frac{\\phi_{1s}(\\vec{r} - \\vec{R}/2)^2}{|\\vec{r} + \\vec{R}/2|} d^3 r$$\n",
    "\n",
    "$$ \\bra{\\phi_a}\\hat{V}_a\\ket{\\phi_b} = \\bra{\\phi_b}\\hat{V}_b\\ket{\\phi_a}  = -ke^2 \\int_{\\mathbb{R}^3} \\frac{\\phi_{1s}(\\vec{r} + \\vec{R}/2)  \\phi_{1s}(\\vec{r} - \\vec{R}/2)} {|\\vec{r} - \\vec{R}/2|} d^3r $$\t"
   ]
  },
  {
   "cell_type": "markdown",
   "metadata": {},
   "source": [
    "Hallemos las integrales usando coordenadas elipsoidales. \n",
    "\n",
    "$$ |\\vec{r} - \\vec{R}/2| = \\frac{R}{2}(u+v) \\qquad |\\vec{r} + \\vec{R}/2| = \\frac{R}{2}(u-v)$$\n",
    "\n",
    "Las funciones de onda $\\ket{\\phi_a}$ y $\\ket{\\phi_b}$ verifican:\n",
    "$$ \\langle \\vec{r} \\ket{\\phi_a} = \\frac{1}{\\sqrt{\\pi a_0^3}}e^{-\\frac{R}{2a_0}(u+v)} \\qquad \\langle \\vec{r} \\ket{\\phi_b} = \\frac{1}{\\sqrt{\\pi a_0^3}}e^{-\\frac{R}{2a_0}(u-v)}$$\n",
    "\n",
    "El termino de solapamiento es:\n",
    "\n",
    "$$ S = \\int_{\\mathbb{R}^3} \\phi_{1s}(\\vec{r} - \\vec{R}/2) \\phi_{1s}(\\vec{r} + \\vec{R}/2) d^3r $$\n",
    "\n",
    "$$ = \\frac{1}{ 8 \\pi a_0^3} \\int_0^{2\\pi} \\int_{-1}^1 \\int_1^{\\infty} e^{-u\\frac{R}{a_0}} R^3(u^2 - v^2)dudvd\\phi $$\n",
    "\n",
    "$$ = \\frac{R^3}{4 a_0^3} \\int_1^{\\infty} (u^2 e^{-u\\frac{R}{a_0}} \\int_{-1}^1 dv - e^{-u\\frac{R}{a_0}} \\int_{-1}^1 v^2 dv )du $$\n",
    "\n",
    "$$ = \\frac{R^3}{4 a_0^3} ( \\int_1^{\\infty} u^2 e^{-u\\frac{R}{a_0}} du v \\Big|_{-1}^1 - \\int_1^{\\infty} e^{-u\\frac{R}{a_0}} du \\frac{v^3}{3} \\Big|_{-1}^1) $$\n",
    "\n",
    "Hallamos las integrales:\n",
    "\n",
    "$$ \\int_1^{\\infty} e^{-u\\frac{R}{a_0}} du = \\frac{a_0}{R} \\int_{\\frac{R}{a_0}}^{\\infty} e^{-x} dx \n",
    "= \\frac{a_0}{R} e^{-\\frac{R}{a_0}}$$\n",
    "\n",
    "$$ \\int_1^{\\infty} u^2 e^{-u\\frac{R}{a_0}} du = \\frac{a_0^3}{R^3} \\int_{\\frac{R}{a_0}}^{\\infty} x^2 e^{-x} dx \n",
    "= \\frac{a_0^3}{R^3} (-x^2 e^{-x} \\Big|_{\\frac{R}{a_0}}^{\\infty} + 2 \\int_{\\frac{R}{a_0}}^{\\infty} x e^{-x} dx) $$\n",
    "\n",
    "$$ = \\frac{a_0^3}{R^3} (\\frac{R^2}{a_0^2}e^{-\\frac{R}{a_0}} + 2 (-xe^{-x} \\Big|_{\\frac{R}{a_0}}^{\\infty} + \\int_{\\frac{R}{a_0}}^{\\infty}e^{-x}dx))$$\n",
    "\n",
    "$$ = \\frac{a_0}{R}e^{-\\frac{R}{a_0}} + 2\\frac{a_0^2}{R^2} e^{-\\frac{R}{a_0}} + 2 \\frac{a_0^3}{R^3} e^{-\\frac{R}{a_0}} \n",
    "= \\frac{a_0}{R}e^{-\\frac{R}{a_0}}(1 + 2\\frac{a_0}{R} + 2\\frac{a_0^2}{R^2}) $$\n",
    "\n",
    "Luego, la integral de overlap es:\n",
    "\n",
    "$$ S = \\frac{R^3}{2 a_0^3} (\n",
    "\\frac{a_0}{R}e^{-\\frac{R}{a_0}}(1 + 2\\frac{a_0}{R} + 2\\frac{a_0^2}{R^2})- \\frac{1}{3}\\frac{a_0}{R} e^{-\\frac{R}{a_0}})$$\n",
    "\n",
    "$$ \\Rightarrow S = e^{-\\frac{R}{a_0}}(1 + \\frac{R}{a_0} + \\frac{1}{3}\\frac{R^3}{a_0^3})$$"
   ]
  },
  {
   "cell_type": "markdown",
   "metadata": {},
   "source": [
    "Hallemos el termino de coulomb $\\bra{\\phi_a}V_b\\ket{\\phi_a} \\equiv M$:\n",
    "\n",
    "$$\\bra{\\phi_a}V_b\\ket{\\phi_a} = -\\frac{ke^2}{a_o^3} \\frac{R^3}{8}  \\int_{0}^{2\\pi} \\int_{1}^{\\infty} \\int_{-1}^{1} \\frac{e^{-(u-v)R/a_0}}{R(u + v)/2}(u^2-v^2) d\\varphi du dv $$\n",
    "\n",
    "$$ = -\\frac{ke^2 R^2}{2a_0^3} \\int_{1}^{\\infty} \\int_{-1}^{1} (u-v)e^{-(u-v)R/a_0} du dv$$\n",
    "$$ =  -\\frac{ke^2 R^2}{2a_0^3} (\\int_1^{\\infty}ue^{-uR/a_0}du\\int_{-1}^1e^{vR/a_0}dv - \\int_1^{\\infty} e^{-uR/a_0}du \\int_{-1}^1ve^{vR/a_0}dv) $$\n",
    "\n",
    "En donde la primera integral se calculo arriba, y:\n",
    "\n",
    "$$\\int_{-1}^1e^{vR/a_0}dv = \\frac{1}{R/a_0}(e^{R/a_0} - e^{-R/a_0})$$\n",
    "\n",
    "$$\\int_{1}^{\\infty} e^{-uR/a_0}du = \\frac{1}{R/a_0}e^{-R/a_0} $$\n",
    "\n",
    "$$ \\int_{-1}^1ve^{vR/a_0}dv = \\frac{ve^{vR/a_0}}{R/a_0}\\Big|_{-1}^1 - \\int_{-1}^1\\frac{1}{R/a_0}e^{vR/a_0} = \\frac{e^{R/a_0} + e^{-R/a_0}}{R/a_0} - \\frac{e^{R/a_0} - e^{-R/a_0}}{(R/a_0)^2}$$\n",
    "\n",
    "Reemplazando:\n",
    "\n",
    "$$\\Rightarrow \\bra{\\phi_a}V_b\\ket{\\phi_a} = -\\frac{ke^2 R^2}{2a_0^3} (\\frac{a_0^3}{R^3}(1+\\frac{R}{a_0})(1-e^{-2R/a_0}) - \\frac{a_0^3}{R^3}(\\frac{R}{a_0}(1+e^{-2R/a_0}) - (1 - e^{-2R/a_0})))$$\n",
    "\n",
    "$$ = -\\frac{ke^2}{2R} ((1+\\frac{R}{a_0})(1-e^{-2R/a_0}) - (\\frac{R}{a_0}(1+e^{-2R/a_0}) - (1 - e^{-2R/a_0})))$$\n",
    "\n",
    "$$ = -\\frac{ke^2}{2R} (1+\\frac{R}{a_0} - (1+\\frac{R}{a_0})e^{-2R/a_0} - (\\frac{R}{a_0} - 1 + (\\frac{R}{a_0} + 1) e^{-2{R}{a_0}}))$$\n",
    "\n",
    "$$ \\Rightarrow M  = -\\frac{ke^2}{R} (1 - (1 + \\frac{R}{a_0}) e^{-2R/a_0})$$"
   ]
  },
  {
   "cell_type": "markdown",
   "metadata": {},
   "source": [
    "Hallamos ahora el término de resonancia $\\bra{\\phi_a}V_a\\ket{\\phi_b} \\equiv N$:\n",
    "\n",
    "$$\\bra{\\phi_a}V_a\\ket{\\phi_b}  = -\\frac{ke^2}{\\pi a_0^3} \\frac{R^3}{8} \\int_{0}^{2\\pi} \\int_{1}^{\\infty} \\int_{-1}^{1}  \\frac{e^{-uR/a_0}}{R(u - v)/2}(u^2-v^2) d\\varphi du dv $$\n",
    "\n",
    "$$ = -\\frac{ke^2 R^2}{2 a_0^3} \\int_{1}^{\\infty} \\int_{-1}^{1} (u - v) e^{-uR/a_0} du dv$$\n",
    "$$ = -\\frac{ke^2 R^2}{a_0^3} \\int_{1}^{\\infty} u e^{-uR/a} du $$ \n",
    "\n",
    "En el termino con $ve^{-uR/a_0}$ se anula al integrarlo sobre $v$ por ser par. Hallamos la integral: \n",
    "\n",
    "$$  \\int_{1}^{\\infty} u e^{-uR/a_0} du =  (\\frac{u}{R/a_0} e^{-uR/a_0}) \\Big|_1^{\\infty} - \\int_{1}^{\\infty} \\frac{a_0}{R/a_0} e^{-uR/a_0} du = \\frac{a_0}{R}e^{-R/a_0}(\\frac{a_0}{R} + 1)$$\n",
    "\n",
    "$$ N = -\\frac{ke^2}{a_0}(1+\\frac{R}{a_0})e^{-R/a_0}$$"
   ]
  },
  {
   "cell_type": "markdown",
   "metadata": {},
   "source": [
    "### Problema 2\n",
    "\n",
    "Encuentre la constante de normalización de la función de onda electrónica\n",
    "del estado fundamental de la molécula de hidrógeno $H_2$ en el modelo de Heitler–London.\n",
    "\n",
    "\n",
    "### Solución\n",
    "\n",
    "En el modelo de Heitler–London se proponen las funciones de onda:\n",
    "\n",
    "$$ \\ket{\\psi_{S}} = c_{S}((\\ket{\\phi_a, \\phi_b} + \\ket{\\phi_b, \\phi_a}) \\otimes \\ket{\\chi_S})$$\n",
    "\n",
    "$$ \\ket{\\psi_{T}} = c_{T}((\\ket{\\phi_a, \\phi_b} - \\ket{\\phi_b, \\phi_a}) \\otimes \\ket{\\chi_T})$$\n",
    "\n",
    "Se busca la constante de normalización $c_{S}$ y $c_{T}$ que satisfacen:\n",
    "\n",
    "$$ \\langle{\\psi_{S}} \\ket{\\psi_{S}} = c_S^2 (\\langle{\\phi_a, \\phi_b} \\ket{\\phi_a, \\phi_b} + \\langle{\\phi_b, \\phi_a} \\ket{\\phi_b, \\phi_a} + \\langle{\\phi_a, \\phi_b} \\ket{\\phi_b, \\phi_a} + \\langle{\\phi_b, \\phi_a} \\ket{\\phi_a, \\phi_b}) = 1$$\n",
    "\n",
    "$$ \\langle{\\psi_{T}} \\ket{\\psi_{T}} = c_T^2 (\\langle{\\phi_a, \\phi_b} \\ket{\\phi_a, \\phi_b} + \\langle{\\phi_b, \\phi_a} \\ket{\\phi_b, \\phi_a} - \\langle{\\phi_a, \\phi_b} \\ket{\\phi_b, \\phi_a} - \\langle{\\phi_b, \\phi_a} \\ket{\\phi_a, \\phi_b}) = 1$$\n",
    "\n",
    "Notemos que:\n",
    "\n",
    "$$ \\langle{\\phi_a, \\phi_b} \\ket{\\phi_a, \\phi_b} = \\langle{\\phi_b, \\phi_a} \\ket{\\phi_b, \\phi_a} = \\int_{\\mathbb{R}^3} \\phi_{1s}^2(\\vec{r_1} - \\vec{R}/2) d^3r_1 \\int_{\\mathbb{R}^3} \\phi_{1s}^2(\\vec{r_2} + \\vec{R}/2) d^3r_2 = 1$$\n",
    "\n",
    "Ya que las funciones de onda $\\phi_{1s}$ están normalizadas, y en las integrales solo se desplaza el origen de coordenadas. Por otra parte:\n",
    "\n",
    "$$\\langle{\\phi_a, \\phi_b} \\ket{\\phi_b, \\phi_a} = \\langle{\\phi_b, \\phi_a} \\ket{\\phi_a, \\phi_b} $$\n",
    "\n",
    "$$ = \\int_{\\mathbb{R}^3} \\phi_{1s}(\\vec{r}_1 - \\vec{R}/2) \\phi_{1s}(\\vec{r}_1 + \\vec{R}/2) d^3r_1 \\int_{\\mathbb{R}^3} \\phi_{1s}(\\vec{r}_2 + \\vec{R}/2) \\phi_{1s}(\\vec{r}_2 - \\vec{R}/2) d^3r_2 = S^2$$\n",
    "\n",
    "Por lo que la constante de normalización de las funciones de onda de Heitler-London es:\n",
    "\n",
    "$$ c_{S,T} = \\frac{1}{\\sqrt{2 \\pm 2S^2}}$$"
   ]
  },
  {
   "cell_type": "markdown",
   "metadata": {},
   "source": [
    "### Problema 3\n",
    "\n",
    "Un método alternativo al de Heitler–London para describir el estado electrónico de la molécula $H_2$ es el de orbitales moleculares. Este método considera que dos electrones, de espín opuesto, se encuentran en un mismo estado del tipo $\\psi_+$ de la molécula $H_2^+$.\n",
    "\n",
    "- Mostrar que la función de onda es antisimétrica.\n",
    "\n",
    "- Evalúe la constante $\\gamma$ que determina la fracción de estructura iónica propuesta por esta función.\n",
    "\n",
    "- ¿Cuál es la probabilidad de que ambos electrones residan en el mismo núcleo en este modelo?"
   ]
  },
  {
   "cell_type": "markdown",
   "metadata": {},
   "source": [
    "### Solución\n",
    "\n",
    "La función de onda total de un sistema de partículas idénticas debe ser simétrica o antisimétrica bajo la permutación de dos partículas, dependiendo de si las partículas son bosones (simétrica) o fermiones (antisimétrica). Como los electrones son fermiones, la función de onda debe ser antisimétrica al intercambio de dos electrones, lo cual implica que al intercambiar las coordenadas (espaciales y de espín) de dos electrones, la función de onda cambia de signo:\n",
    "\n",
    "$$ \\psi(\\vec{r}_1, \\vec{r}_2, \\sigma_1, \\sigma_2) = - \\psi(\\vec{r}_2, \\vec{r}_1, \\sigma_2, \\sigma_1)$$\n",
    "\n",
    "Esta propiedad significa que si dos electrones están en el mismo estado cuántico, la función de onda colapsa a cero, lo cual es una forma de expresar el principio de exclusión de Pauli: dos electrones no pueden ocupar el mismo estado cuántico.\n",
    "\n",
    "Segun el enunciado, debemos proponer las funciones de onda para los electrones individuales:\n",
    "\n",
    "$$ \\ket{\\psi^{(1)}} = \\ket{\\psi_+} \\otimes \\ket{\\uparrow} $$\n",
    "\n",
    "$$ \\ket{\\psi^{(2)}} = \\ket{\\psi_+} \\otimes \\ket{\\downarrow} $$\n",
    "\n",
    "La función de onda conjunta sera producto de las funciones de onda individuales. Notemos que $\\ket{\\psi_+ \\psi_+}$ sera simetrica bajo la permutacion de los electrones, multiplicando por el singlete, se obtiene la función antisimétrica:\n",
    "\n",
    "$$ \\ket{\\psi_+ \\psi_+} \\otimes \\frac{\\ket{\\uparrow \\downarrow} - \\ket{\\downarrow \\uparrow} }{\\sqrt{2}} =  \\frac{1}{\\sqrt{2}}(\\ket{\\psi^{(1)} \\psi^{(2)}} - \\ket{\\psi^{(2)} \\psi^{(1)}}) = \\ket{\\psi}$$\n",
    "\n",
    "La cual puede ser usada para describir el estado electrónico de la molécula $H_2$. La función de onda es antisimétrica bajo la permutación de los electrones, lo cual es consistente con el principio de exclusión de Pauli.\n",
    "\n",
    "Reemplazamos en la función de onda propuesta, los orbitales desplazados $\\ket{\\phi_a}$ y $\\ket{\\phi_b}$:\n",
    "\n",
    "$$ \\ket{\\psi} = \\frac{c_+^2}{\\sqrt{2}} (\\ket{\\phi_a \\phi_a} + \\ket{\\phi_b \\phi_b} + \\ket{\\phi_a \\phi_b} + \\ket{\\phi_b \\phi_a})\\ket{\\chi_S}$$\n",
    "\n",
    "\n",
    "\n"
   ]
  },
  {
   "cell_type": "markdown",
   "metadata": {},
   "source": [
    "### Problema 5\n",
    "\n",
    "La energía del estado fundamental del $\\text{H}_2^+$ respecto al sistema $\\text{H}$, en su estado fundamental, y $H^+$ a distancia infinita es $-2.65$ eV. La energía de ionización del hidrógeno átomico $H$ es de $13.6$ eV. Esto es la cantidad mínima de energía que se necesita para quitarle el electrón al átomo de hidrógeno desde su nivel fundamental.\n",
    "\n",
    "- Calcular la energía del $\\text{H}_2^+$ respecto al sistema $\\text{H}^+ + \\text{H}^+ + e$, a distancia infinita.\n",
    "\n",
    "- Calcular la energía del sistema $\\text{H}_2^+ + e$ a separación infinita respecto al sistema $\\text{H} + \\text{H}$, también a distancia infinita y con ambos átomos en su estado fundamental.\n",
    "\n",
    "- Calcular la energía de ionización del $\\text{H}_2$ si la energía de disociación de esta molécula en el sistema $\\text{H} + \\text{H}$, en su estado fundamental, es $4.48$ eV."
   ]
  },
  {
   "cell_type": "markdown",
   "metadata": {},
   "source": [
    "### Solución\n",
    "\n",
    "Sea $\\Delta E$ la diferencia entre la energía interna del sistema antes y después de una reacción. El balance de energía para la reacción inversa sera $-\\Delta E$. La energía de ionización del hidrógeno es de $13.6 \\text{eV}$, es decir, se necesita aumentar la energía del sistema en $13.6 \\text{eV}$ para quitarle el electrón al átomo de hidrógeno. La reacción sera:\n",
    "\n",
    "$$ \\text{H} \\rightarrow \\text{H}^+ + e^- \\qquad \\Delta E = 13.6 \\text{eV}$$\n",
    "\n",
    "Por otra parte, la energía del estado fundamental del $\\text{H}_2^+$ respecto al sistema $\\text{H}$, en su estado fundamental, y $H^+$ a distancia infinita es $-2.65$ eV. Es decir, que al separar el ión $\\text{H}_2^+$, el sistema libera $2.65 \\text{eV}$ de energía. La reacción sera:\n",
    "\n",
    "$$ \\text{H}_2^+ \\rightarrow \\text{H} + \\text{H}^+ \\qquad \\Delta E = -2.65 \\text{eV}$$\n",
    "\n",
    "Finalmente, la energía del sistema $\\text{H}_2^+$ con respecto al sistema $\\text{H}^+ + \\text{H}^+ + e^-$ a distancia infinita es de $13.6 \\text{eV} - 2.65 \\text{eV} = 10.95 \\text{eV}$. Es decir ocurre la reacción:\n",
    "\n",
    "$$ \\text{H}_2^+ \\rightarrow \\text{H}^+ + \\text{H}^+ + e^- \\qquad \\Delta E = 10.95 \\text{eV}$$\n",
    "\n",
    "Para el segundo punto, agregamos un electron al sistema anterior, el balance de energía es el mismo.\n",
    "\n",
    "$$ \\text{H}_2^+ + e^- \\rightarrow \\text{H}^+ + e^- + \\text{H}^+ + e^- \\qquad \\Delta E = 10.95 \\text{eV}$$\n",
    "\n",
    "Como había que aumentar la energía en $13.6 \\text{eV}$ para quitarle el electrón al átomo de hidrógeno, para agregar un electrón al sistema, se debe disminuirla en la misma cantidad. Por lo que la reacción sera:\n",
    "\n",
    "$$ \\text{H}^+ + e^- + \\text{H}^+ + e^- \\rightarrow \\text{H} + \\text{H} \\qquad \\Delta E = -27.2 \\text{eV}$$\n",
    "\n",
    "Luego, la energía del sistema $\\text{H}_2^+ + e$ a separación infinita respecto al sistema $\\text{H} + \\text{H}$ sera de $-27.2 \\text{eV} + 10.95 \\text{eV} = -16.25 \\text{eV}$. Es decir se lleva a cabo la reacción:\n",
    "\n",
    "$$ \\text{H}_2^+ + e^- \\rightarrow \\text{H} + \\text{H} \\qquad \\Delta E = -16.25 \\text{eV}$$\n",
    "\n",
    "Finalmente si la energía necesaria para disociar la molécula de hidrógeno $\\text{H}_2$ en el sistema $\\text{H} + \\text{H}$ es de $4.48 \\text{eV}$. \n",
    "\n",
    "$$ \\text{H}_2 \\rightarrow \\text{H} + \\text{H} \\qquad \\Delta E = 4.48 \\text{eV}$$\n",
    "\n",
    "Por lo que la reacción para ionizar la molecula de hidrógeno sera:\n",
    "\n",
    "$$ \\text{H}_2 \\rightarrow \\text{H} + \\text{H} \\rightarrow \\text{H}_2^+ + e^- \\qquad \\Delta E = 4.48 \\text{eV} + 16.25 \\text{eV} = 20.73 \\text{eV}$$\n",
    "\n",
    "Es decir se necesitan $20.73 \\text{eV}$ para ionizar la molécula de hidrógeno."
   ]
  },
  {
   "cell_type": "markdown",
   "metadata": {},
   "source": [
    "### Problema 6\n",
    "\n",
    "Una expresión fenomenológica para la energía potencial de un molécula de haluro alcalino tiene la siguiente forma:\n",
    "\n",
    "$$ V(R) = \\alpha \\exp(-aR) - \\frac{e^2}{4\\pi \\epsilon_0 R}$$\n",
    "\n",
    "Datos espectrales proveen valores de la separación de equilibrio $R_0 = 1.56 \\text{Å}$ y de la curvatura de la energía potencial $K = \\frac{d^2V}{dR^2}|_{R=R_0} = 248 \\text{J/m}^2$, para la molécula $\\text{LiF}$.\n",
    "\n",
    "- Encuentre la energía para separar la molécula $\\text{LiF}$ en los iones $\\text{Li}^+$ y $\\text{F}^-$ a distancia infinita.\n",
    "\n",
    "- La energía de ionización del $\\text{Li}$ es $5.4 \\text{eV}$ y la afinidad electrónica del $\\text{F}$ es $3.4 \\text{eV}$. Encuentre la energía de disociación de la molécula $\\text{LiF}$.\n",
    "\n"
   ]
  },
  {
   "cell_type": "markdown",
   "metadata": {},
   "source": [
    "### Solución\n",
    "\n",
    "La separación de equilibrio $R_0$ es el punto en el que la energía potencial es mínima, por lo que la derivada de la energía potencial respecto a la distancia es cero en este punto.\n",
    "\n",
    "$$ \\frac{dV}{dR}  = -\\alpha a \\exp(-aR) + \\frac{e^2}{4\\pi \\epsilon_0 R^2} $$\n",
    "\n",
    "$$ \\Rightarrow \\frac{dV}{dR} \\Big|_{R_0} = -\\alpha a \\exp(-aR_0) + \\frac{e^2}{4\\pi \\epsilon_0 R_0^2} = 0$$\n",
    "\n",
    "$$ \\Rightarrow \\alpha = \\frac{e^2}{4\\pi \\epsilon_0 R_0^2 a} \\exp(aR_0) $$\n",
    "\n",
    "Por otra parte, la curvatura de la energía potencial en el punto de equilibrio se halla con la segunda derivada:\n",
    "\n",
    "$$ \\frac{d^2V}{dR^2} = \\alpha a^2 \\exp(-aR) - \\frac{e^2}{2 \\pi \\epsilon_0 R^3} = \\frac{e^2 a}{4\\pi \\epsilon_0 R_0^2 } \\exp(a(R_0-R))  - \\frac{e^2}{2 \\pi \\epsilon_0 R^3}$$\n",
    "\n",
    "$$ \\Rightarrow  K = \\frac{d^2V}{dR^2} \\Big|_{R_0} = \\frac{e^2 a}{4\\pi \\epsilon_0 R_0^2 } - \\frac{e^2}{2 \\pi \\epsilon_0 R_0^3} = \\frac{e^2}{\\pi \\epsilon_0 R_0^2}(\\frac{a}{4} - \\frac{2}{R_0})$$\n",
    "\n",
    "$$ \\Rightarrow a = 4 \\pi \\epsilon_0 \\frac{K  R_0^2}{e^2}  + \\frac{1}{2R_0}$$\n",
    "\n",
    "Hemos hallado los valores de $\\alpha$ y $a$ de la expresión fenomenológica dados los datos espectrales. La expresión fenomenológica para la energía potencial de la molécula de haluro alcalino sera, en función de estos terminos:\n",
    "\n",
    "\n",
    "$$ V(R) = \\frac{e^2}{4\\pi \\epsilon_0 R_0^2} \\frac{\\exp(a(R_0-R))}{a} - \\frac{e^2}{4\\pi \\epsilon_0 R} $$\n",
    "\n",
    "Ahora hallamos la energía para separar la molécula $\\text{LiF}$ en los iones $\\text{Li}^+$ y $\\text{F}^-$ a distancia infinita. Esta energía es la diferencia entre la energía potencial a distancia infinita y la energía potencial en el punto de equilibrio:\n",
    "\n",
    "$$ \\Delta E = V(\\infty) - V(R_0) = - \\frac{e^2}{4\\pi \\epsilon_0 R_0^2} \\frac{1}{a} + \\frac{e^2}{4\\pi \\epsilon_0 R_0} $$\n",
    "\n",
    "$$ \\Rightarrow \\Delta E = \\frac{e^2}{4\\pi \\epsilon_0 R_0} (1 - \\frac{1}{aR_0}) \\quad \\text{En donde} \\quad  a = 4 \\pi \\epsilon_0 \\frac{K  R_0^2}{e^2}  + \\frac{2}{R_0}$$\n",
    "\n",
    "Reemplazando:\n",
    "- $ e = -1.602176634 \\times 10^{-19} \\text{C}$\n",
    "- $ R_0 = 1.56 \\text{Å} = 1.56 × 10^{-10} \\text{m}$\n",
    "- $ K = 248 \\text{J/m}^2$\n",
    "- $ k = \\frac{1}{4\\pi\\epsilon_0} = 8.9875517873681764 \\times 10^9 \\, \\text{N m}^2/\\text{C}^2 $"
   ]
  },
  {
   "cell_type": "code",
   "execution_count": null,
   "metadata": {},
   "outputs": [
    {
     "name": "stdout",
     "output_type": "stream",
     "text": [
      "1.2356951695649361e-18 [J]\n",
      "7.71260261410688 [eV]\n"
     ]
    }
   ],
   "source": [
    "e = -1.602176634e-19 #C\n",
    "K = 248 # J/m^2\n",
    "R_0 = 1.56e-10 # m\n",
    "k = 8.9875517873681764e9 #N m^2/C^2\n",
    "\n",
    "a = lambda R0: (K*R0**2/e**2)/k + 2/R0\n",
    "E = lambda a, R0: k*e**2/R0*(1 - 1/(a*R0))\n",
    "\n",
    "result = E(a(R_0), R_0)\n",
    "\n",
    "def J_to_eV(energy):\n",
    "    return energy/1.602176634e-19\n",
    "\n",
    "print(result, \"[J]\")\n",
    "print(J_to_eV(result), \"[eV]\")"
   ]
  },
  {
   "cell_type": "markdown",
   "metadata": {},
   "source": [
    "La energia necesaria para separar la molécula $\\text{LiF}$ en los iones $\\text{Li}^+$ y $\\text{F}^-$ a distancia infinita es de $\\Delta E = 1.47 \\times 10^{-18} \\text{J} = 7.71 \\text{eV}$."
   ]
  },
  {
   "cell_type": "markdown",
   "metadata": {},
   "source": [
    "La energía de ionización del $\\text{Li}$ es $5.4 \\text{eV}$, es decir, se debe aumentar la energía del sistema en $5.4 \\text{eV}$ para quitarle el electrón al átomo de litio. La reacción sera:\n",
    "\n",
    "$$ \\text{Li} \\rightarrow \\text{Li}^+ + e^- \\qquad \\Delta E = 5.4 \\text{eV}$$\n",
    "\n",
    "La afinidad electrónica del $\\text{F}$ es $3.4 \\text{eV}$, es decir, la energía del sistema disminuye en $3.4 \\text{eV}$ al agregar un electrón al átomo de flúor. La reacción sera:\n",
    "\n",
    "$$ \\text{F} + e^- \\rightarrow \\text{F}^- \\qquad \\Delta E = - 3.4 \\text{eV}$$\n",
    "\n",
    "La energía necesaria para formar la molécula $\\text{LiF}$ sera la suma de las energías de ionización y afinidad electrónica $\\Delta E = 5.4 \\text{eV} - 3.4 \\text{eV} = 2 \\text{eV}$. Por lo que la energía de disociación de la molécula sera igual a la energía necesaria para formar el enlace mas la energía necesaria para separar los iones a distancia infinita:\n",
    "\n",
    "$$ \\text{LiF} \\rightarrow\\text{Li}^+ + \\text{F}^- \\qquad \\Delta E = - 2 \\text{eV} + 7.71 \\text{eV} = 5.71 \\text{eV}$$\n",
    "\n",
    "La energía de disociación de la molécula $\\text{LiF}$ es de $5.71 \\text{eV}$.\n",
    "\n",
    "\n"
   ]
  },
  {
   "cell_type": "markdown",
   "metadata": {},
   "source": [
    "### Problema 7\n",
    "\n",
    "La función de onda que describe el orbital ligante de la molecula de $\\text{LiF}$ puede expresarse de la siguiente forma:\n",
    "\n",
    "$$ \\Psi(1,2) = [\\frac{A}{\\sqrt{2}} (\\phi_{2s}(1) \\phi_{2p_z}(2) + \\phi_{2s}(2)\\phi_{2p_z}(1)) + B\\phi_{2s}(1)\\phi_{2s}(2) + C\\phi_{2p_z}(1)\\phi_{2p_z}(2) ] \\chi_S(1,2)$$\n",
    "\n",
    "En donde los orbitales atómicos $\\phi_{2s}$ y $\\phi_{2p_z}$ corresponden a los átomos $\\text{Li}$ y $\\text{F}$, respectivamente. $\\chi_S(1,2)$ represental el espín singlete.\n",
    "\n",
    "* Verificar que $\\Psi(1,2)$ esta normalizada si $A^2 + B^2 + C^2 = 1$.\n",
    "* Encontrar una expresión para el momento dipolar eléctrico $p$ en término de los parámetros $A$, $B$ y $C$.\n",
    "* El valor medido de $p$ para $\\text{LiF}$ es $p=0.85eR$ siendo $R$ la separación de equilibrio entre el $\\text{Li}$ y el $\\text{F}$. A partir de este dato determinar los parámetros $A$, $B$ y $C$ de la función de onda. Discutir la relación entre la ligadura iónica y covalente en la molécula de $\\text{LiF}$.\t"
   ]
  },
  {
   "cell_type": "markdown",
   "metadata": {},
   "source": [
    "### Solución\n",
    "\n",
    "Escribamos los orbitales que intervienen en la función de onda propuesta.\n",
    "\n",
    "$$ \\phi_{2s}(\\vec{r}) = R_{20}(r) Y_0^0(\\theta, \\phi) =  \\frac{1}{\\sqrt{\\pi}}\\left( \\frac{1}{2a_0} \\right)^{3/2} \\left(1 - \\frac{r}{2a_0}\\right) e^{-r/2a_0}$$\n",
    "\n",
    "$$ \\phi_{2p_z}(\\vec{r}) = R_{21}(r) Y_1^0(\\theta, \\phi) = \\sqrt{\\frac{1}{4\\pi}} \\left( \\frac{1}{3a_0} \\right)^{3/2} \\frac{r}{a_0} e^{-r/2a_0} \\cos\\theta$$"
   ]
  },
  {
   "cell_type": "markdown",
   "metadata": {},
   "source": [
    "\n",
    "Hallamos la norma de $\\Psi(1,2)$.\n",
    "\n",
    "$$ \\langle \\Psi(1,2) \\ket{\\Psi(1,2)} = \\int \\int \\frac{A^2}{2}(\\phi_{2s}(1) \\phi_{2p_z}(2) + \\phi_{2s}(2)\\phi_{2p_z}(1))^2 + B^2(\\phi_{2s}(1)\\phi_{2s}(2))^2 + C^2(\\phi_{2p_z}(1)\\phi_{2p_z}(2))^2$$\n",
    "\n",
    "$$ + \\frac{AB}{\\sqrt{2}} (\\phi_{2s}(1) \\phi_{2p_z}(2) + \\phi_{2s}(2)\\phi_{2p_z}(1)) (\\phi_{2s}(1)\\phi_{2s}(2))$$\n",
    "\n",
    "$$ + \\frac{AC}{\\sqrt{2}} (\\phi_{2s}(1) \\phi_{2p_z}(2) + \\phi_{2s}(2)\\phi_{2p_z}(1)) (\\phi_{2p_z}(1)\\phi_{2p_z}(2))$$\n",
    "\n",
    "$$ + BC (\\phi_{2s}(1)\\phi_{2s}(2))(\\phi_{2p_z}(1)\\phi_{2p_z}(2)) \\quad d^3 r_1 d^3 r_2$$"
   ]
  },
  {
   "cell_type": "markdown",
   "metadata": {},
   "source": [
    "Veamos los términos cruzados:\n",
    "\n",
    "$$\\int \\int d^3 r_1 d^3 r_2 (\\phi_{2s}(1) \\phi_{2p_z}(2) + \\phi_{2s}(2)\\phi_{2p_z}(1)) (\\phi_{2s}(1)\\phi_{2s}(2)) $$\n",
    "\n",
    "$$ = \\int \\int d^3 r_1 d^3 r_2  (\\phi_{2s}(1) \\phi_{2p_z}(2) \\phi_{2s}(1)\\phi_{2s}(2) +  \\phi_{2s}(2)\\phi_{2p_z}(1) \\phi_{2s}(1)\\phi_{2s}(2)) = \\int d^3r_2 \\phi_{2p_z}(2)\\phi_{2s}(2) + \\int d^3r_1 \\phi_{2p_z}(1) \\phi_{2s}(1)$$\n",
    "\n",
    "Notemos que $\\int \\cos \\theta d\\Omega = 0$, por lo que los términos cruzados se anulan. De la misma forma, se anulan los términos todos los términos cruzados en $\\langle \\Psi(1,2) \\ket{\\Psi(1,2)}$. Veamos ahora los terminos que sobreviven."
   ]
  },
  {
   "cell_type": "markdown",
   "metadata": {},
   "source": [
    "$$ \\int \\int \\frac{A^2}{2}(\\phi_{2s}(1) \\phi_{2p_z}(2) + \\phi_{2s}(2)\\phi_{2p_z}(1))^2  d^3 r_1 d^3 r_2  = \\frac{A^2}{2} \\int \\phi_{2s}(1)^2 d^3 r_1 \\int \\phi_{2p_z}(2)^2 d^3 r_2 + \\frac{A^2}{2} \\int \\phi_{2s}(2)^2 d^3 r_2 \\int \\phi_{2p_z}(1)^2 d^3 r_1$$\n",
    "\n",
    "$$ + A^2 \\int \\int \\phi_{2s}(1) \\phi_{2p_z}(2) \\phi_{2s}(2)\\phi_{2p_z}(1) d^3 r_1 d^3 r_2 = A^2$$\n",
    "\n",
    "En donde las dos primeras integrales son $1$ y la tercera es $0$, ya que contiene términos cruzados. De la misma forma:\n",
    "\n",
    "$$ \\int \\int B^2(\\phi_{2s}(1)\\phi_{2s}(2))^2 d^3 r_1 d^3 r_2 = B^2 \\qquad \\int \\int C^2(\\phi_{2p_z}(1)\\phi_{2p_z}(2))^2 d^3 r_1 d^3 r_2 = C^2$$\n",
    "\n",
    "De modo que $\\langle \\Psi(1,2) \\ket{\\Psi(1,2)} = A^2 + B^2 + C^2$ y la función de onda propuesta esta normalizada si $A^2 + B^2 + C^2 = 1$."
   ]
  },
  {
   "cell_type": "markdown",
   "metadata": {},
   "source": [
    "Notemos que el primer termino en la función de onda propuesta es la contribución covalente, que involucra al electrón externo del $\\text{Li}$ y un electrón $p_z$ de la capa externa del $\\text{F}$. El término proporcional $B$ es muy pequeño comparado con la otra contribución iónica, es decir el término proporcional a $C$. Debido a que la probabilidad de que los dos electrones se encuentren en las proximidades del átomo de litio es muy baja.\n",
    "\n",
    "Esto se debe a la baja afinidad electrónica del $\\text{Li}$, mientras que la energía de ionización del $\\text{F}$ es alta, por lo que se puede asumir $B \\approx 0$. En esta aproximación el momento dipolar de la molécula es $p = C^2 e R_0$ en donde $R_0$ es la separación de equilibrio entre los átomos.\n",
    "\n",
    "Si experimentalmente se sabe que $p = 0.85 e R_0$, entonces $C \\approx 0.9$ y $A \\approx 0.4$. Luego el carácter iónico de la molécula de $\\text{LiF}$ es predominante, con una pequeña contribución covalente."
   ]
  },
  {
   "cell_type": "markdown",
   "metadata": {},
   "source": [
    "### Problema 8\n",
    "\n",
    "Considere un potencial de Lennard–Jones del tipo 12–6:\n",
    "\n",
    "$$ V_{LJ} = 4 \\epsilon \\left[ \\left( \\frac{\\sigma}{R} \\right)^{12} - \\left( \\frac{\\sigma}{R} \\right)^{6} \\right]$$\n",
    "\n",
    "- Encontrar la profundidad del pozo de potencial y la separación entre átomos en términos de los parámetros $\\epsilon$ y $\\sigma$ del potencial.\n",
    "- Para el caso de $\\text{Xe}$, los parámetros del potencial son $\\epsilon = 1.94 \\times 10^{-2} \\text{eV}$ y $\\sigma = 0.407 \\text{nm}$. Encuentre la separación de equilibrio y la temperatura de la energía térmica equivalente a la profundidad del pozo de potencial para el $\\text{Xe}$.\n"
   ]
  },
  {
   "cell_type": "markdown",
   "metadata": {},
   "source": [
    "### Solución\n",
    "\n",
    "Hallemos las derivadas del potencial con respecto a la separación internuclear.\n",
    "\n",
    "$$ V_{LJ}'(R) = 4 \\epsilon \\left( -12 \\frac{\\sigma^{12}}{R^{13}} + 6\\frac{\\sigma^6}{R^7} \\right) = 24 \\epsilon_0 \\left( -2 \\frac{\\sigma^{12}}{R^{13}} + \\frac{\\sigma^6}{R^7} \\right) $$\n",
    "\n",
    "$$ V_{LJ}''(R) = 24 \\epsilon \\left( 26\\frac{\\sigma^{12}}{R^{14}} - 7\\frac{\\sigma^6}{R^8}    \\right) $$\n",
    "\n",
    "Buscamos el valor $R_0$ tal que $V_{LJ}(R_0)$ es un minimo, esto es, $V_{LJ}'(R_0) = 0$:\n",
    "\n",
    "$$ 24 \\epsilon \\left( -2 \\frac{\\sigma^{12}}{R_0^{13}} + \\frac{\\sigma^6}{R_0^7} \\right) = 0$$\n",
    "\n",
    "$$ -2 \\frac{\\sigma^{6}}{R_0^{6}} + 1 = 0 \\Rightarrow R_0 = 2^{1/6}\\sigma$$\n",
    "\n",
    "Reemplazando en la segunda derivada, es facil ver que $V_{LJ}''(R_0) > 0$, por lo que $R_0$ es un mínimo. La profundidad del pozo de potencial sera entonces:\n",
    "\n",
    "$$ V_{LJ}(R_0) = 4 \\epsilon \\left[ \\left( \\frac{\\sigma}{R_0} \\right)^{12} - \\left( \\frac{\\sigma}{R_0} \\right)^{6} \\right] = 4 \\epsilon \\left[ \\left(\\frac{1}{2^{1/6}} \\right)^{12} - \\left(\\frac{1}{2^{1/6}}\\right)^{6}\\right] = 4 (\\frac{1}{4} - \\frac{1}{2}) \\epsilon = - \\epsilon$$\n",
    "\n",
    "Para el caso del $\\text{Xe}$, reemplazamos los valores de $\\epsilon$ y $\\sigma$:\n",
    "- $\\epsilon = 1.94 \\times 10^{-2} \\text{eV}$ \n",
    "- $\\sigma = 0.407 \\text{nm}$"
   ]
  },
  {
   "cell_type": "code",
   "execution_count": 5,
   "metadata": {},
   "outputs": [
    {
     "name": "stdout",
     "output_type": "stream",
     "text": [
      "-0.0194 [eV]\n",
      "4.568420536619148e-10 [m]\n"
     ]
    }
   ],
   "source": [
    "sigma = 0.407e-9 # m\n",
    "epsilon = 1.94e-2 #eV\n",
    "V = lambda: -epsilon\n",
    "R = lambda: sigma*(2**(1/6))\n",
    "print(V(), \"[eV]\")\n",
    "print(R(), \"[m]\")"
   ]
  },
  {
   "cell_type": "markdown",
   "metadata": {},
   "source": [
    "La separación de equilibrio sera $R_0 = 4.07 \\text{Å}$ y él la profundidad del pozo de potencial será de $-1.94 \\times 10^{-2} \\text{eV}$. La temperatura de la energía térmica equivalente a la profundidad del pozo de potencial sera:\n",
    "\n",
    "$$ k_BT = \\epsilon \\Rightarrow T = \\frac{\\epsilon}{k_B} = \\frac{1.94 \\times 10^{-2} \\text{eV}}{8.617333262145 \\times 10^{-5} \\text{eV/K}} = 225.1 \\text{K}$$"
   ]
  }
 ],
 "metadata": {
  "kernelspec": {
   "display_name": "torch",
   "language": "python",
   "name": "python3"
  },
  "language_info": {
   "codemirror_mode": {
    "name": "ipython",
    "version": 3
   },
   "file_extension": ".py",
   "mimetype": "text/x-python",
   "name": "python",
   "nbconvert_exporter": "python",
   "pygments_lexer": "ipython3",
   "version": "3.12.2"
  }
 },
 "nbformat": 4,
 "nbformat_minor": 2
}
