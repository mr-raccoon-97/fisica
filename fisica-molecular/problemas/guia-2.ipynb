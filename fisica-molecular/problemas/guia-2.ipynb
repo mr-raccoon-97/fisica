{
 "cells": [
  {
   "cell_type": "markdown",
   "metadata": {},
   "source": [
    "### Problema 1\n",
    "\n",
    "La separación entre líneas del espectro rotacional puro de $HCl$ es $6,35×1011 \\text{Hz}$. Determine la separación internuclear de esta molécula."
   ]
  },
  {
   "cell_type": "markdown",
   "metadata": {},
   "source": []
  }
 ],
 "metadata": {
  "language_info": {
   "name": "python"
  }
 },
 "nbformat": 4,
 "nbformat_minor": 2
}
