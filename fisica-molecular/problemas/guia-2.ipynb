{
 "cells": [
  {
   "cell_type": "markdown",
   "metadata": {},
   "source": [
    "### Problema 1\n",
    "\n",
    "La separación entre líneas del espectro rotacional puro de $\\text{HCl}$ es $6,35×10^{11} \\text{Hz}$. Determine la separación internuclear de esta molécula."
   ]
  },
  {
   "cell_type": "markdown",
   "metadata": {},
   "source": [
    "### Solución\n",
    "\n"
   ]
  },
  {
   "cell_type": "markdown",
   "metadata": {},
   "source": [
    "La frecuencia de la separación entre líneas para un espectro rotacional puro esta dada por:\n",
    "\n",
    "$$ \\Delta (h \\nu) = 2 B \\qquad B = \\frac{\\hbar^2}{2\\mu R_0^2} \\qquad \\mu = \\frac{m_1 m_2}{m_1 + m_2} $$\n",
    "\n",
    "$$ \\Rightarrow R_0 = \\sqrt{\\frac{\\hbar^2}{2 \\mu B}} = \\sqrt{\\frac{\\hbar^2}{\\mu \\Delta(h\\nu)}}$$\n",
    "\n",
    "Reemplazando:\n",
    "\n",
    "- $\\nu = 6,35×10^{11} \\text{Hz}$\n",
    "- $m_H \\approx m_p \\approx 1,6726 \\times 10^{−27} \\text{kg}$\n",
    "- $m_{Cl} \\approx 35.5 m_H$"
   ]
  },
  {
   "cell_type": "code",
   "execution_count": 13,
   "metadata": {},
   "outputs": [
    {
     "name": "stdout",
     "output_type": "stream",
     "text": [
      "1.2743235763373386 A\n"
     ]
    }
   ],
   "source": [
    "from math import sqrt, pi\n",
    "nu = 6.35e11\n",
    "mH = 1.6726e-27\n",
    "mCl = 35.5*mH\n",
    "h =  6.626e-34\n",
    "hbar = 1.054e-34\n",
    "mu = lambda m1,m2: m1*m2/(m1+m2)\n",
    "R0 = lambda nu,m1,m2: sqrt(hbar/(mu(m1,m2)*2*pi*nu))\n",
    "result = R0(nu,mH,mCl)\n",
    "print(result * 10**10, 'A')\n"
   ]
  },
  {
   "cell_type": "markdown",
   "metadata": {},
   "source": [
    "Obteniéndose que la separación inter nuclear de la molécula de $\\text{HCl}$ es de $1.27 \\text{Å}$."
   ]
  },
  {
   "cell_type": "markdown",
   "metadata": {},
   "source": [
    "### Problema 2. \n",
    "Calcule la energía **rotacional** de los tres primeros niveles rotacionales puros molécula\n",
    "$\\text{CO}$. Determine la longitud de onda de los fotones absorbidos en las transiciones entre\n",
    "estos niveles de energía. La longitud de enlace de la molécula es $1,13\\text{Å}$"
   ]
  },
  {
   "cell_type": "markdown",
   "metadata": {},
   "source": [
    "### Solución\n",
    "\n",
    "Los niveles de energía rotacionales de una molécula diatómica son:\n",
    "\n",
    "$$ E_{rotacional}^l = \\frac{\\hbar^2l(l+1)}{2\\mu R_0^2} \\qquad l = 1,2,... \\qquad \\mu = \\frac{m_1 m_2}{m_1 + m_2} $$\n",
    "\n",
    "Reemplazando:\n",
    "\n",
    "- $R_0 = 1,13\\text{Å}$\n",
    "- $m_H \\approx m_p \\approx 1,6726 \\times 10^{−27} \\text{kg}$\n",
    "- $m_C \\approx 12 m_H$\n",
    "- $m_O \\approx 16 m_H$\n"
   ]
  },
  {
   "cell_type": "code",
   "execution_count": 9,
   "metadata": {},
   "outputs": [
    {
     "name": "stdout",
     "output_type": "stream",
     "text": [
      "0.47409902515390406 meV\n",
      "1.4222970754617121 meV\n",
      "2.8445941509234243 meV\n"
     ]
    }
   ],
   "source": [
    "mH = 1.6726e-27\n",
    "mC = 12*mH\n",
    "mO = 16*mH\n",
    "hbar = 1.054e-34\n",
    "R0 = 1.13e-10\n",
    "\n",
    "mu = lambda m1,m2: m1*m2/(m1+m2)\n",
    "E = lambda l, R0, m1, m2: hbar**2*l*(l+1)/(2*mu(m1,m2)*R0**2)\n",
    "\n",
    "for l in range(1,4):\n",
    "    print(E(l,R0,mC,mO)/1.6e-19*1000, 'meV')"
   ]
  },
  {
   "cell_type": "markdown",
   "metadata": {},
   "source": [
    "Los primeros tres niveles de energía rotacional son:\n",
    "\n",
    "$$ E_{rotacional}^1 = 0.46 \\text{meV} \\qquad E_{rotacional}^2 = 1.42 \\text{meV} \\qquad E_{rotacional}^3 = 2.84 \\text{meV} $$\n",
    "\n",
    "Por otra parte la longitud de onda de los fotones absorbidos en las transiciones entre estos niveles de energía es:\n",
    "\n",
    "$$ \\lambda = \\frac{hc}{\\Delta E} = \\frac{hc}{2B} \\qquad B = \\frac{\\hbar^2}{2\\mu R_0^2} $$"
   ]
  },
  {
   "cell_type": "code",
   "execution_count": 14,
   "metadata": {},
   "outputs": [
    {
     "name": "stdout",
     "output_type": "stream",
     "text": [
      "2.620496845773296 mm\n"
     ]
    }
   ],
   "source": [
    "mH = 1.6726e-27\n",
    "mC = 12*mH\n",
    "mO = 16*mH\n",
    "hbar = 1.054e-34\n",
    "R0 = 1.13e-10\n",
    "h =  6.626e-34\n",
    "c = 3e8\n",
    "mu = lambda m1,m2: m1*m2/(m1+m2)\n",
    "B = lambda m1, m2, R0: hbar**2/(2*mu(m1,m2)*R0**2)\n",
    "wavelenght = lambda m1, m2, R0: h*c/(2*B(m1,m2,R0)) \n",
    "\n",
    "print(wavelenght(mC,mO,R0)*10**3, 'mm')"
   ]
  },
  {
   "cell_type": "markdown",
   "metadata": {},
   "source": [
    "Obteniéndose una longitud de onda de absorción de $ \\lambda = 2.6 \\text{mm} $, dicha longitud de onda corresponde al espectro de microondas.\n",
    "\n"
   ]
  },
  {
   "cell_type": "markdown",
   "metadata": {},
   "source": [
    "### Problema 3. \n",
    "\n",
    "Una molécula diatómica no es rigurosamente rígida, por lo que la distancia internuclear aumenta a medida que aumenta su momento angular.\n",
    "\n",
    "Analizar cómo afecta este estiramiento a los niveles de energía rotacional.\n",
    "\n",
    "Una expresión empírica para la energía rotacional, considerando el efecto de distorsión centrífuga, es:\n",
    "\n",
    "$$ E_l = B_0 l(l+1) - D l^2(l+1)^2 $$\n",
    "\n",
    "Encontrar una expresión para la constante de distorsión centrífuga $D$. Considere un modelo en el que la fuerza de lugadura obedece la ley de Hook con una constante de fuerza $k$ y que los desplazamientos respecto a la separación de equilibrio son pequeños.\n",
    "\n",
    "Encontrar una expresión para las frecuencias correspondientes a las transiciones entre los niveles rotacionales."
   ]
  },
  {
   "cell_type": "markdown",
   "metadata": {},
   "source": [
    "### Solución\n",
    "\n",
    "Supongamos que la fuerza de la ligadura obedece la ley de Hook, es decir, dada una constante de fuerza $k$, y suponiendo que los desplazamientos con respecto a la posición de equilibrio son pequeños. La molecula experimentara una fuerza $F = k(R - R_0)$ al alejarse de la posición de equilibrio. Si igualamos esta fuerza con la fuerza centripeta $F = \\mu \\omega^2 R$  Para estiramientos pequeños:\n",
    "\n",
    "$$ \\Rightarrow k(R - R_0) \\approx \\mu \\omega^2 R_0 $$\n",
    "\n",
    "Reemplazando en la expresión de la energía rotacional:\n",
    "\n",
    "$$ E_{rotacional}^l = Bl(l+1) + \\frac{1}{2} k(R - R_0)^2 \\approx \\frac {\\hbar^2 l(l+1)}{2 \\mu R_0^2} + \\frac{\\omega^4 R_0^2 \\mu^2}{2k} $$\n",
    "\n",
    "De la ecuación del momento angular, dado un momento de inercia $I = \\mu R_0^2$:\n",
    "\n",
    "$$ \\hat{L} = I \\hat{\\omega} = \\mu R_0^2 \\hat{\\omega} \\Rightarrow \\frac{\\omega^4 R_0^2 \\mu^2}{2k} = \\frac{R_0^2 \\mu^2}{2k} \\frac{\\hat{L}^2}{\\mu^4 R_0^8}$$\n",
    "\n",
    "Reemplazando en la expresión los operadores por sus autovalores, obtenemos la energia:\n",
    "\n",
    "$$E_{rotacional}^l = Bl(l+1) + \\frac{1}{2}k(R - R_0)^2 \\approx \\frac{\\hbar^2 l(l+1)}{2 \\mu R_0^2} + \\frac{\\hbar^4l^2(l+1)^2}{2k\\mu^2 R_0^6}$$\n",
    "\n",
    "\n",
    "En donde $D = \\frac{\\hbar^4}{2k\\mu^2 R_0^6}$\n"
   ]
  },
  {
   "cell_type": "markdown",
   "metadata": {},
   "source": [
    "### Problema 4\n",
    "\n",
    "Evaluar la energía de punto cero para la molécula de $\\text{Ar}_2$ a partir del potencial de Lennard-Jones.\n",
    "Repetir el cálculo anterior para la molécula de $\\text{He}_2$. A partir de estos resultados discutir la posibilidad de formarse la molécula de $\\text{He}_2$.\n",
    "\n",
    "Los parametros del potencial de Lennar-Jones para $\\text{Ar}$ y $\\text{He}$ son $\\sigma = 0.340 \\text{nm}$, $\\epsilon = 10.5 \\text{meV}$ y $\\sigma = 0.256 \\text{nm}$, $\\epsilon = 0.879 \\text{meV}$ respectivamente."
   ]
  },
  {
   "cell_type": "markdown",
   "metadata": {},
   "source": [
    "### Solución\n",
    "\n",
    "El potencial de Leannard-Jones está dado por:\n",
    "\n",
    "$$ V_{LJ}(R) = 4 \\epsilon \\left[ \\left( \\frac{\\sigma}{R} \\right)^{12} - \\left( \\frac{\\sigma}{R} \\right)^{6} \\right]$$\n",
    "\n",
    "Las derivadas del potencial de Lennard-Jones son:\n",
    "\n",
    "\n",
    "$$ V_{LJ}'(R) = 24 \\epsilon_0 \\left( -2 \\frac{\\sigma^{12}}{R^{13}} + \\frac{\\sigma^6}{R^7} \\right) \\qquad V_{LJ}''(R) = 24 \\epsilon \\left( 26\\frac{\\sigma^{12}}{R^{14}} - 7\\frac{\\sigma^6}{R^8} \\right) $$\n",
    "\n",
    "Podemos hallar de esta forma, la separación internuclear de equilibrio $R_0$, tomando $V_{LJ}'(R_0) = 0$:\n",
    "\n",
    "$$ 24 \\epsilon \\left( -2 \\frac{\\sigma^{12}}{R_0^{13}} + \\frac{\\sigma^6}{R_0^7} \\right) = 0$$\n",
    "\n",
    "$$ -2 \\frac{\\sigma^{6}}{R_0^{6}} + 1 = 0 \\Rightarrow R_0 = 2^{1/6}\\sigma$$\n",
    "\n",
    "Tomando $k = V''(R_0)$, podemos aproximar el potencial de Lennard-Jones alrededor de $R_0$ como un oscilador armónico:\n",
    "\n",
    "$$ V(R) \\approx -\\epsilon + \\frac{1}{2}k(R - R_0)^2 \\qquad k = \\omega^2 \\mu$$ \n",
    "\n",
    "Evaluando:\n",
    "\n",
    "$$ k = V''(R_0) = 24 \\epsilon \\left( 26\\frac{\\sigma^{12}}{(2^{1/6}\\sigma)^{14}} - 7\\frac{\\sigma^6}{(2^{1/6}\\sigma)^8} \\right)$$\n",
    "\n",
    "$$ = 24 \\epsilon \\left( \\frac{26}{2^{14/6} \\sigma^2} - \\frac{7}{2^{8/6}\\sigma^2} \\right) = \\frac{24 \\epsilon}{\\sigma^2} (\\frac{2^{14/6} 13 - 2^{14/6} 7}{2^{22/6}}) = \\frac{24 \\epsilon}{\\sigma^2} \\frac{2^{14/6}}{2^{22/6}} (13 - 7) = \\frac{72 \\epsilon}{2^{1/3} \\sigma^2}$$\n",
    "\n",
    "$$ \\Rightarrow V(R) \\approx -\\epsilon + \\frac{36 \\epsilon}{2^{1/3} \\sigma^2} (R - 2^{1/6}\\sigma)^2 $$\n",
    "\n",
    "Reemplazando en $k = \\omega^2 \\mu$, podemos obtener la frecuencia de oscilación del espectro vibracional para una molecula diatomica:\n",
    "\n",
    "$$ \\omega = \\sqrt{\\frac{72\\epsilon}{2^{1/3} \\sigma^2 \\mu}} \\qquad \\mu = \\frac{m_1 m_2}{m_1 + m_2}$$\n",
    "\n",
    "Podemos entonces obtener la energía de punto cero para moléculas diatomicas como el $\\text{Ar}_2$ y $\\text{He}_2$ como:\n",
    "\n",
    "$$ E_0 = \\frac{1}{2} \\hbar \\omega = \\hbar \\sqrt{\\frac{18 \\epsilon}{2^{1/3} \\sigma^2 \\mu}}$$\n",
    "\n",
    "Reemplazando para el $\\text{Ar}_2$:\n",
    "\n",
    "- $\\sigma = 0.340 \\text{nm}$\n",
    "- $\\epsilon = 10.5 \\text{meV}$\n",
    "- $m_{Ar} \\approx 40 m_H$"
   ]
  },
  {
   "cell_type": "code",
   "execution_count": 10,
   "metadata": {},
   "outputs": [
    {
     "name": "stdout",
     "output_type": "stream",
     "text": [
      "1.6365597426795047 meV\n"
     ]
    }
   ],
   "source": [
    "from math import sqrt\n",
    "sigma = 0.340e-9 # m\n",
    "epsilon = 10.5e-3 # eV\n",
    "mH = 1.6726e-27\n",
    "mAr = 40*mH # kg\n",
    "hbar = 1.054e-34 # J s\n",
    "\n",
    "def eV_to_J(energy):\n",
    "    return energy*1.609e-19\n",
    "\n",
    "def J_to_eV(energy):\n",
    "    return energy/1.609e-19\n",
    "\n",
    "mu = lambda m1,m2: m1*m2/(m1+m2)\n",
    "E = lambda m1, m2, sigma, epsilon: hbar*sqrt(18*epsilon/(2**(1/3)*sigma**2*mu(m1,m2)))\n",
    "\n",
    "print(J_to_eV(E(mAr,mAr,sigma, eV_to_J(epsilon))) * 1000, 'meV')\n"
   ]
  },
  {
   "cell_type": "markdown",
   "metadata": {},
   "source": [
    "Reemplazando para el $\\text{He}_2$:\n",
    "- $\\sigma = 0.256 \\text{nm}$\n",
    "- $\\epsilon = 0.879 \\text{meV}$\n",
    "- $m_{He} \\approx 4 m_H$"
   ]
  },
  {
   "cell_type": "code",
   "execution_count": 14,
   "metadata": {},
   "outputs": [
    {
     "name": "stdout",
     "output_type": "stream",
     "text": [
      "0.6288840839995207 meV\n"
     ]
    }
   ],
   "source": [
    "from math import sqrt\n",
    "sigma = 0.256e-9 # m\n",
    "epsilon = 0.879e-3 # eV\n",
    "mH = 1.6726e-27\n",
    "mHe = 4*mH # kg\n",
    "hbar = 1.054e-34 # J s\n",
    "\n",
    "def eV_to_J(energy):\n",
    "    return energy*1.609e-19\n",
    "\n",
    "def J_to_eV(energy):\n",
    "    return energy/1.609e-19\n",
    "\n",
    "mu = lambda m1,m2: m1*m2/(m1+m2)\n",
    "E = lambda m1, m2, sigma, epsilon: hbar*sqrt(18*epsilon/(2**(1/3)*sigma**2*mu(m1,m2)))\n",
    "\n",
    "print(J_to_eV(E(mAr,mAr,sigma, eV_to_J(epsilon))) * 1000 , 'meV')"
   ]
  },
  {
   "cell_type": "markdown",
   "metadata": {},
   "source": [
    "Las energías de punto cero para el $\\text{Ar}_2$ y $\\text{He}_2$ son de $1.63 \\text {meV}$ y $0.62 \\text{meV}$ respectivamente. La temperatura de la energía térmica equivalente será:\n",
    "\n",
    "$$ k_B T = E_0 \\Rightarrow T = \\frac{E_0}{k_B}$$\n",
    "\n"
   ]
  },
  {
   "cell_type": "code",
   "execution_count": 11,
   "metadata": {},
   "outputs": [
    {
     "name": "stdout",
     "output_type": "stream",
     "text": [
      "0.00018915364538127025 K\n",
      "0.07194801235361199 K\n"
     ]
    }
   ],
   "source": [
    "kB = 8.617333262145 # eV/K\n",
    "T = lambda E0: E0/kB\n",
    "E0 = 1.63e-3 # eV\n",
    "print(T(E0), 'K')\n",
    "E0 = 0.62\n",
    "print(T(E0), 'K')"
   ]
  },
  {
   "cell_type": "markdown",
   "metadata": {},
   "source": [
    "Las temperaturas del punto cero para el $\\text{Ar}_2$ y $\\text{He}_2$ son de casi $0K$, lo que indica que estas moléculas no existen en la naturaleza."
   ]
  },
  {
   "cell_type": "markdown",
   "metadata": {},
   "source": [
    "### Problema 5\n",
    "\n",
    "Para muchas moléculas ligadas covalentemente, la energía potencial se puede describir adecuadamente por medio del potencial de Morse:\n",
    "\n",
    "$$ V(R) = A \\left( e^{-2a(R-R_0)} - 2e^{-a(R-R_0)} \\right) $$\n",
    "\n",
    "Donde $A$, $a$ y $R_0$ son parámetros característicos de cada molécula. La separación internuclear de la molécula $\\text{CO}$ es $0.113 \\text{nm}$, la energía de disociación es de $9.60 \\text{eV}$, la frecuencia vibracional es de $6.51 \\times 10^{13} \\text{Hz}$. A partir de estos datos experimentales, determinar los potenciales de Morse para la interacción entre el carbono y el oxígeno."
   ]
  },
  {
   "cell_type": "markdown",
   "metadata": {},
   "source": [
    "### Solución\n",
    "\n",
    "La energía de disociación de una molécula diatómica es la energía necesaria para separar los átomos a una distancia infinita, es decir:\n",
    "\n",
    "$$ \\Delta E = V(\\infty) - V(R_0) = 0 - V(R_0) = A = 9.60 \\text{eV}$$\n",
    "\n",
    "Hallemos ahora el parámetro $a$. Derivamos el potencial de Morse:\n",
    "\n",
    "$$ V'(R) = A \\left( -2a e^{-2a(R-R_0)} + 2ae^{-a(R-R_0)} \\right) \\qquad V''(R) = A \\left( 4a^2 e^{-2a(R-R_0)} - 2a^2 e^{-a(R-R_0)} \\right) $$\n",
    "\n",
    "Es inmediato que $V'(R_0) = 0$. Desarrollando a segundo orden alrededor de $R_0$, podemos aproximar el potencial de Morse como un oscilador armónico:\n",
    "\n",
    "$$ V(R) \\approx -\\epsilon + \\frac{1}{2} k(R - R_0)^2 \\qquad k = \\omega^2 \\mu $$\n",
    "\n",
    "En donde:\n",
    "\n",
    "$$ -\\epsilon = V(R_0) = -A \\qquad k = V''(R_0) = A \\left( 4a^2 e^{-2a(R_0-R_0)} - 2a^2 e^{-a(R_0-R_0)} \\right) = 2Aa^2 $$\n",
    "\n",
    "Reemplazando en $k = \\omega^2 \\mu$:\n",
    "\n",
    "$$ \\omega^2 \\mu = 2\\epsilon a^2 \\Rightarrow a = \\sqrt{\\frac{\\omega^2 \\mu}{2\\epsilon}} $$\n",
    "\n",
    "En donde habiamos encontrado que $\\epsilon$ es la energía de disociación. Reemplazando:\n",
    "\n",
    "- $\\epsilon = 9.60 \\text{eV}$\n",
    "- $\\nu = \\omega / 2\\pi = 6.51 \\times 10^{13} \\text{Hz}$"
   ]
  },
  {
   "cell_type": "code",
   "execution_count": 22,
   "metadata": {},
   "outputs": [
    {
     "name": "stdout",
     "output_type": "stream",
     "text": [
      "2.4922974057924216 e^10[1/m]\n"
     ]
    }
   ],
   "source": [
    "from math import pi, sqrt\n",
    "\n",
    "epsilon = 9.6 # eV\n",
    "nu = 6.51e13 # Hz\n",
    "mH = 1.6726e-27 # kg\n",
    "mO = 16*mH\n",
    "mC = 12*mH\n",
    "\n",
    "def eV_to_J(energy):\n",
    "    return energy*1.609e-19\n",
    "\n",
    "def J_to_eV(energy):\n",
    "    return energy/1.609e-19\n",
    "\n",
    "omega = lambda nu: 2*pi*nu\n",
    "mu = lambda m1,m2: m1*m2/(m1+m2)\n",
    "a = lambda epsilon, omega, mu: sqrt(omega**2*mu/(2*epsilon)) \n",
    "\n",
    "print(a(eV_to_J(epsilon), omega(nu), mu(mC,mO))*10**-10, 'e^10[1/m]')"
   ]
  }
 ],
 "metadata": {
  "kernelspec": {
   "display_name": "torch",
   "language": "python",
   "name": "python3"
  },
  "language_info": {
   "codemirror_mode": {
    "name": "ipython",
    "version": 3
   },
   "file_extension": ".py",
   "mimetype": "text/x-python",
   "name": "python",
   "nbconvert_exporter": "python",
   "pygments_lexer": "ipython3",
   "version": "3.12.7"
  }
 },
 "nbformat": 4,
 "nbformat_minor": 2
}
