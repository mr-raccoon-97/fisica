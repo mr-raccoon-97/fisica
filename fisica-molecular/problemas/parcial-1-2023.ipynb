{
 "cells": [
  {
   "cell_type": "markdown",
   "metadata": {},
   "source": [
    "### Problema 3\n",
    "\n",
    "- Describa la función de onda y la energía potencial para los dos primeros estados electrónicos de la molécula de hidrógeno $H_2$ en el modelo de Heitler-London.\n",
    "\n",
    "- Explique el origen de la ligadura en la molécula de la molécula de $H_2$."
   ]
  },
  {
   "cell_type": "markdown",
   "metadata": {},
   "source": [
    "### Solución\n",
    "\n"
   ]
  },
  {
   "cell_type": "markdown",
   "metadata": {},
   "source": [
    "En la aproximación de Heitler-London, se supone que siempre hay un electrón en la vecindad de cada núcleo, es decir a cada protón le corresponde un electrón. Las funciones de onda que describen los estados electrónicos de la molécula de hidrógeno deben ser antisimétricas bajo el intercambio de electrones, debido al principio de exclusión de Pauli. Se proponen las siguientes funciones de onda para los dos primeros estados electronicos:\n",
    "\n",
    "$$ \\ket{\\psi_{S}} = c_{S}((\\ket{\\phi_a, \\phi_b} + \\ket{\\phi_b, \\phi_a}) \\otimes \\ket{\\chi_S}) \\qquad \\ket{\\psi_{T}} = c_{T}((\\ket{\\phi_a, \\phi_b} - \\ket{\\phi_b, \\phi_a}) \\otimes \\ket{\\chi_T})$$\n",
    "\n",
    "En donde estado $\\ket{\\phi_i, \\phi_j}$ denota el estado en el que el electron 1 se encuentra en el proton $i$ y el electron 2 en el proton $j$, $\\ket{\\chi_S}$ y $\\ket{\\chi_T}$ son el estado singlete y triplete respectivamente, $c_S$ y $c_T$ son las constantes de normalización, y $\\ket{\\phi_a}$ y $\\ket{\\phi_b}$ son las funciones de onda de los electrones en los atomos de hidrogeno tales que:\n",
    "\n",
    "$$ \\langle \\vec{r} \\ket{\\phi_a} = \\phi_{1s}(\\vec{r} - \\vec{R}/2) \\qquad \\langle \\vec{r} \\ket{\\phi_b} = \\phi_{1s}(\\vec{r} + \\vec{R}/2)  $$\n",
    "\n",
    "La energia potencial de la molecula de hidrogeno se puede escribir bajo la aproximación de Born-Oppenheimer como:\n",
    "\n",
    "$$ V = -\\frac{ke^2}{|\\vec{r}_1 - \\vec{R}/2|} -\\frac{ke^2}{|\\vec{r}_1 + \\vec{R}/2|} -\\frac{ke^2}{|\\vec{r}_2 - \\vec{R}/2|} -\\frac{ke^2}{|\\vec{r}_2 + \\vec{R}/2|} + \\frac{ke^2}{|\\vec{r}_1 - \\vec{r}_2|} + \\frac{ke^2}{\\vec{R}}$$\n",
    "\n",
    "$$ V \\equiv V_a^{(1)} + V_a^{(2)} + V_b^{(1)} + V_b^{(2)} + V_{ab} + V_{R}$$\n",
    "\n",
    "En donde $\\vec{r}_1$ y $\\vec{r}_2$ son las posiciones de los electrones $1$ y $2$ respectivamente.\n"
   ]
  },
  {
   "cell_type": "markdown",
   "metadata": {},
   "source": []
  }
 ],
 "metadata": {
  "language_info": {
   "name": "python"
  }
 },
 "nbformat": 4,
 "nbformat_minor": 2
}
