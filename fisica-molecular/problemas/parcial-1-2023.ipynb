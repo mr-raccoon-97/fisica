{
 "cells": [
  {
   "cell_type": "markdown",
   "metadata": {},
   "source": [
    "### Problema 2\n",
    "\n",
    "Una expresión fenomenológica para la energía potencial de un enlace iónico, en función de la separación $R$ entre núcleos, es la siguiente:\n",
    "\n",
    "$$ V(R) = -\\frac{e^2}{4\\pi\\epsilon_0 R} + \\frac{b}{R^9} $$\n",
    "\n",
    "- Siendo $b$ un parámetro característico de cada molécula. Interpretar fisicamente cada uno de los términos de la ecuación.\n",
    "\n",
    "Las configuraciones electrónicas de estado fundamental de los iones de $\\text{Na}$ y del $\\text{Cl}$ son $[\\text{Ne}]3s$ y $[\\text{Ne}]3s^23p^5$, respectivamente, en donde $[\\text{Ne}]$ representa la configuración electrónica del átomo de neón $1s^22s^22p^6$\n",
    "\n",
    "La separación de equilibrio de la molécula $\\text{NaCl}$ es de $2.51$ Å. Las energías de ionización del $\\text{Na}$ y del $\\text{Cl}$ son $5.14 \\text{eV}$ eV y $13.02\\text{eV}$, respectivamente y las afinidades electrónicas son $0.55\\text{eV}$ y $3.72\\text{eV}$, respectivamente.\n",
    "\n",
    "- Describir el enlace de la molécula $\\text{NaCl}$.\n",
    "- Encontrar la energía necesaria para separar la molécula $\\text{NaCl}$ en átomos neutros de $\\text{Na}$ y $\\text{Cl}$."
   ]
  },
  {
   "cell_type": "markdown",
   "metadata": {},
   "source": [
    "### Solución\n",
    "\n",
    "En el potencial propuesto:\n",
    "\n",
    "$$ V(R) = -\\frac{e^2}{4\\pi\\epsilon_0 R} + \\frac{b}{R^9} $$\n",
    "\n",
    "Se observan un término atractivo de tipo coulombiano, el cual se debe a la interacción entre dos iones de carga opuesta, y un término positivo, el cual puede deberse a la repulsión entre los núcleos de los iones. El primero, decrece lentamente con la separación $R$, mientras que el segundo decrece rápidamente haciendose despreciable a grandes distancias y se vuelve dominante a distancias internucleares pequeñas, permitiendo la formación de enlaces, ya que habrá un valor de equilibrio $R_0$ en el cual la energía potencial sea mínima y la molécula sea estable.\n",
    "\n",
    "Veamos ahora la molécula de $\\text{NaCl}$. El $\\text{Na}$ tiene una configuración electrónica $[\\text{Ne}]3s$, lo que indica que tiene un electrón de valencia en su capa $3s$. La energía de ionización del $\\text{Na}$ es de $5.14\\text{eV}$, lo que significa que se necesitan $5.14\\text{eV}$ para remover el electrón de valencia, haciendo que el $\\text{Na}$ alcance la configuración electrónica del gas noble $\\text{Ne}$. El balance energético de la reacción de ionización es:\n",
    "\n",
    "$$ \\text{Na} \\rightarrow \\text{Na}^+ + e^- \\qquad \\Delta E = 5.14\\text{eV} $$\n",
    "\n",
    "Por otra parte, el $\\text{Cl}$ tiene una configuración electrónica $[\\text{Ne}]3s^23p^5$, lo que indica que tiene 7 electrones de valencia. La afinidad electrónica del $\\text{Cl}$ es de $3.72\\text{eV}$, lo que significa al agregar un electrón de valencia al $\\text{Cl}$, la energía \n",
    "del sistema disminuye solo en $3.72\\text{eV}$, haciendo que el $\\text{Cl}$ alcance la configuración electrónica del gas noble $\\text{Ar}$. El balance energético de la reacción de afinidad electrónica es:\n",
    "\n",
    "$$ \\text{Cl} + e^- \\rightarrow \\text{Cl}^- \\qquad \\Delta E = -3.72\\text{eV} $$\n",
    "\n",
    "Por lo que el ión de $\\text{Na}$ cede un electrón al ión de $\\text{Cl}$, formando la molécula de $\\text{NaCl}$, La energía del enlace de la molecula de $\\text{NaCl}$ sera de $\\Delta E = 5.14\\text{eV} - 3.72\\text{eV} = 1.42\\text{eV} $. \n",
    "\n",
    "Queremos ahora encontrar la energía necesaria para separar la molécula $\\text{NaCl}$ en átomos neutros de $\\text{Na}$ y $\\text{Cl}$. Esto es la energía necesaria para romper el enlace:\n",
    "\n",
    "$$ \\text{NaCl} \\rightarrow \\text{Na}^+ + \\text{Cl}^- \\qquad \\Delta E = 1.42\\text{eV} $$\n",
    "\n",
    "Debemos hallar la energía necesaria para separar los iones a una distancia infinita. Hallemos el valor de $b$ en terminos de la distancia de equilibrio $R_0$. Derivamos el potencial en función de la separación internuclear $R$:\n",
    "\n",
    "$$ V'(R) = \\frac{e^2}{4\\pi\\epsilon_0 R^2} - \\frac{9b}{R^{10}} $$\n",
    "\n",
    "Si $R_0$ es la posición de equilibrio, entonces:\n",
    "\n",
    "$$V'(R_0) = 0 \\Rightarrow  \\frac{e^2}{4\\pi\\epsilon_0 R_0^2} = \\frac{9b}{R_0^{10}} \\Rightarrow b = \\frac{e^2}{4\\pi\\epsilon_0} \\frac{R_0^8}{9}$$\n",
    "\n",
    "Reemplazando $b$ en la ecuación del potencial, podemos escribir el potencial como:\n",
    "\n",
    "$$ V(R) = - \\frac{e^2}{4\\pi\\epsilon_0 R}(1 - \\frac{1}{9} \\frac{R_0^8}{R^8}) $$ \n",
    "\n",
    "La energía necesaria para separar los iones a una distancia infinita sera:\n",
    "\n",
    "$$ \\Delta E = V(\\infty) - V(R_0) = \\frac{e^2}{4\\pi\\epsilon_0 R_0} \\frac{8}{9}$$\n",
    "\n",
    "Reemplazando:\n",
    "- $ e = -1.602176634 \\times 10^{-19} \\text{C}$\n",
    "- $ R_0 = 2.51 \\text{Å} = 2.51 × 10^{-10} \\text{m}$\n",
    "- $ k = \\frac{1}{4\\pi\\epsilon_0} = 8.9875517873681764 \\times 10^9 \\, \\text{N m}^2/\\text{C}^2 $\n"
   ]
  },
  {
   "cell_type": "code",
   "execution_count": null,
   "metadata": {},
   "outputs": [
    {
     "name": "stdout",
     "output_type": "stream",
     "text": [
      "8.170261358426625e-19 [J]\n",
      "5.09947604093359 [eV]\n"
     ]
    }
   ],
   "source": [
    "e = -1.602176634e-19 #C\n",
    "R_0 = 2.51e-10 # m\n",
    "k = 8.9875517873681764e9 #N m^2/C^2\n",
    "\n",
    "E = lambda R0: k*e**2/R0*8/9\n",
    "\n",
    "def J_to_eV(energy):\n",
    "    return energy/1.602176634e-19\n",
    "\n",
    "result = E(R_0)\n",
    "print(result, \"[J]\")\n",
    "print(J_to_eV(result), \"[eV]\")"
   ]
  },
  {
   "cell_type": "markdown",
   "metadata": {},
   "source": [
    "La energía necesaria para separar los iones a una distancia infinita será de $\\Delta E = 5.1 \\text{eV}$. Finalmente, los balances de energía para compensar la ionización y la afinidad electrónica de los iones de $\\text{Na}^+$ y $\\text{Cl}^-$, respectivamente, serán:\n",
    "\n",
    "$$ \\text{Na}^+ + e^- \\rightarrow \\text{Na} \\qquad \\Delta E = -5.14\\text{eV} $$\n",
    "$$ \\text{Cl}^- \\rightarrow \\text{Cl} + e^- \\qquad \\Delta E = 3.72\\text{eV} $$\n",
    "\n",
    "Por lo que la energía necesaria para separar la molécula $\\text{NaCl}$ en átomos neutros de $\\text{Na}$ y $\\text{Cl}$ será de $\\Delta E = 5.1\\text{eV} - 5.14\\text{eV} + 3.72\\text{eV} = 3.68\\text{eV}$"
   ]
  },
  {
   "cell_type": "markdown",
   "metadata": {},
   "source": [
    "### Problema 3\n",
    "\n",
    "- Describa la función de onda y la energía potencial para los dos primeros estados electrónicos de la molécula de hidrógeno $H_2$ en el modelo de Heitler-London.\n",
    "\n",
    "- Explique el origen de la ligadura en la molécula de la molécula de $H_2$."
   ]
  },
  {
   "cell_type": "markdown",
   "metadata": {},
   "source": [
    "### Solución\n",
    "\n"
   ]
  },
  {
   "cell_type": "markdown",
   "metadata": {},
   "source": [
    "En la aproximación de Heitler-London, se supone que siempre hay un electrón en la vecindad de cada núcleo, es decir a cada protón le corresponde un electrón. Las funciones de onda que describen los estados electrónicos de la molécula de hidrógeno deben ser antisimétricas bajo el intercambio de electrones, debido al principio de exclusión de Pauli. Se proponen las siguientes funciones de onda para los dos primeros estados electronicos:\n",
    "\n",
    "$$ \\ket{\\psi_{S}} = c_{S}((\\ket{\\phi_a, \\phi_b} + \\ket{\\phi_b, \\phi_a}) \\otimes \\ket{\\chi_S}) \\qquad \\ket{\\psi_{T}} = c_{T}((\\ket{\\phi_a, \\phi_b} - \\ket{\\phi_b, \\phi_a}) \\otimes \\ket{\\chi_T})$$\n",
    "\n",
    "En donde estado $\\ket{\\phi_i, \\phi_j}$ denota el estado en el que el electron 1 se encuentra en el proton $i$ y el electron 2 en el proton $j$, $\\ket{\\chi_S}$ y $\\ket{\\chi_T}$ son el estado singlete y triplete respectivamente, $c_S$ y $c_T$ son las constantes de normalización, y $\\ket{\\phi_a}$ y $\\ket{\\phi_b}$ son las funciones de onda de los electrones en los atomos de hidrogeno tales que:\n",
    "\n",
    "$$ \\langle \\vec{r} \\ket{\\phi_a} = \\phi_{1s}(\\vec{r} - \\vec{R}/2) \\qquad \\langle \\vec{r} \\ket{\\phi_b} = \\phi_{1s}(\\vec{r} + \\vec{R}/2)  $$\n",
    "\n",
    "La energia potencial de la molecula de hidrogeno se puede escribir bajo la aproximación de Born-Oppenheimer como:\n",
    "\n",
    "$$ V = -\\frac{ke^2}{|\\vec{r}_1 - \\vec{R}/2|} -\\frac{ke^2}{|\\vec{r}_1 + \\vec{R}/2|} -\\frac{ke^2}{|\\vec{r}_2 - \\vec{R}/2|} -\\frac{ke^2}{|\\vec{r}_2 + \\vec{R}/2|} + \\frac{ke^2}{|\\vec{r}_1 - \\vec{r}_2|} + \\frac{ke^2}{\\vec{R}}$$\n",
    "\n",
    "$$ V \\equiv V_a^{(1)} + V_a^{(2)} + V_b^{(1)} + V_b^{(2)} + V_{ab} + V_{R}$$\n",
    "\n",
    "En donde $\\vec{r}_1$ y $\\vec{r}_2$ son las posiciones de los electrones $1$ y $2$ respectivamente.\n"
   ]
  }
 ],
 "metadata": {
  "kernelspec": {
   "display_name": "torch",
   "language": "python",
   "name": "python3"
  },
  "language_info": {
   "codemirror_mode": {
    "name": "ipython",
    "version": 3
   },
   "file_extension": ".py",
   "mimetype": "text/x-python",
   "name": "python",
   "nbconvert_exporter": "python",
   "pygments_lexer": "ipython3",
   "version": "3.12.7"
  }
 },
 "nbformat": 4,
 "nbformat_minor": 2
}
