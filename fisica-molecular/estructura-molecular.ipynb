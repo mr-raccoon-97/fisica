{
 "cells": [
  {
   "cell_type": "markdown",
   "metadata": {},
   "source": [
    "### Aproximacion de Born Oppenheimer\n",
    "\n",
    "La aproximación de Born-Oppenheimer es una hipótesis de carácter fundamental en la que se basan la mayor parte de los cálculos de la física molecular. Esta hipótesis se basa en que los núcleos de los átomos son mucho más pesados y se mueven más lentamente que los electrones. Por lo tanto, los núcleos se pueden considerar fijos en una posición y los electrones se pueden considerar moviéndose en un potencial fijo."
   ]
  }
 ],
 "metadata": {
  "language_info": {
   "name": "python"
  }
 },
 "nbformat": 4,
 "nbformat_minor": 2
}
