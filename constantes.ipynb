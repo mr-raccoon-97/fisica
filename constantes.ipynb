{
 "cells": [
  {
   "cell_type": "markdown",
   "metadata": {},
   "source": [
    "### Carga del electrón\n",
    "\n",
    "La carga del electrón tiene un valor de $-1.602176634 \\times 10^{-19} \\text{C}$."
   ]
  },
  {
   "cell_type": "markdown",
   "metadata": {},
   "source": [
    "### Constante de Coulomb\n",
    "\n",
    "La constante de Coulomb $k$ es una constante de proporcionalidad en las ecuaciones que relacionan variables eléctricas. Esta depende del medio en el que se encuentran las cargas eléctricas y depende de la permitividad eléctrica del medio. En el vacío, la constante de Coulomb es:\n",
    "\n",
    "$$ k = \\frac{1}{4\\pi\\epsilon_0} = 8.9875517873681764 \\times 10^9 \\, \\text{N m}^2/\\text{C}^2 $$"
   ]
  },
  {
   "cell_type": "markdown",
   "metadata": {},
   "source": [
    "\n",
    "\n"
   ]
  }
 ],
 "metadata": {
  "language_info": {
   "name": "python"
  }
 },
 "nbformat": 4,
 "nbformat_minor": 2
}
