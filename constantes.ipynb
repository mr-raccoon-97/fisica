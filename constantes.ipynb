{
 "cells": [
  {
   "cell_type": "markdown",
   "metadata": {},
   "source": [
    "### Velocidad de la luz\n",
    "\n",
    "La velocidad de la luz en el vacío es una constante universal que utilizando las unidades internacionales tiene el valor de $299 792 458 \\text{m}$ por segundos. Tambien aproximadamente es igual a $3 \\times 10^8 \\text{m/s}$."
   ]
  },
  {
   "cell_type": "markdown",
   "metadata": {},
   "source": [
    "### Constante de Planck\n",
    "\n",
    "La constante de Planck $h$ se define como el cuanto elemental de acción. En mecánica cuántica, a cantidad denominada acción de un proceso físico (el producto de la energía implicada y el tiempo empleado) solo puede tomar valores discretos, es decir, múltiplos enteros de $h$\n",
    "\n",
    "Esta tiene un valor definido como:\n",
    "\n",
    "$$ h = 6.626 070 15 \\times 10^{-34} \\text{J} \\cdot \\text{s}$$\n",
    "\n",
    "Es util tambien definir la constante de plack reducida como:\n",
    "\n",
    "$$ \\hbar = \\frac{h}{2\\pi} = 1.054 571 817 \\times 10^{-34} \\text{J} \\cdot \\text{s} $$"
   ]
  },
  {
   "cell_type": "markdown",
   "metadata": {},
   "source": [
    "### Carga del electrón\n",
    "\n",
    "La carga del electrón tiene un valor de $-1.602176634 \\times 10^{-19} \\text{C}$."
   ]
  },
  {
   "cell_type": "markdown",
   "metadata": {},
   "source": [
    "### Masa del electrón\n",
    "\n",
    "La masa del electron tiene un valor de $9,109 383 701 5 \\times 10^{−31} \\text{kg}$"
   ]
  },
  {
   "cell_type": "markdown",
   "metadata": {},
   "source": [
    "### Masa del protón\n",
    "\n",
    "La masa del protón tiene un valor de $1,6726 \\times 10^{−27} \\text{kg}$\n"
   ]
  },
  {
   "cell_type": "code",
   "execution_count": 1,
   "metadata": {},
   "outputs": [
    {
     "data": {
      "text/plain": [
       "1837.6923076923076"
      ]
     },
     "execution_count": 1,
     "metadata": {},
     "output_type": "execute_result"
    }
   ],
   "source": [
    "1.6723e-27/9.1e-31"
   ]
  },
  {
   "cell_type": "markdown",
   "metadata": {},
   "source": [
    "### Constante de Coulomb\n",
    "\n",
    "La constante de Coulomb $k$ es una constante de proporcionalidad en las ecuaciones que relacionan variables eléctricas. Esta depende del medio en el que se encuentran las cargas eléctricas y depende de la permitividad eléctrica del medio. En el vacío, la constante de Coulomb es:\n",
    "\n",
    "$$ k = \\frac{1}{4\\pi\\epsilon_0} = 8.9875517873681764 \\times 10^9 \\, \\text{N m}^2/\\text{C}^2 $$"
   ]
  },
  {
   "cell_type": "markdown",
   "metadata": {},
   "source": [
    "### Constante de boltzmann\n",
    "\n",
    "La constante de Boltzmann es una constante física que relaciona la energía cinética promedio de las partículas en un gas con la temperatura del gas. Su valor es:\n",
    "\n",
    "$$ k_B = 1.380649 \\times 10^{-23} \\, \\text{J/K} $$\n",
    "\n",
    "$$ k_B = 8.617333262145 \\times 10^{-5} \\, \\text{eV/K} $$\n",
    "\n",
    "Se puede utilizar la constante de Boltzmann para convertir la temperatura de un gas en energía cinética promedio de las partículas en el gas, utilizando la fórmula:\n",
    "\n",
    "$$ E = k_BT $$\n",
    "\n"
   ]
  },
  {
   "cell_type": "markdown",
   "metadata": {},
   "source": []
  }
 ],
 "metadata": {
  "kernelspec": {
   "display_name": "torch",
   "language": "python",
   "name": "python3"
  },
  "language_info": {
   "codemirror_mode": {
    "name": "ipython",
    "version": 3
   },
   "file_extension": ".py",
   "mimetype": "text/x-python",
   "name": "python",
   "nbconvert_exporter": "python",
   "pygments_lexer": "ipython3",
   "version": "3.12.7"
  }
 },
 "nbformat": 4,
 "nbformat_minor": 2
}
