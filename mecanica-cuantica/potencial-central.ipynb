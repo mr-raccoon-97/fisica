{
 "cells": [
  {
   "cell_type": "markdown",
   "metadata": {},
   "source": [
    "### Potencial central\n",
    "\n",
    "Al escribir el término de la energía cinética, en el operador laplaciano en coordenadas esféricas $\\hat{L}^2$ aparece naturalmente explicitado\n",
    "\n",
    "$$ -\\hbar \\nabla^2 = -\\frac{\\hbar}{r^2} \\frac{\\partial}{\\partial r}(r^2 \\frac{\\partial}{\\partial r}) + \\frac{\\hat{L}^2}{r^2} $$\n",
    "\n",
    "En donde:\n",
    "\n",
    "$$ \\hat{L}^2 = -\\hbar^2 \\left( \\frac{1}{\\sin(\\theta)} \\frac{\\partial}{\\partial \\theta} \\left( \\sin(\\theta) \\frac{\\partial}{\\partial \\theta} \\right) + \\frac{1}{\\sin^2(\\theta)} \\frac{\\partial^2}{\\partial \\phi^2} \\right) $$\n",
    "\n",
    "Con autovalores $l(l+1)\\hbar^2$ y autoestados $Y_l^m(\\theta, \\phi)$."
   ]
  },
  {
   "cell_type": "markdown",
   "metadata": {},
   "source": [
    "Se propone soluciones separables de la forma $\\psi(r, \\theta, \\phi) = R(r) Y_l^m(\\theta, \\phi)$, con $R(r)$ la parte radial de la función de onda."
   ]
  }
 ],
 "metadata": {
  "language_info": {
   "name": "python"
  }
 },
 "nbformat": 4,
 "nbformat_minor": 2
}
