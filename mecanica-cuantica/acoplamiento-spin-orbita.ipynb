{
 "cells": [
  {
   "cell_type": "markdown",
   "metadata": {},
   "source": [
    "### Acoplamiento espín orbita\n",
    "\n",
    "Consideremos el caso en que se suman el momento angular orbitar $\\vec{L}$ y un momento angular intrínseco $\\vec{S}$.\n",
    "\n",
    "$$ \\vec{J} = \\vec{L} + \\vec{S} $$\n",
    "\n",
    "En donde:\n",
    "\n",
    "- $\\ket{l, m_l}$ es la función de onda asociada al momento angular orbitar.\n",
    "- $\\ket{\\frac{1}{2}, m_s}$ es la función de onda asociada al momento angular intrínseco.\n",
    "- $\\ket{j, m}$ es la función de onda asociada al momento angular total.\n",
    "\n",
    "Notemos que los valores permitidos para los numeros cuanticos del momento angular $\\vec{J}$ son:\n",
    "\n",
    "$$ j = l - \\frac{1}{2} , l + \\frac{1}{2} \\qquad m = m_l + m_s $$\n",
    "\n",
    "$$ m =\n",
    "\\begin{cases} \n",
    "-l - \\frac{1}{2}, -l + \\frac{1}{2}, \\ldots, l - \\frac{1}{2}, l + \\frac{1}{2} & \\text{si } j = l + \\frac{1}{2} \\\\\n",
    "-l + \\frac{1}{2}, -l + \\frac{3}{2}, \\ldots, l - \\frac{3}{2}, l - \\frac{1}{2} & \\text{si } j = l - \\frac{1}{2}\n",
    "\\end{cases}\n",
    "$$"
   ]
  },
  {
   "cell_type": "markdown",
   "metadata": {},
   "source": [
    "Usamos las siguientes de los operadores escaleras para trabajar con relaciones de recurrencia:\n",
    "\n",
    "$$ \\bra{l, \\frac{1}{2}, m_l, m_s} \\hat{J}_{\\pm} \\ket{j, m} = \\bra{l, \\frac{1}{2}, m_l, m_s}  \\hat{L}_{\\pm} + \\hat{S}_{\\pm}  \\ket{j, m}$$\n",
    "\n",
    "En donde: \n",
    "\n",
    "$$ \\hat{J}_{\\pm}\\ket{j, m} = \\hbar \\sqrt{(j \\mp m)(j \\pm m + 1)} \\ket{j, m \\pm 1}$$"
   ]
  },
  {
   "cell_type": "markdown",
   "metadata": {},
   "source": [
    "- **Caso** $j = l + \\frac{1}{2} $ \n",
    "\n",
    "Utilizamos el operador escalera $\\hat{J}_{\\pm}$ en la relación de recurrencia:\n",
    "\n",
    "\n",
    "$$ \\bra{l, \\frac{1}{2}, m_l, m_s} \\hat{J}_{\\pm} \\ket{l + \\frac{1}{2}, m + 1} = \\bra{l, \\frac{1}{2}, m_l, m_s}  \\hat{L}_{\\pm} + \\hat{S}_{\\pm}  \\ket{l + \\frac{1}{2}, m + 1}$$\n",
    "\n",
    "Tomando $m_s = \\frac{1}{2}$ y los operadores con signo $-$, agrupando los términos en el lado izquierdo de la ecuación con las autofunciones en la base suma y los miebros derechos con las autofunciones de la base producto:\n",
    "\n",
    "$$ \\bra{l, \\frac{1}{2}, m_l, \\frac{1}{2}} (\\hat{J}_{-} \\ket{l + \\frac{1}{2}, m + 1}) = (\\bra{l, \\frac{1}{2}, m_l, \\frac{1}{2}}  \\hat{L}^{\\dagger}_{+} + \\hat{S}^{\\dagger}_{+})  \\ket{l + \\frac{1}{2}, m + 1}$$\n"
   ]
  },
  {
   "cell_type": "markdown",
   "metadata": {},
   "source": [
    "Se tendrá en el miembro izquierdo y derecho respectivamente:\n",
    "\n",
    "$$\\hat{J}_{-}\\ket{l + \\frac{1}{2}, m + 1} = \\hbar \\sqrt{(l + \\frac{1}{2} + m + 1)(l + \\frac{1}{2} - m)}  \\ket{l + \\frac{1}{2}, m}$$\n",
    "\n",
    "$$ \\hat{L}_+ \\ket{l, \\frac{1}{2}, m_l, \\frac{1}{2}} = \\hbar \\sqrt{(l - m_l)(l + m_l + 1)}  \\ket{l, \\frac{1}{2}, m_l + 1, \\frac{1}{2}}$$\n",
    "\n",
    "\n",
    "$$ \\hat{S}_+ \\ket{l, \\frac{1}{2}, m_l, \\frac{1}{2}} = 0 $$"
   ]
  },
  {
   "cell_type": "markdown",
   "metadata": {},
   "source": [
    "Reemplazando en la relación de recurrencia, usando que $m_l = m - \\frac{1}{2}$:"
   ]
  },
  {
   "cell_type": "markdown",
   "metadata": {},
   "source": [
    "\n",
    "$$ \\hbar \\sqrt{(l + \\frac{1}{2} + m + 1)(l + \\frac{1}{2} - m)}  \\langle{l, \\frac{1}{2}, m - \\frac{1}{2}, \\frac{1}{2}}\\ket{l + \\frac{1}{2}, m} =  \\hbar \\sqrt{(l - m + \\frac{1}{2})(l + m - \\frac{1}{2} + 1)} \\langle{l, \\frac{1}{2}, m + \\frac{1}{2}, \\frac{1}{2}} \\ket{l + \\frac{1}{2}, m + 1}$$\n",
    "\n",
    "$$\\Rightarrow \\langle{l, \\frac{1}{2}, m - \\frac{1}{2}, \\frac{1}{2}}\\ket{l + \\frac{1}{2}, m} = \\sqrt{\\frac{l + m + \\frac{1}{2}}{l + m + \\frac{1}{2} + 1}} \\langle{l, \\frac{1}{2}, m + \\frac{1}{2}, \\frac{1}{2}} \\ket{l + \\frac{1}{2}, m + 1} $$\n",
    "\n",
    "$$=  \\sqrt{\\frac{l + m + \\frac{1}{2}}{l + m + \\frac{1}{2} + 1}}  \\sqrt{\\frac{l + m + \\frac{1}{2} + 1}{l + m + \\frac{1}{2} + 2}} \\langle{l, \\frac{1}{2}, m + \\frac{3}{2}, \\frac{1}{2}} \\ket{l + \\frac{1}{2}, m + 2} = ... =   \\sqrt{\\frac{l + m + \\frac{1}{2}}{l + m + \\frac{1}{2} + \\Delta m}} \\langle{l, \\frac{1}{2}, m + \\Delta m - \\frac{1}{2}, \\frac{1}{2}} \\ket{l + \\frac{1}{2}, m + \\Delta m}$$"
   ]
  },
  {
   "cell_type": "markdown",
   "metadata": {},
   "source": [
    "El mayor valor permitido para $m_l = m - \\frac{1}{2}$ es $l$, de modo que $m_{máx} = l + \\frac{1}{2}$, incrementando la variación de $m$ hasta el máximo, $m + \\Delta m = m_{máx} = l + \\frac{1}{2}$, obtenemos:\n",
    "\n",
    "$$ \\langle{l, \\frac{1}{2}, m - \\frac{1}{2}, \\frac{1}{2}}\\ket{l + \\frac{1}{2}, m } = \\sqrt{\\frac{l + m + \\frac{1}{2}}{2l + 1}} \\langle{l, \\frac{1}{2}, l, \\frac{1}{2}} \\ket{l + \\frac{1}{2}, l + \\frac{1}{2}} = \\sqrt{\\frac{l + m + \\frac{1}{2}}{2l + 1}}  $$\n",
    "\n",
    "En donde se uso que el coeficiente de Clebsch-Gordan $\\langle{l, \\frac{1}{2}, l, \\frac{1}{2}} \\ket{l + \\frac{1}{2}, l + \\frac{1}{2}} = 1$."
   ]
  },
  {
   "cell_type": "markdown",
   "metadata": {},
   "source": [
    "Si se toma $m_s = - \\frac{1}{2}$ y los operadores con $+$:\n",
    "\n",
    "\n",
    "$$ \\bra{l, \\frac{1}{2}, m_l, -\\frac{1}{2}} (\\hat{J}_{+} \\ket{l + \\frac{1}{2}, m - 1}) = (\\bra{l, \\frac{1}{2}, m_l, -\\frac{1}{2}}  \\hat{L}^{\\dagger}_{-} + \\hat{S}^{\\dagger}_{-})  \\ket{l + \\frac{1}{2}, m - 1}$$\n",
    "\n",
    "\n"
   ]
  },
  {
   "cell_type": "markdown",
   "metadata": {},
   "source": [
    "Reemplazando:\n",
    "\n",
    "$$ \\hat{J}_{+}\\ket{l + \\frac{1}{2}, m -1} = \\hbar \\sqrt{(l + \\frac{1}{2} - m + 1)(l + \\frac{1}{2} + m)} \\ket{l + \\frac{1}{2}, m}$$\n",
    "\n",
    "\n",
    "$$ \\hat{L}_{-} \\ket{l, \\frac{1}{2}, m_l, \\frac{1}{2}}  = \\hbar \\sqrt{(l + m_l)(l - m_l + 1)} \\ket{l, \\frac{1}{2}, m_l - 1, \\frac{1}{2}} $$\n",
    "\n",
    "$$ \\hat{S}_- \\ket{l, \\frac{1}{2}, m_l, -\\frac{1}{2}} = 0 $$"
   ]
  },
  {
   "cell_type": "markdown",
   "metadata": {},
   "source": [
    "Se tendra, usando que $m_l = m + \\frac{1}{2}$:\n",
    "\n",
    "$$ \\hbar \\sqrt{(l + \\frac{1}{2} - m + 1)(l + \\frac{1}{2} + m)} \\langle{l, \\frac{1}{2}, m_l, -\\frac{1}{2}} \\ket{l + \\frac{1}{2}, m} = \\hbar \\sqrt{(l + m + \\frac{1}{2})(l - m - \\frac{1}{2} + 1)}  \\langle{l, \\frac{1}{2}, m_l, -\\frac{1}{2}}  \\ket{l + \\frac{1}{2}, m - 1}$$\n",
    "\n",
    "$$ \\Rightarrow  \\langle{l, \\frac{1}{2}, m + \\frac{1}{2}, -\\frac{1}{2}} \\ket{l + \\frac{1}{2}, m} = \\sqrt{\\frac{l - m + \\frac{1}{2}}{l - m + \\frac{1}{2} + 1}} \\langle{l, \\frac{1}{2}, m - \\frac{1}{2}, -\\frac{1}{2}}\\ket{l + \\frac{1}{2}, m - 1} $$\n",
    "\n",
    "\n",
    "$$ = \\sqrt{\\frac{l - m + \\frac{1}{2}}{l - m + \\frac{1}{2} + 1}} \\sqrt{\\frac{l - m + \\frac{1}{2} + 1}{l - m + \\frac{1}{2} + 2}}   \\langle{l, \\frac{1}{2}, m - \\frac{1}{2}, -\\frac{1}{2}}\\ket{l + \\frac{1}{2}, m - 2} = ... =  \\sqrt{\\frac{l - m + \\frac{1}{2}}{l - m + \\frac{1}{2} + \\Delta m}} \\langle{l, \\frac{1}{2}, m - \\Delta m + \\frac{1}{2}, -\\frac{1}{2}}\\ket{l + \\frac{1}{2}, m - \\Delta m} $$"
   ]
  },
  {
   "cell_type": "markdown",
   "metadata": {},
   "source": [
    "Incrementando la variación de $m$ hasta el máximo, $m - \\Delta m = m_{mín} = -l - \\frac{1}{2}$, obtenemos:\n",
    "\n",
    "$$  \\langle{l, \\frac{1}{2}, m + \\frac{1}{2}, -\\frac{1}{2}} \\ket{l + \\frac{1}{2}, m} =  \\sqrt{\\frac{l - m + \\frac{1}{2}}{2l+1}}  \\langle{l, \\frac{1}{2}, -l , -\\frac{1}{2}}\\ket{l + \\frac{1}{2}, -l - \\frac{1}{2} } = 1$$\n",
    "\n",
    "En donde se uso que el coeficiente de Clebsch-Gordan $\\langle{l, \\frac{1}{2}, -l , -\\frac{1}{2}}\\ket{l + \\frac{1}{2}, -l - \\frac{1}{2} } = 1$."
   ]
  },
  {
   "cell_type": "markdown",
   "metadata": {},
   "source": [
    "Finalmente se pueden escribir las autofunciones de los operadores $\\hat{J}^2$ y $\\hat{J}_z$ para el caso $ j = l + \\frac{1}{2}$\n",
    "\n",
    "$$ \\ket{j, m}  = \\frac{1}{\\sqrt{2l + 1}} \\begin{cases} \\sqrt{l + m_l + 1} \\ket{l, \\frac{1}{2}, m_l , \\frac{1}{2}} \\qquad \\text{si}  \\quad  m_s = \\frac{1}{2},  \\quad m = m_l + \\frac{1}{2} \\\\\n",
    "\n",
    "\\sqrt{l - m_l + 1}  \\ket{l, \\frac{1}{2}, m_l, -\\frac{1}{2}} \\qquad \\text{si}  \\quad  m_s = -\\frac{1}{2},   \\quad m = m_l - \\frac{1}{2}\n",
    "\\end{cases}$$"
   ]
  },
  {
   "cell_type": "markdown",
   "metadata": {},
   "source": [
    "De la misma forma se pueden obtener las autofunciones para el caso $j = l - \\frac{1}{2}$. finalmente los estados de acoplamiento espín-orbita se pueden escribir utilizando los armónicos esféricos, los cuales son los autoestados de los operadores momento angular. Por lo que:\n",
    "\n",
    "$$ \\ket{l\\pm\\frac{1}{2}, m} = \\frac{1}{\\sqrt{2l + 1}}\n",
    "    \\begin{pmatrix}\n",
    "    \\pm (\\sqrt{l \\pm m + 1}) Y_l^{m - 1/2}(\\theta, \\phi) \\quad \\text{si} \\quad m_s = \\frac{1}{2} \\\\\n",
    "    (\\sqrt{l \\mp m + 1}) Y_l^{m + 1/2}(\\theta, \\phi) \\quad \\text{si} \\quad m_s = - \\frac{1}{2}\\\\\n",
    "    \\end{pmatrix}\n",
    "$$"
   ]
  },
  {
   "cell_type": "markdown",
   "metadata": {},
   "source": [
    "Por construcción estas funciones espín-angulares también son autofunciones de $\\hat{L}^2$ y $\\hat{S}^2$ con autovalores $l(l + 1)\\hbar^2$ y $\\frac{3}{4}\\hbar^2$ respectivamente. Luego como:\n",
    "\n",
    "$$ \\vec{L} \\cdot \\vec{S} = \\frac{1}{2}(\\hat{J}^2 - \\hat{L}^2 - \\hat{S}^2)$$\n",
    "\n",
    "Se tiene que las autofunciones halladas son autofunciones del acoplamiento espín-órbita $\\vec{L} \\cdot \\vec{S}$ y se puede demostrar que sus autoenergias, dadas las autofunciones $\\ket{n, l, m, m_s}$, son:\n",
    "\n",
    "$$ \\bra{n, l, j, m} \\vec{L}\\cdot\\vec{S} \\ket{n, l, j, m} = \\begin{cases} \\quad \\frac{l\\hbar^2}{2} \\quad \\text{si} \\quad j = l + \\frac{1}{2} \\\\ -\\frac{(l + 1)}{2}\\hbar^2 \\quad \\text{si} \\quad  j = l - \\frac{1}{2} \\end{cases}$$"
   ]
  }
 ],
 "metadata": {
  "language_info": {
   "name": "python"
  }
 },
 "nbformat": 4,
 "nbformat_minor": 2
}
