{
 "cells": [
  {
   "cell_type": "markdown",
   "metadata": {},
   "source": [
    "### Principio variacional\n",
    "\n",
    "El principio variacional puede formularse como sigue: La línea mundo para una partícula entre dos puntos con separación del tipo temporal corresponde a un extremo del tiempo propio entre ellos.\n",
    "\n",
    "Sea $\\sigma$ una parametrización de la línea mundo de una partícula, definida desde $0$ hasta $1$. El tiempo propio sera:\n",
    "\n",
    "$$ \\sigma = \\int_0^1 d\\sigma \\left(\\left( \\frac{dt}{d\\sigma} \\right)^2 - \\frac{1}{c^2} \\left( \\left(\\frac{dx}{d\\sigma} \\right)^2 + \\left(\\frac{dy}{d\\sigma} \\right)^2 + \\left(\\frac{dz}{d\\sigma} \\right)^2 \\right) \\right)\n",
    "\n"
   ]
  },
  {
   "cell_type": "markdown",
   "metadata": {},
   "source": [
    "Este principio variacional corresponde a un lagrangiano:\n",
    "\n",
    "$$\\mathcal{L} = \\left( \\left( \\frac{dt}{d\\sigma} \\right)^2 - \\frac{1}{c^2} \\left( \\left(\\frac{dx}{d\\sigma} \\right)^2 + \\left(\\frac{dy}{d\\sigma} \\right)^2 + \\left(\\frac{dz}{d\\sigma} \\right)^2 \\right) \\right)^{1/2}$$\n",
    "\n",
    "Esto es para la metrica de Minkowski. En general dada una metrica $\\eta_{\\mu\\nu}$ el lagrangiano sera:\n",
    "\n",
    "$$\\mathcal{L} = \\frac{1}{c}\\sqrt{- \\eta_{\\mu\\nu} \\frac{dx^\\mu}{d\\sigma} \\frac{dx^\\nu}{d\\sigma} }$$"
   ]
  },
  {
   "cell_type": "markdown",
   "metadata": {},
   "source": [
    "Por la condición de extremo, pueden aplicarse las ecuaciones de Euler-Lagrange:\n",
    "\n",
    "$$\\frac{d}{d\\sigma} \\left( \\frac{\\partial \\mathcal{L}}{\\partial \\left( \\frac{dx^\\mu}{d\\sigma} \\right)} \\right) - \\frac{\\partial \\mathcal{L}}{\\partial x^\\mu} = 0$$"
   ]
  },
  {
   "cell_type": "markdown",
   "metadata": {},
   "source": [
    "Para la coordenada $x^1 \\equiv x$.\n",
    "\n",
    "$$ \\frac{d}{d\\sigma} \\left[ \\frac{1}{\\mathcal{L}} \\frac{dx^1}{d\\sigma} \\right] = 0$$\n",
    "\n",
    "Como $\\mathcal{L} = d\\tau / d\\sigma$:\n",
    "\n",
    "$$ \\frac{du^1}{d\\tau} = 0 $$\n",
    "\n",
    "Lo mismo para $x^2 \\equiv y$ y $x^3 \\equiv z$."
   ]
  },
  {
   "cell_type": "markdown",
   "metadata": {},
   "source": [
    "# Espacio termino curvo.\n",
    "\n",
    "Consideremos ahora el caso de un elemento de linea, que introduce una pequeña corrección a la metrica de Minkowski:\n",
    "\n",
    "$$ds^2 = - \\left(1 + 2\\frac{2\\Phi(\\vec{x})}{c^2}\\right)(cdt)^2 + \\left(1 - 2\\frac{2\\Phi(\\vec{x})}{c^2}\\right)(dx^2 + dy^2 + dz^2)$$\n",
    "\n",
    "En donde $\\Phi(\\vec{x})$ es el potencial gravitacional, que satisface la ecuación de Poisson:\n",
    "\n",
    "$$ \\nabla^2 \\Phi = 4\\pi G \\mu(\\vec{x})$$\n",
    "\n",
    "Para la gravedad se tiene que:\n",
    "\n",
    "$$ m \\vec{a} = - m \\nabla \\Phi$$"
   ]
  },
  {
   "cell_type": "markdown",
   "metadata": {},
   "source": [
    "En términos generales el elemento de línea viene dado por:\n",
    "\n",
    "$$ ds^2 = g_{\\mu\\nu} dx^\\mu dx^\\nu$$\n",
    "\n",
    "El tiempo probio viene dado por:\n",
    "\n",
    "$$ \\tau_{AB} = \\frac{1}{c} \\int_0^1 d\\sigma \\sqrt{ -g_{\\mu\\nu} \\frac{dx^\\mu}{d\\sigma} \\frac{dx^\\nu}{d\\sigma}}$$"
   ]
  },
  {
   "cell_type": "markdown",
   "metadata": {},
   "source": [
    "Esto define una acción asociada al lagrangiano:\n",
    "\n",
    "$$ \\mathcal{L} = \\frac{1}{c} \\sqrt{-g_{\\mu\\nu} \\frac{dx^\\mu}{d\\sigma} \\frac{dx^\\nu}{d\\sigma}}$$"
   ]
  },
  {
   "cell_type": "markdown",
   "metadata": {},
   "source": [
    "Por las ecuaciones de Euler-Lagrange:\n",
    "\n",
    "$$ -\\frac{d}{d\\sigma} \\left( \\frac{\\partial \\mathcal{L}}{\\partial \\left( \\frac{dx^\\mu}{d\\sigma} \\right)} \\right) + \\frac{\\partial \\mathcal{L}}{\\partial x^\\mu} = 0$$"
   ]
  },
  {
   "cell_type": "markdown",
   "metadata": {},
   "source": [
    "Puede escribierse:\n",
    "\n",
    "$$ \\mathcal{L} = \\frac{d\\tau}{d\\sigma}$$"
   ]
  },
  {
   "cell_type": "markdown",
   "metadata": {},
   "source": [
    "La geodesica resulta:\n",
    "\n",
    "$$ \\frac{d^2 x^\\mu}{d\\tau^2} + \\Gamma^\\mu_{\\nu\\lambda} \\frac{dx^\\nu}{d\\tau} \\frac{dx^\\lambda}{d\\tau} = 0$$"
   ]
  },
  {
   "cell_type": "markdown",
   "metadata": {},
   "source": [
    "En donde $\\Gamma^\\mu_{\\nu\\lambda}$ son los símbolos de Christoffel:\n",
    "\n",
    "$$ g_{\\mu\\nu} \\Gamma^\\mu_{\\nu\\lambda} = \\frac{1}{2} \\left( \\frac{\\partial g_{\\nu\\lambda}}{\\partial x^\\mu} + \\frac{\\partial g_{\\mu\\lambda}}{\\partial x^\\nu} - \\frac{\\partial g_{\\mu\\nu}}{\\partial x^\\lambda} \\right)$$"
   ]
  },
  {
   "cell_type": "markdown",
   "metadata": {},
   "source": [
    "Para la métrica de Schwarzschild:\n",
    "\n",
    "$$ ds^2 = - \\left(1 - \\frac{2GM}{c^2r}\\right)(cdt)^2 + \\left(1 - \\frac{2GM}{c^2r}\\right)^{-1} dr^2 + r^2 d\\Omega^2$$"
   ]
  },
  {
   "cell_type": "markdown",
   "metadata": {},
   "source": [
    "La metrica sera:\n",
    "\n",
    "$$ g_{\\mu\\nu} = \\begin{pmatrix} -\\left(1 - \\frac{2GM}{c^2r}\\right) & 0 & 0 & 0 \\\\ 0 & \\left(1 - \\frac{2GM}{c^2r}\\right)^{-1} & 0 & 0 \\\\ 0 & 0 & r^2 & 0 \\\\ 0 & 0 & 0 & r^2 \\sin^2 \\theta \\end{pmatrix}$$\n"
   ]
  },
  {
   "cell_type": "markdown",
   "metadata": {},
   "source": []
  }
 ],
 "metadata": {
  "language_info": {
   "name": "python"
  }
 },
 "nbformat": 4,
 "nbformat_minor": 2
}
